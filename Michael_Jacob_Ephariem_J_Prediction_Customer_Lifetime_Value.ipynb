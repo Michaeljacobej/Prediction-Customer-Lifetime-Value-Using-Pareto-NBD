{
  "nbformat": 4,
  "nbformat_minor": 0,
  "metadata": {
    "colab": {
      "name": "Michael Jacob Ephariem J-Prediction Customer Lifetime Value",
      "provenance": [],
      "collapsed_sections": [],
      "toc_visible": true
    },
    "kernelspec": {
      "display_name": "Python 3",
      "name": "python3"
    },
    "language_info": {
      "name": "python"
    }
  },
  "cells": [
    {
      "cell_type": "markdown",
      "metadata": {
        "id": "H-o_PS_RCxsn"
      },
      "source": [
        "# **Customer Lifetime Value**"
      ]
    },
    {
      "cell_type": "markdown",
      "metadata": {
        "id": "2uukRD2Zn8gn"
      },
      "source": [
        "Final Project by Michael Jacob Ephariem Jehuda"
      ]
    },
    {
      "cell_type": "markdown",
      "metadata": {
        "id": "HtUk0CVmq21X"
      },
      "source": [
        "<p align=\"center\">\n",
        "<img src=\"https://play-lh.googleusercontent.com/eLn6Svquso2kBcoMFvuO9EEjHF9i7aaUr-rwedUOSl4FwrNWX8tqhZBLr1nWDSZkNQ=w720-h310-rw\" srcset=\"https://play-lh.googleusercontent.com/eLn6Svquso2kBcoMFvuO9EEjHF9i7aaUr-rwedUOSl4FwrNWX8tqhZBLr1nWDSZkNQ=w1440-h620-rw 2x\" class=\"T75of DYfLw\" aria-hidden=\"true\" data-atf=\"false\" data-iml=\"791\">\n",
        "</p>"
      ]
    },
    {
      "cell_type": "markdown",
      "metadata": {
        "id": "8rMG4ZMLsKkB"
      },
      "source": [
        "# **Business background**"
      ]
    },
    {
      "cell_type": "markdown",
      "metadata": {
        "id": "wtgevsm_ris9"
      },
      "source": [
        "\n",
        "\n",
        "*   The olist store is a sales model in which your products are displayed and marketed within olist on the largest marketplaces in Brazil and other relevant e-commerces.\n",
        "\n",
        "\n",
        "*   The olist store understand that customers are their most important asset and that it is imperative to estimate the potential value of this asset. \n",
        "\n",
        "\n",
        "*   Currently, there is an escalating demand for web services and web applications, along with continuous growth in worldwide commercial application. the olist store realize that they must be able to measure the value of their web customers, i.e. the expected profit that will be derived from the relationship with web customers from the present until a specified period in the future. \n",
        "\n",
        "\n",
        "*   So to solve this problem issues the olist store need The ability to accurately predict value of a company’s customers that has a large impact to achieve long-term gain.\n",
        "\n",
        "\n"
      ]
    },
    {
      "cell_type": "markdown",
      "metadata": {
        "id": "P_pWPiWQsJbY"
      },
      "source": [
        "# **Problem Statement**"
      ]
    },
    {
      "cell_type": "markdown",
      "metadata": {
        "id": "_I3zwdwKsn1q"
      },
      "source": [
        "- which customers have the highest spend probability in next 365-days?\n",
        "\n",
        "- whats your action and recomenddation for customer churn?\n",
        "\n",
        "- which customers have the lowest spend probability in next 365-days\n"
      ]
    },
    {
      "cell_type": "markdown",
      "metadata": {
        "id": "UMdv6Vddumjb"
      },
      "source": [
        "# Import Library & Load Dataset"
      ]
    },
    {
      "cell_type": "code",
      "metadata": {
        "colab": {
          "base_uri": "https://localhost:8080/"
        },
        "id": "ucmNP14C1EQG",
        "outputId": "898b6920-8b87-4ce2-cea2-3ee81773ce21"
      },
      "source": [
        "!pip install lifetimes"
      ],
      "execution_count": null,
      "outputs": [
        {
          "output_type": "stream",
          "name": "stdout",
          "text": [
            "Collecting lifetimes\n",
            "  Downloading Lifetimes-0.11.3-py3-none-any.whl (584 kB)\n",
            "\u001b[?25l\r\u001b[K     |▋                               | 10 kB 13.9 MB/s eta 0:00:01\r\u001b[K     |█▏                              | 20 kB 10.7 MB/s eta 0:00:01\r\u001b[K     |█▊                              | 30 kB 6.5 MB/s eta 0:00:01\r\u001b[K     |██▎                             | 40 kB 5.9 MB/s eta 0:00:01\r\u001b[K     |██▉                             | 51 kB 5.2 MB/s eta 0:00:01\r\u001b[K     |███▍                            | 61 kB 4.8 MB/s eta 0:00:01\r\u001b[K     |████                            | 71 kB 4.2 MB/s eta 0:00:01\r\u001b[K     |████▌                           | 81 kB 4.8 MB/s eta 0:00:01\r\u001b[K     |█████                           | 92 kB 4.7 MB/s eta 0:00:01\r\u001b[K     |█████▋                          | 102 kB 5.0 MB/s eta 0:00:01\r\u001b[K     |██████▏                         | 112 kB 5.0 MB/s eta 0:00:01\r\u001b[K     |██████▊                         | 122 kB 5.0 MB/s eta 0:00:01\r\u001b[K     |███████▎                        | 133 kB 5.0 MB/s eta 0:00:01\r\u001b[K     |███████▉                        | 143 kB 5.0 MB/s eta 0:00:01\r\u001b[K     |████████▍                       | 153 kB 5.0 MB/s eta 0:00:01\r\u001b[K     |█████████                       | 163 kB 5.0 MB/s eta 0:00:01\r\u001b[K     |█████████▌                      | 174 kB 5.0 MB/s eta 0:00:01\r\u001b[K     |██████████                      | 184 kB 5.0 MB/s eta 0:00:01\r\u001b[K     |██████████▋                     | 194 kB 5.0 MB/s eta 0:00:01\r\u001b[K     |███████████▏                    | 204 kB 5.0 MB/s eta 0:00:01\r\u001b[K     |███████████▉                    | 215 kB 5.0 MB/s eta 0:00:01\r\u001b[K     |████████████▍                   | 225 kB 5.0 MB/s eta 0:00:01\r\u001b[K     |█████████████                   | 235 kB 5.0 MB/s eta 0:00:01\r\u001b[K     |█████████████▌                  | 245 kB 5.0 MB/s eta 0:00:01\r\u001b[K     |██████████████                  | 256 kB 5.0 MB/s eta 0:00:01\r\u001b[K     |██████████████▋                 | 266 kB 5.0 MB/s eta 0:00:01\r\u001b[K     |███████████████▏                | 276 kB 5.0 MB/s eta 0:00:01\r\u001b[K     |███████████████▊                | 286 kB 5.0 MB/s eta 0:00:01\r\u001b[K     |████████████████▎               | 296 kB 5.0 MB/s eta 0:00:01\r\u001b[K     |████████████████▉               | 307 kB 5.0 MB/s eta 0:00:01\r\u001b[K     |█████████████████▍              | 317 kB 5.0 MB/s eta 0:00:01\r\u001b[K     |██████████████████              | 327 kB 5.0 MB/s eta 0:00:01\r\u001b[K     |██████████████████▌             | 337 kB 5.0 MB/s eta 0:00:01\r\u001b[K     |███████████████████             | 348 kB 5.0 MB/s eta 0:00:01\r\u001b[K     |███████████████████▋            | 358 kB 5.0 MB/s eta 0:00:01\r\u001b[K     |████████████████████▏           | 368 kB 5.0 MB/s eta 0:00:01\r\u001b[K     |████████████████████▊           | 378 kB 5.0 MB/s eta 0:00:01\r\u001b[K     |█████████████████████▎          | 389 kB 5.0 MB/s eta 0:00:01\r\u001b[K     |█████████████████████▉          | 399 kB 5.0 MB/s eta 0:00:01\r\u001b[K     |██████████████████████▍         | 409 kB 5.0 MB/s eta 0:00:01\r\u001b[K     |███████████████████████         | 419 kB 5.0 MB/s eta 0:00:01\r\u001b[K     |███████████████████████▋        | 430 kB 5.0 MB/s eta 0:00:01\r\u001b[K     |████████████████████████▏       | 440 kB 5.0 MB/s eta 0:00:01\r\u001b[K     |████████████████████████▊       | 450 kB 5.0 MB/s eta 0:00:01\r\u001b[K     |█████████████████████████▎      | 460 kB 5.0 MB/s eta 0:00:01\r\u001b[K     |█████████████████████████▉      | 471 kB 5.0 MB/s eta 0:00:01\r\u001b[K     |██████████████████████████▍     | 481 kB 5.0 MB/s eta 0:00:01\r\u001b[K     |███████████████████████████     | 491 kB 5.0 MB/s eta 0:00:01\r\u001b[K     |███████████████████████████▌    | 501 kB 5.0 MB/s eta 0:00:01\r\u001b[K     |████████████████████████████    | 512 kB 5.0 MB/s eta 0:00:01\r\u001b[K     |████████████████████████████▋   | 522 kB 5.0 MB/s eta 0:00:01\r\u001b[K     |█████████████████████████████▏  | 532 kB 5.0 MB/s eta 0:00:01\r\u001b[K     |█████████████████████████████▊  | 542 kB 5.0 MB/s eta 0:00:01\r\u001b[K     |██████████████████████████████▎ | 552 kB 5.0 MB/s eta 0:00:01\r\u001b[K     |██████████████████████████████▉ | 563 kB 5.0 MB/s eta 0:00:01\r\u001b[K     |███████████████████████████████▍| 573 kB 5.0 MB/s eta 0:00:01\r\u001b[K     |████████████████████████████████| 583 kB 5.0 MB/s eta 0:00:01\r\u001b[K     |████████████████████████████████| 584 kB 5.0 MB/s \n",
            "\u001b[?25hRequirement already satisfied: dill>=0.2.6 in /usr/local/lib/python3.7/dist-packages (from lifetimes) (0.3.4)\n",
            "Requirement already satisfied: autograd>=1.2.0 in /usr/local/lib/python3.7/dist-packages (from lifetimes) (1.3)\n",
            "Requirement already satisfied: pandas>=0.24.0 in /usr/local/lib/python3.7/dist-packages (from lifetimes) (1.1.5)\n",
            "Requirement already satisfied: scipy>=1.0.0 in /usr/local/lib/python3.7/dist-packages (from lifetimes) (1.4.1)\n",
            "Requirement already satisfied: numpy>=1.10.0 in /usr/local/lib/python3.7/dist-packages (from lifetimes) (1.19.5)\n",
            "Requirement already satisfied: future>=0.15.2 in /usr/local/lib/python3.7/dist-packages (from autograd>=1.2.0->lifetimes) (0.16.0)\n",
            "Requirement already satisfied: python-dateutil>=2.7.3 in /usr/local/lib/python3.7/dist-packages (from pandas>=0.24.0->lifetimes) (2.8.2)\n",
            "Requirement already satisfied: pytz>=2017.2 in /usr/local/lib/python3.7/dist-packages (from pandas>=0.24.0->lifetimes) (2018.9)\n",
            "Requirement already satisfied: six>=1.5 in /usr/local/lib/python3.7/dist-packages (from python-dateutil>=2.7.3->pandas>=0.24.0->lifetimes) (1.15.0)\n",
            "Installing collected packages: lifetimes\n",
            "Successfully installed lifetimes-0.11.3\n"
          ]
        }
      ]
    },
    {
      "cell_type": "code",
      "metadata": {
        "id": "SkO4iJI5jKGc"
      },
      "source": [
        "#importing necessary libraries\n",
        "import matplotlib.pyplot as plt\n",
        "import pandas as pd\n",
        "import numpy as np\n",
        "import seaborn as sns\n",
        "import plotly.express as px\n",
        "import xlrd\n",
        "import pandas as pd\n",
        "import datetime\n",
        "import lifetimes\n",
        "\n",
        "from lifetimes.plotting import plot_frequency_recency_matrix\n",
        "from lifetimes.plotting import plot_probability_alive_matrix\n",
        "from lifetimes.plotting import plot_period_transactions\n",
        "from lifetimes.utils import calibration_and_holdout_data\n",
        "from lifetimes.plotting import *\n",
        "from sklearn.metrics import mean_squared_error\n",
        "from math import sqrt\n",
        "from lifetimes import ParetoNBDFitter\n",
        "from lifetimes.plotting import plot_history_alive\n",
        "import pickle\n",
        "import warnings\n",
        "from sklearn.metrics import mean_squared_error, r2_score\n",
        "\n",
        "warnings.filterwarnings(\"ignore\")\n",
        "sns.set_theme(style = \"darkgrid\")"
      ],
      "execution_count": null,
      "outputs": []
    },
    {
      "cell_type": "code",
      "metadata": {
        "id": "XHUVBD9Y0xIm",
        "colab": {
          "base_uri": "https://localhost:8080/"
        },
        "outputId": "0bbe559e-d060-48f1-d001-14227ace2b85"
      },
      "source": [
        "from google.colab import drive\n",
        "drive.mount('/content/gdrive')"
      ],
      "execution_count": null,
      "outputs": [
        {
          "output_type": "stream",
          "name": "stdout",
          "text": [
            "Mounted at /content/gdrive\n"
          ]
        }
      ]
    },
    {
      "cell_type": "code",
      "metadata": {
        "id": "UILJa4n307Pf",
        "colab": {
          "base_uri": "https://localhost:8080/"
        },
        "outputId": "6a663f7d-c909-4be3-f8bb-a39f1d6accea"
      },
      "source": [
        "%cd /content/gdrive/MyDrive/Colab Notebooks/Final Project Dibimbing"
      ],
      "execution_count": null,
      "outputs": [
        {
          "output_type": "stream",
          "name": "stdout",
          "text": [
            "/content/gdrive/MyDrive/Colab Notebooks/Final Project Dibimbing\n"
          ]
        }
      ]
    },
    {
      "cell_type": "code",
      "metadata": {
        "id": "Oqk_3RbF1YnQ"
      },
      "source": [
        "df_customers = pd.read_csv(\"olist_customers_dataset.csv\")\n",
        "df_orders = pd.read_csv('olist_orders_dataset.csv')\n",
        "df_items = pd.read_csv('olist_order_items_dataset.csv')\n",
        "\n"
      ],
      "execution_count": null,
      "outputs": []
    },
    {
      "cell_type": "code",
      "metadata": {
        "id": "Ae-HTul0Parl",
        "colab": {
          "base_uri": "https://localhost:8080/",
          "height": 437
        },
        "outputId": "4fb00808-3f83-4994-f77f-56167bad101f"
      },
      "source": [
        "df_items"
      ],
      "execution_count": null,
      "outputs": [
        {
          "output_type": "execute_result",
          "data": {
            "text/html": [
              "<div>\n",
              "<style scoped>\n",
              "    .dataframe tbody tr th:only-of-type {\n",
              "        vertical-align: middle;\n",
              "    }\n",
              "\n",
              "    .dataframe tbody tr th {\n",
              "        vertical-align: top;\n",
              "    }\n",
              "\n",
              "    .dataframe thead th {\n",
              "        text-align: right;\n",
              "    }\n",
              "</style>\n",
              "<table border=\"1\" class=\"dataframe\">\n",
              "  <thead>\n",
              "    <tr style=\"text-align: right;\">\n",
              "      <th></th>\n",
              "      <th>order_id</th>\n",
              "      <th>order_item_id</th>\n",
              "      <th>product_id</th>\n",
              "      <th>seller_id</th>\n",
              "      <th>shipping_limit_date</th>\n",
              "      <th>price</th>\n",
              "      <th>freight_value</th>\n",
              "    </tr>\n",
              "  </thead>\n",
              "  <tbody>\n",
              "    <tr>\n",
              "      <th>0</th>\n",
              "      <td>00010242fe8c5a6d1ba2dd792cb16214</td>\n",
              "      <td>1</td>\n",
              "      <td>4244733e06e7ecb4970a6e2683c13e61</td>\n",
              "      <td>48436dade18ac8b2bce089ec2a041202</td>\n",
              "      <td>2017-09-19 09:45:35</td>\n",
              "      <td>58.90</td>\n",
              "      <td>13.29</td>\n",
              "    </tr>\n",
              "    <tr>\n",
              "      <th>1</th>\n",
              "      <td>00018f77f2f0320c557190d7a144bdd3</td>\n",
              "      <td>1</td>\n",
              "      <td>e5f2d52b802189ee658865ca93d83a8f</td>\n",
              "      <td>dd7ddc04e1b6c2c614352b383efe2d36</td>\n",
              "      <td>2017-05-03 11:05:13</td>\n",
              "      <td>239.90</td>\n",
              "      <td>19.93</td>\n",
              "    </tr>\n",
              "    <tr>\n",
              "      <th>2</th>\n",
              "      <td>000229ec398224ef6ca0657da4fc703e</td>\n",
              "      <td>1</td>\n",
              "      <td>c777355d18b72b67abbeef9df44fd0fd</td>\n",
              "      <td>5b51032eddd242adc84c38acab88f23d</td>\n",
              "      <td>2018-01-18 14:48:30</td>\n",
              "      <td>199.00</td>\n",
              "      <td>17.87</td>\n",
              "    </tr>\n",
              "    <tr>\n",
              "      <th>3</th>\n",
              "      <td>00024acbcdf0a6daa1e931b038114c75</td>\n",
              "      <td>1</td>\n",
              "      <td>7634da152a4610f1595efa32f14722fc</td>\n",
              "      <td>9d7a1d34a5052409006425275ba1c2b4</td>\n",
              "      <td>2018-08-15 10:10:18</td>\n",
              "      <td>12.99</td>\n",
              "      <td>12.79</td>\n",
              "    </tr>\n",
              "    <tr>\n",
              "      <th>4</th>\n",
              "      <td>00042b26cf59d7ce69dfabb4e55b4fd9</td>\n",
              "      <td>1</td>\n",
              "      <td>ac6c3623068f30de03045865e4e10089</td>\n",
              "      <td>df560393f3a51e74553ab94004ba5c87</td>\n",
              "      <td>2017-02-13 13:57:51</td>\n",
              "      <td>199.90</td>\n",
              "      <td>18.14</td>\n",
              "    </tr>\n",
              "    <tr>\n",
              "      <th>...</th>\n",
              "      <td>...</td>\n",
              "      <td>...</td>\n",
              "      <td>...</td>\n",
              "      <td>...</td>\n",
              "      <td>...</td>\n",
              "      <td>...</td>\n",
              "      <td>...</td>\n",
              "    </tr>\n",
              "    <tr>\n",
              "      <th>112645</th>\n",
              "      <td>fffc94f6ce00a00581880bf54a75a037</td>\n",
              "      <td>1</td>\n",
              "      <td>4aa6014eceb682077f9dc4bffebc05b0</td>\n",
              "      <td>b8bc237ba3788b23da09c0f1f3a3288c</td>\n",
              "      <td>2018-05-02 04:11:01</td>\n",
              "      <td>299.99</td>\n",
              "      <td>43.41</td>\n",
              "    </tr>\n",
              "    <tr>\n",
              "      <th>112646</th>\n",
              "      <td>fffcd46ef2263f404302a634eb57f7eb</td>\n",
              "      <td>1</td>\n",
              "      <td>32e07fd915822b0765e448c4dd74c828</td>\n",
              "      <td>f3c38ab652836d21de61fb8314b69182</td>\n",
              "      <td>2018-07-20 04:31:48</td>\n",
              "      <td>350.00</td>\n",
              "      <td>36.53</td>\n",
              "    </tr>\n",
              "    <tr>\n",
              "      <th>112647</th>\n",
              "      <td>fffce4705a9662cd70adb13d4a31832d</td>\n",
              "      <td>1</td>\n",
              "      <td>72a30483855e2eafc67aee5dc2560482</td>\n",
              "      <td>c3cfdc648177fdbbbb35635a37472c53</td>\n",
              "      <td>2017-10-30 17:14:25</td>\n",
              "      <td>99.90</td>\n",
              "      <td>16.95</td>\n",
              "    </tr>\n",
              "    <tr>\n",
              "      <th>112648</th>\n",
              "      <td>fffe18544ffabc95dfada21779c9644f</td>\n",
              "      <td>1</td>\n",
              "      <td>9c422a519119dcad7575db5af1ba540e</td>\n",
              "      <td>2b3e4a2a3ea8e01938cabda2a3e5cc79</td>\n",
              "      <td>2017-08-21 00:04:32</td>\n",
              "      <td>55.99</td>\n",
              "      <td>8.72</td>\n",
              "    </tr>\n",
              "    <tr>\n",
              "      <th>112649</th>\n",
              "      <td>fffe41c64501cc87c801fd61db3f6244</td>\n",
              "      <td>1</td>\n",
              "      <td>350688d9dc1e75ff97be326363655e01</td>\n",
              "      <td>f7ccf836d21b2fb1de37564105216cc1</td>\n",
              "      <td>2018-06-12 17:10:13</td>\n",
              "      <td>43.00</td>\n",
              "      <td>12.79</td>\n",
              "    </tr>\n",
              "  </tbody>\n",
              "</table>\n",
              "<p>112650 rows × 7 columns</p>\n",
              "</div>"
            ],
            "text/plain": [
              "                                order_id  order_item_id  ...   price freight_value\n",
              "0       00010242fe8c5a6d1ba2dd792cb16214              1  ...   58.90         13.29\n",
              "1       00018f77f2f0320c557190d7a144bdd3              1  ...  239.90         19.93\n",
              "2       000229ec398224ef6ca0657da4fc703e              1  ...  199.00         17.87\n",
              "3       00024acbcdf0a6daa1e931b038114c75              1  ...   12.99         12.79\n",
              "4       00042b26cf59d7ce69dfabb4e55b4fd9              1  ...  199.90         18.14\n",
              "...                                  ...            ...  ...     ...           ...\n",
              "112645  fffc94f6ce00a00581880bf54a75a037              1  ...  299.99         43.41\n",
              "112646  fffcd46ef2263f404302a634eb57f7eb              1  ...  350.00         36.53\n",
              "112647  fffce4705a9662cd70adb13d4a31832d              1  ...   99.90         16.95\n",
              "112648  fffe18544ffabc95dfada21779c9644f              1  ...   55.99          8.72\n",
              "112649  fffe41c64501cc87c801fd61db3f6244              1  ...   43.00         12.79\n",
              "\n",
              "[112650 rows x 7 columns]"
            ]
          },
          "metadata": {},
          "execution_count": 6
        }
      ]
    },
    {
      "cell_type": "code",
      "metadata": {
        "id": "AtKxXVq6PYpf",
        "colab": {
          "base_uri": "https://localhost:8080/",
          "height": 437
        },
        "outputId": "9b49bc47-773b-47dc-c667-b176ca089788"
      },
      "source": [
        "df_orders"
      ],
      "execution_count": null,
      "outputs": [
        {
          "output_type": "execute_result",
          "data": {
            "text/html": [
              "<div>\n",
              "<style scoped>\n",
              "    .dataframe tbody tr th:only-of-type {\n",
              "        vertical-align: middle;\n",
              "    }\n",
              "\n",
              "    .dataframe tbody tr th {\n",
              "        vertical-align: top;\n",
              "    }\n",
              "\n",
              "    .dataframe thead th {\n",
              "        text-align: right;\n",
              "    }\n",
              "</style>\n",
              "<table border=\"1\" class=\"dataframe\">\n",
              "  <thead>\n",
              "    <tr style=\"text-align: right;\">\n",
              "      <th></th>\n",
              "      <th>order_id</th>\n",
              "      <th>customer_id</th>\n",
              "      <th>order_status</th>\n",
              "      <th>order_purchase_timestamp</th>\n",
              "      <th>order_approved_at</th>\n",
              "      <th>order_delivered_carrier_date</th>\n",
              "      <th>order_delivered_customer_date</th>\n",
              "      <th>order_estimated_delivery_date</th>\n",
              "    </tr>\n",
              "  </thead>\n",
              "  <tbody>\n",
              "    <tr>\n",
              "      <th>0</th>\n",
              "      <td>e481f51cbdc54678b7cc49136f2d6af7</td>\n",
              "      <td>9ef432eb6251297304e76186b10a928d</td>\n",
              "      <td>delivered</td>\n",
              "      <td>2017-10-02 10:56:33</td>\n",
              "      <td>2017-10-02 11:07:15</td>\n",
              "      <td>2017-10-04 19:55:00</td>\n",
              "      <td>2017-10-10 21:25:13</td>\n",
              "      <td>2017-10-18 00:00:00</td>\n",
              "    </tr>\n",
              "    <tr>\n",
              "      <th>1</th>\n",
              "      <td>53cdb2fc8bc7dce0b6741e2150273451</td>\n",
              "      <td>b0830fb4747a6c6d20dea0b8c802d7ef</td>\n",
              "      <td>delivered</td>\n",
              "      <td>2018-07-24 20:41:37</td>\n",
              "      <td>2018-07-26 03:24:27</td>\n",
              "      <td>2018-07-26 14:31:00</td>\n",
              "      <td>2018-08-07 15:27:45</td>\n",
              "      <td>2018-08-13 00:00:00</td>\n",
              "    </tr>\n",
              "    <tr>\n",
              "      <th>2</th>\n",
              "      <td>47770eb9100c2d0c44946d9cf07ec65d</td>\n",
              "      <td>41ce2a54c0b03bf3443c3d931a367089</td>\n",
              "      <td>delivered</td>\n",
              "      <td>2018-08-08 08:38:49</td>\n",
              "      <td>2018-08-08 08:55:23</td>\n",
              "      <td>2018-08-08 13:50:00</td>\n",
              "      <td>2018-08-17 18:06:29</td>\n",
              "      <td>2018-09-04 00:00:00</td>\n",
              "    </tr>\n",
              "    <tr>\n",
              "      <th>3</th>\n",
              "      <td>949d5b44dbf5de918fe9c16f97b45f8a</td>\n",
              "      <td>f88197465ea7920adcdbec7375364d82</td>\n",
              "      <td>delivered</td>\n",
              "      <td>2017-11-18 19:28:06</td>\n",
              "      <td>2017-11-18 19:45:59</td>\n",
              "      <td>2017-11-22 13:39:59</td>\n",
              "      <td>2017-12-02 00:28:42</td>\n",
              "      <td>2017-12-15 00:00:00</td>\n",
              "    </tr>\n",
              "    <tr>\n",
              "      <th>4</th>\n",
              "      <td>ad21c59c0840e6cb83a9ceb5573f8159</td>\n",
              "      <td>8ab97904e6daea8866dbdbc4fb7aad2c</td>\n",
              "      <td>delivered</td>\n",
              "      <td>2018-02-13 21:18:39</td>\n",
              "      <td>2018-02-13 22:20:29</td>\n",
              "      <td>2018-02-14 19:46:34</td>\n",
              "      <td>2018-02-16 18:17:02</td>\n",
              "      <td>2018-02-26 00:00:00</td>\n",
              "    </tr>\n",
              "    <tr>\n",
              "      <th>...</th>\n",
              "      <td>...</td>\n",
              "      <td>...</td>\n",
              "      <td>...</td>\n",
              "      <td>...</td>\n",
              "      <td>...</td>\n",
              "      <td>...</td>\n",
              "      <td>...</td>\n",
              "      <td>...</td>\n",
              "    </tr>\n",
              "    <tr>\n",
              "      <th>99436</th>\n",
              "      <td>9c5dedf39a927c1b2549525ed64a053c</td>\n",
              "      <td>39bd1228ee8140590ac3aca26f2dfe00</td>\n",
              "      <td>delivered</td>\n",
              "      <td>2017-03-09 09:54:05</td>\n",
              "      <td>2017-03-09 09:54:05</td>\n",
              "      <td>2017-03-10 11:18:03</td>\n",
              "      <td>2017-03-17 15:08:01</td>\n",
              "      <td>2017-03-28 00:00:00</td>\n",
              "    </tr>\n",
              "    <tr>\n",
              "      <th>99437</th>\n",
              "      <td>63943bddc261676b46f01ca7ac2f7bd8</td>\n",
              "      <td>1fca14ff2861355f6e5f14306ff977a7</td>\n",
              "      <td>delivered</td>\n",
              "      <td>2018-02-06 12:58:58</td>\n",
              "      <td>2018-02-06 13:10:37</td>\n",
              "      <td>2018-02-07 23:22:42</td>\n",
              "      <td>2018-02-28 17:37:56</td>\n",
              "      <td>2018-03-02 00:00:00</td>\n",
              "    </tr>\n",
              "    <tr>\n",
              "      <th>99438</th>\n",
              "      <td>83c1379a015df1e13d02aae0204711ab</td>\n",
              "      <td>1aa71eb042121263aafbe80c1b562c9c</td>\n",
              "      <td>delivered</td>\n",
              "      <td>2017-08-27 14:46:43</td>\n",
              "      <td>2017-08-27 15:04:16</td>\n",
              "      <td>2017-08-28 20:52:26</td>\n",
              "      <td>2017-09-21 11:24:17</td>\n",
              "      <td>2017-09-27 00:00:00</td>\n",
              "    </tr>\n",
              "    <tr>\n",
              "      <th>99439</th>\n",
              "      <td>11c177c8e97725db2631073c19f07b62</td>\n",
              "      <td>b331b74b18dc79bcdf6532d51e1637c1</td>\n",
              "      <td>delivered</td>\n",
              "      <td>2018-01-08 21:28:27</td>\n",
              "      <td>2018-01-08 21:36:21</td>\n",
              "      <td>2018-01-12 15:35:03</td>\n",
              "      <td>2018-01-25 23:32:54</td>\n",
              "      <td>2018-02-15 00:00:00</td>\n",
              "    </tr>\n",
              "    <tr>\n",
              "      <th>99440</th>\n",
              "      <td>66dea50a8b16d9b4dee7af250b4be1a5</td>\n",
              "      <td>edb027a75a1449115f6b43211ae02a24</td>\n",
              "      <td>delivered</td>\n",
              "      <td>2018-03-08 20:57:30</td>\n",
              "      <td>2018-03-09 11:20:28</td>\n",
              "      <td>2018-03-09 22:11:59</td>\n",
              "      <td>2018-03-16 13:08:30</td>\n",
              "      <td>2018-04-03 00:00:00</td>\n",
              "    </tr>\n",
              "  </tbody>\n",
              "</table>\n",
              "<p>99441 rows × 8 columns</p>\n",
              "</div>"
            ],
            "text/plain": [
              "                               order_id  ... order_estimated_delivery_date\n",
              "0      e481f51cbdc54678b7cc49136f2d6af7  ...           2017-10-18 00:00:00\n",
              "1      53cdb2fc8bc7dce0b6741e2150273451  ...           2018-08-13 00:00:00\n",
              "2      47770eb9100c2d0c44946d9cf07ec65d  ...           2018-09-04 00:00:00\n",
              "3      949d5b44dbf5de918fe9c16f97b45f8a  ...           2017-12-15 00:00:00\n",
              "4      ad21c59c0840e6cb83a9ceb5573f8159  ...           2018-02-26 00:00:00\n",
              "...                                 ...  ...                           ...\n",
              "99436  9c5dedf39a927c1b2549525ed64a053c  ...           2017-03-28 00:00:00\n",
              "99437  63943bddc261676b46f01ca7ac2f7bd8  ...           2018-03-02 00:00:00\n",
              "99438  83c1379a015df1e13d02aae0204711ab  ...           2017-09-27 00:00:00\n",
              "99439  11c177c8e97725db2631073c19f07b62  ...           2018-02-15 00:00:00\n",
              "99440  66dea50a8b16d9b4dee7af250b4be1a5  ...           2018-04-03 00:00:00\n",
              "\n",
              "[99441 rows x 8 columns]"
            ]
          },
          "metadata": {},
          "execution_count": 7
        }
      ]
    },
    {
      "cell_type": "code",
      "metadata": {
        "id": "pdSHXtxr0L9b",
        "colab": {
          "base_uri": "https://localhost:8080/",
          "height": 417
        },
        "outputId": "8f46ee6a-4ecb-4e75-b152-e04243214fb4"
      },
      "source": [
        "df_customers"
      ],
      "execution_count": null,
      "outputs": [
        {
          "output_type": "execute_result",
          "data": {
            "text/html": [
              "<div>\n",
              "<style scoped>\n",
              "    .dataframe tbody tr th:only-of-type {\n",
              "        vertical-align: middle;\n",
              "    }\n",
              "\n",
              "    .dataframe tbody tr th {\n",
              "        vertical-align: top;\n",
              "    }\n",
              "\n",
              "    .dataframe thead th {\n",
              "        text-align: right;\n",
              "    }\n",
              "</style>\n",
              "<table border=\"1\" class=\"dataframe\">\n",
              "  <thead>\n",
              "    <tr style=\"text-align: right;\">\n",
              "      <th></th>\n",
              "      <th>customer_id</th>\n",
              "      <th>customer_unique_id</th>\n",
              "      <th>customer_zip_code_prefix</th>\n",
              "      <th>customer_city</th>\n",
              "      <th>customer_state</th>\n",
              "    </tr>\n",
              "  </thead>\n",
              "  <tbody>\n",
              "    <tr>\n",
              "      <th>0</th>\n",
              "      <td>06b8999e2fba1a1fbc88172c00ba8bc7</td>\n",
              "      <td>861eff4711a542e4b93843c6dd7febb0</td>\n",
              "      <td>14409</td>\n",
              "      <td>franca</td>\n",
              "      <td>SP</td>\n",
              "    </tr>\n",
              "    <tr>\n",
              "      <th>1</th>\n",
              "      <td>18955e83d337fd6b2def6b18a428ac77</td>\n",
              "      <td>290c77bc529b7ac935b93aa66c333dc3</td>\n",
              "      <td>9790</td>\n",
              "      <td>sao bernardo do campo</td>\n",
              "      <td>SP</td>\n",
              "    </tr>\n",
              "    <tr>\n",
              "      <th>2</th>\n",
              "      <td>4e7b3e00288586ebd08712fdd0374a03</td>\n",
              "      <td>060e732b5b29e8181a18229c7b0b2b5e</td>\n",
              "      <td>1151</td>\n",
              "      <td>sao paulo</td>\n",
              "      <td>SP</td>\n",
              "    </tr>\n",
              "    <tr>\n",
              "      <th>3</th>\n",
              "      <td>b2b6027bc5c5109e529d4dc6358b12c3</td>\n",
              "      <td>259dac757896d24d7702b9acbbff3f3c</td>\n",
              "      <td>8775</td>\n",
              "      <td>mogi das cruzes</td>\n",
              "      <td>SP</td>\n",
              "    </tr>\n",
              "    <tr>\n",
              "      <th>4</th>\n",
              "      <td>4f2d8ab171c80ec8364f7c12e35b23ad</td>\n",
              "      <td>345ecd01c38d18a9036ed96c73b8d066</td>\n",
              "      <td>13056</td>\n",
              "      <td>campinas</td>\n",
              "      <td>SP</td>\n",
              "    </tr>\n",
              "    <tr>\n",
              "      <th>...</th>\n",
              "      <td>...</td>\n",
              "      <td>...</td>\n",
              "      <td>...</td>\n",
              "      <td>...</td>\n",
              "      <td>...</td>\n",
              "    </tr>\n",
              "    <tr>\n",
              "      <th>99436</th>\n",
              "      <td>17ddf5dd5d51696bb3d7c6291687be6f</td>\n",
              "      <td>1a29b476fee25c95fbafc67c5ac95cf8</td>\n",
              "      <td>3937</td>\n",
              "      <td>sao paulo</td>\n",
              "      <td>SP</td>\n",
              "    </tr>\n",
              "    <tr>\n",
              "      <th>99437</th>\n",
              "      <td>e7b71a9017aa05c9a7fd292d714858e8</td>\n",
              "      <td>d52a67c98be1cf6a5c84435bd38d095d</td>\n",
              "      <td>6764</td>\n",
              "      <td>taboao da serra</td>\n",
              "      <td>SP</td>\n",
              "    </tr>\n",
              "    <tr>\n",
              "      <th>99438</th>\n",
              "      <td>5e28dfe12db7fb50a4b2f691faecea5e</td>\n",
              "      <td>e9f50caf99f032f0bf3c55141f019d99</td>\n",
              "      <td>60115</td>\n",
              "      <td>fortaleza</td>\n",
              "      <td>CE</td>\n",
              "    </tr>\n",
              "    <tr>\n",
              "      <th>99439</th>\n",
              "      <td>56b18e2166679b8a959d72dd06da27f9</td>\n",
              "      <td>73c2643a0a458b49f58cea58833b192e</td>\n",
              "      <td>92120</td>\n",
              "      <td>canoas</td>\n",
              "      <td>RS</td>\n",
              "    </tr>\n",
              "    <tr>\n",
              "      <th>99440</th>\n",
              "      <td>274fa6071e5e17fe303b9748641082c8</td>\n",
              "      <td>84732c5050c01db9b23e19ba39899398</td>\n",
              "      <td>6703</td>\n",
              "      <td>cotia</td>\n",
              "      <td>SP</td>\n",
              "    </tr>\n",
              "  </tbody>\n",
              "</table>\n",
              "<p>99441 rows × 5 columns</p>\n",
              "</div>"
            ],
            "text/plain": [
              "                            customer_id  ... customer_state\n",
              "0      06b8999e2fba1a1fbc88172c00ba8bc7  ...             SP\n",
              "1      18955e83d337fd6b2def6b18a428ac77  ...             SP\n",
              "2      4e7b3e00288586ebd08712fdd0374a03  ...             SP\n",
              "3      b2b6027bc5c5109e529d4dc6358b12c3  ...             SP\n",
              "4      4f2d8ab171c80ec8364f7c12e35b23ad  ...             SP\n",
              "...                                 ...  ...            ...\n",
              "99436  17ddf5dd5d51696bb3d7c6291687be6f  ...             SP\n",
              "99437  e7b71a9017aa05c9a7fd292d714858e8  ...             SP\n",
              "99438  5e28dfe12db7fb50a4b2f691faecea5e  ...             CE\n",
              "99439  56b18e2166679b8a959d72dd06da27f9  ...             RS\n",
              "99440  274fa6071e5e17fe303b9748641082c8  ...             SP\n",
              "\n",
              "[99441 rows x 5 columns]"
            ]
          },
          "metadata": {},
          "execution_count": 8
        }
      ]
    },
    {
      "cell_type": "markdown",
      "metadata": {
        "id": "yF_kT6ir2lyb"
      },
      "source": [
        "# Data Cleaning"
      ]
    },
    {
      "cell_type": "markdown",
      "metadata": {
        "id": "rf9z-P-CQu8z"
      },
      "source": [
        "## Delete unecessary column"
      ]
    },
    {
      "cell_type": "code",
      "metadata": {
        "id": "kQmleQ8eRGyQ",
        "colab": {
          "base_uri": "https://localhost:8080/",
          "height": 447
        },
        "outputId": "b3f780e7-85db-47da-cee7-a8eb93a6e144"
      },
      "source": [
        "customers=df_customers[['customer_id','customer_unique_id','customer_city']].set_index('customer_id')\n",
        "customers"
      ],
      "execution_count": null,
      "outputs": [
        {
          "output_type": "execute_result",
          "data": {
            "text/html": [
              "<div>\n",
              "<style scoped>\n",
              "    .dataframe tbody tr th:only-of-type {\n",
              "        vertical-align: middle;\n",
              "    }\n",
              "\n",
              "    .dataframe tbody tr th {\n",
              "        vertical-align: top;\n",
              "    }\n",
              "\n",
              "    .dataframe thead th {\n",
              "        text-align: right;\n",
              "    }\n",
              "</style>\n",
              "<table border=\"1\" class=\"dataframe\">\n",
              "  <thead>\n",
              "    <tr style=\"text-align: right;\">\n",
              "      <th></th>\n",
              "      <th>customer_unique_id</th>\n",
              "      <th>customer_city</th>\n",
              "    </tr>\n",
              "    <tr>\n",
              "      <th>customer_id</th>\n",
              "      <th></th>\n",
              "      <th></th>\n",
              "    </tr>\n",
              "  </thead>\n",
              "  <tbody>\n",
              "    <tr>\n",
              "      <th>06b8999e2fba1a1fbc88172c00ba8bc7</th>\n",
              "      <td>861eff4711a542e4b93843c6dd7febb0</td>\n",
              "      <td>franca</td>\n",
              "    </tr>\n",
              "    <tr>\n",
              "      <th>18955e83d337fd6b2def6b18a428ac77</th>\n",
              "      <td>290c77bc529b7ac935b93aa66c333dc3</td>\n",
              "      <td>sao bernardo do campo</td>\n",
              "    </tr>\n",
              "    <tr>\n",
              "      <th>4e7b3e00288586ebd08712fdd0374a03</th>\n",
              "      <td>060e732b5b29e8181a18229c7b0b2b5e</td>\n",
              "      <td>sao paulo</td>\n",
              "    </tr>\n",
              "    <tr>\n",
              "      <th>b2b6027bc5c5109e529d4dc6358b12c3</th>\n",
              "      <td>259dac757896d24d7702b9acbbff3f3c</td>\n",
              "      <td>mogi das cruzes</td>\n",
              "    </tr>\n",
              "    <tr>\n",
              "      <th>4f2d8ab171c80ec8364f7c12e35b23ad</th>\n",
              "      <td>345ecd01c38d18a9036ed96c73b8d066</td>\n",
              "      <td>campinas</td>\n",
              "    </tr>\n",
              "    <tr>\n",
              "      <th>...</th>\n",
              "      <td>...</td>\n",
              "      <td>...</td>\n",
              "    </tr>\n",
              "    <tr>\n",
              "      <th>17ddf5dd5d51696bb3d7c6291687be6f</th>\n",
              "      <td>1a29b476fee25c95fbafc67c5ac95cf8</td>\n",
              "      <td>sao paulo</td>\n",
              "    </tr>\n",
              "    <tr>\n",
              "      <th>e7b71a9017aa05c9a7fd292d714858e8</th>\n",
              "      <td>d52a67c98be1cf6a5c84435bd38d095d</td>\n",
              "      <td>taboao da serra</td>\n",
              "    </tr>\n",
              "    <tr>\n",
              "      <th>5e28dfe12db7fb50a4b2f691faecea5e</th>\n",
              "      <td>e9f50caf99f032f0bf3c55141f019d99</td>\n",
              "      <td>fortaleza</td>\n",
              "    </tr>\n",
              "    <tr>\n",
              "      <th>56b18e2166679b8a959d72dd06da27f9</th>\n",
              "      <td>73c2643a0a458b49f58cea58833b192e</td>\n",
              "      <td>canoas</td>\n",
              "    </tr>\n",
              "    <tr>\n",
              "      <th>274fa6071e5e17fe303b9748641082c8</th>\n",
              "      <td>84732c5050c01db9b23e19ba39899398</td>\n",
              "      <td>cotia</td>\n",
              "    </tr>\n",
              "  </tbody>\n",
              "</table>\n",
              "<p>99441 rows × 2 columns</p>\n",
              "</div>"
            ],
            "text/plain": [
              "                                                customer_unique_id          customer_city\n",
              "customer_id                                                                              \n",
              "06b8999e2fba1a1fbc88172c00ba8bc7  861eff4711a542e4b93843c6dd7febb0                 franca\n",
              "18955e83d337fd6b2def6b18a428ac77  290c77bc529b7ac935b93aa66c333dc3  sao bernardo do campo\n",
              "4e7b3e00288586ebd08712fdd0374a03  060e732b5b29e8181a18229c7b0b2b5e              sao paulo\n",
              "b2b6027bc5c5109e529d4dc6358b12c3  259dac757896d24d7702b9acbbff3f3c        mogi das cruzes\n",
              "4f2d8ab171c80ec8364f7c12e35b23ad  345ecd01c38d18a9036ed96c73b8d066               campinas\n",
              "...                                                            ...                    ...\n",
              "17ddf5dd5d51696bb3d7c6291687be6f  1a29b476fee25c95fbafc67c5ac95cf8              sao paulo\n",
              "e7b71a9017aa05c9a7fd292d714858e8  d52a67c98be1cf6a5c84435bd38d095d        taboao da serra\n",
              "5e28dfe12db7fb50a4b2f691faecea5e  e9f50caf99f032f0bf3c55141f019d99              fortaleza\n",
              "56b18e2166679b8a959d72dd06da27f9  73c2643a0a458b49f58cea58833b192e                 canoas\n",
              "274fa6071e5e17fe303b9748641082c8  84732c5050c01db9b23e19ba39899398                  cotia\n",
              "\n",
              "[99441 rows x 2 columns]"
            ]
          },
          "metadata": {},
          "execution_count": 9
        }
      ]
    },
    {
      "cell_type": "code",
      "metadata": {
        "id": "XE6txBgcZaIA"
      },
      "source": [
        ""
      ],
      "execution_count": null,
      "outputs": []
    },
    {
      "cell_type": "code",
      "metadata": {
        "id": "Hs_C-S9x298T",
        "colab": {
          "base_uri": "https://localhost:8080/",
          "height": 470
        },
        "outputId": "04254cab-b340-4e12-b88c-ccbe5dbe2e7a"
      },
      "source": [
        "orders=df_orders[['order_id','customer_id','order_purchase_timestamp']]\n",
        "orders = pd.merge(orders,customers,'inner','customer_id')\n",
        "orders"
      ],
      "execution_count": null,
      "outputs": [
        {
          "output_type": "execute_result",
          "data": {
            "text/html": [
              "<div>\n",
              "<style scoped>\n",
              "    .dataframe tbody tr th:only-of-type {\n",
              "        vertical-align: middle;\n",
              "    }\n",
              "\n",
              "    .dataframe tbody tr th {\n",
              "        vertical-align: top;\n",
              "    }\n",
              "\n",
              "    .dataframe thead th {\n",
              "        text-align: right;\n",
              "    }\n",
              "</style>\n",
              "<table border=\"1\" class=\"dataframe\">\n",
              "  <thead>\n",
              "    <tr style=\"text-align: right;\">\n",
              "      <th></th>\n",
              "      <th>order_id</th>\n",
              "      <th>customer_id</th>\n",
              "      <th>order_purchase_timestamp</th>\n",
              "      <th>customer_unique_id</th>\n",
              "      <th>customer_city</th>\n",
              "    </tr>\n",
              "  </thead>\n",
              "  <tbody>\n",
              "    <tr>\n",
              "      <th>0</th>\n",
              "      <td>e481f51cbdc54678b7cc49136f2d6af7</td>\n",
              "      <td>9ef432eb6251297304e76186b10a928d</td>\n",
              "      <td>2017-10-02 10:56:33</td>\n",
              "      <td>7c396fd4830fd04220f754e42b4e5bff</td>\n",
              "      <td>sao paulo</td>\n",
              "    </tr>\n",
              "    <tr>\n",
              "      <th>1</th>\n",
              "      <td>53cdb2fc8bc7dce0b6741e2150273451</td>\n",
              "      <td>b0830fb4747a6c6d20dea0b8c802d7ef</td>\n",
              "      <td>2018-07-24 20:41:37</td>\n",
              "      <td>af07308b275d755c9edb36a90c618231</td>\n",
              "      <td>barreiras</td>\n",
              "    </tr>\n",
              "    <tr>\n",
              "      <th>2</th>\n",
              "      <td>47770eb9100c2d0c44946d9cf07ec65d</td>\n",
              "      <td>41ce2a54c0b03bf3443c3d931a367089</td>\n",
              "      <td>2018-08-08 08:38:49</td>\n",
              "      <td>3a653a41f6f9fc3d2a113cf8398680e8</td>\n",
              "      <td>vianopolis</td>\n",
              "    </tr>\n",
              "    <tr>\n",
              "      <th>3</th>\n",
              "      <td>949d5b44dbf5de918fe9c16f97b45f8a</td>\n",
              "      <td>f88197465ea7920adcdbec7375364d82</td>\n",
              "      <td>2017-11-18 19:28:06</td>\n",
              "      <td>7c142cf63193a1473d2e66489a9ae977</td>\n",
              "      <td>sao goncalo do amarante</td>\n",
              "    </tr>\n",
              "    <tr>\n",
              "      <th>4</th>\n",
              "      <td>ad21c59c0840e6cb83a9ceb5573f8159</td>\n",
              "      <td>8ab97904e6daea8866dbdbc4fb7aad2c</td>\n",
              "      <td>2018-02-13 21:18:39</td>\n",
              "      <td>72632f0f9dd73dfee390c9b22eb56dd6</td>\n",
              "      <td>santo andre</td>\n",
              "    </tr>\n",
              "    <tr>\n",
              "      <th>...</th>\n",
              "      <td>...</td>\n",
              "      <td>...</td>\n",
              "      <td>...</td>\n",
              "      <td>...</td>\n",
              "      <td>...</td>\n",
              "    </tr>\n",
              "    <tr>\n",
              "      <th>99436</th>\n",
              "      <td>9c5dedf39a927c1b2549525ed64a053c</td>\n",
              "      <td>39bd1228ee8140590ac3aca26f2dfe00</td>\n",
              "      <td>2017-03-09 09:54:05</td>\n",
              "      <td>6359f309b166b0196dbf7ad2ac62bb5a</td>\n",
              "      <td>sao jose dos campos</td>\n",
              "    </tr>\n",
              "    <tr>\n",
              "      <th>99437</th>\n",
              "      <td>63943bddc261676b46f01ca7ac2f7bd8</td>\n",
              "      <td>1fca14ff2861355f6e5f14306ff977a7</td>\n",
              "      <td>2018-02-06 12:58:58</td>\n",
              "      <td>da62f9e57a76d978d02ab5362c509660</td>\n",
              "      <td>praia grande</td>\n",
              "    </tr>\n",
              "    <tr>\n",
              "      <th>99438</th>\n",
              "      <td>83c1379a015df1e13d02aae0204711ab</td>\n",
              "      <td>1aa71eb042121263aafbe80c1b562c9c</td>\n",
              "      <td>2017-08-27 14:46:43</td>\n",
              "      <td>737520a9aad80b3fbbdad19b66b37b30</td>\n",
              "      <td>nova vicosa</td>\n",
              "    </tr>\n",
              "    <tr>\n",
              "      <th>99439</th>\n",
              "      <td>11c177c8e97725db2631073c19f07b62</td>\n",
              "      <td>b331b74b18dc79bcdf6532d51e1637c1</td>\n",
              "      <td>2018-01-08 21:28:27</td>\n",
              "      <td>5097a5312c8b157bb7be58ae360ef43c</td>\n",
              "      <td>japuiba</td>\n",
              "    </tr>\n",
              "    <tr>\n",
              "      <th>99440</th>\n",
              "      <td>66dea50a8b16d9b4dee7af250b4be1a5</td>\n",
              "      <td>edb027a75a1449115f6b43211ae02a24</td>\n",
              "      <td>2018-03-08 20:57:30</td>\n",
              "      <td>60350aa974b26ff12caad89e55993bd6</td>\n",
              "      <td>lapa</td>\n",
              "    </tr>\n",
              "  </tbody>\n",
              "</table>\n",
              "<p>99441 rows × 5 columns</p>\n",
              "</div>"
            ],
            "text/plain": [
              "                               order_id  ...            customer_city\n",
              "0      e481f51cbdc54678b7cc49136f2d6af7  ...                sao paulo\n",
              "1      53cdb2fc8bc7dce0b6741e2150273451  ...                barreiras\n",
              "2      47770eb9100c2d0c44946d9cf07ec65d  ...               vianopolis\n",
              "3      949d5b44dbf5de918fe9c16f97b45f8a  ...  sao goncalo do amarante\n",
              "4      ad21c59c0840e6cb83a9ceb5573f8159  ...              santo andre\n",
              "...                                 ...  ...                      ...\n",
              "99436  9c5dedf39a927c1b2549525ed64a053c  ...      sao jose dos campos\n",
              "99437  63943bddc261676b46f01ca7ac2f7bd8  ...             praia grande\n",
              "99438  83c1379a015df1e13d02aae0204711ab  ...              nova vicosa\n",
              "99439  11c177c8e97725db2631073c19f07b62  ...                  japuiba\n",
              "99440  66dea50a8b16d9b4dee7af250b4be1a5  ...                     lapa\n",
              "\n",
              "[99441 rows x 5 columns]"
            ]
          },
          "metadata": {},
          "execution_count": 10
        }
      ]
    },
    {
      "cell_type": "code",
      "metadata": {
        "id": "0aUSM-C0UWQA",
        "colab": {
          "base_uri": "https://localhost:8080/",
          "height": 470
        },
        "outputId": "cfb26572-f801-4f25-94b1-975e6f5b1041"
      },
      "source": [
        "df_items.drop_duplicates('order_id',keep='first',inplace=True)\n",
        "transaction = pd.merge(orders,df_items,'inner','order_id')\n",
        "# transaction = transaction[['customer_unique_id','order_purchase_timestamp','price']]\n",
        "# transaction.drop_duplicates('order_id',keep='first',inplace=True)\n",
        "transaction"
      ],
      "execution_count": null,
      "outputs": [
        {
          "output_type": "execute_result",
          "data": {
            "text/html": [
              "<div>\n",
              "<style scoped>\n",
              "    .dataframe tbody tr th:only-of-type {\n",
              "        vertical-align: middle;\n",
              "    }\n",
              "\n",
              "    .dataframe tbody tr th {\n",
              "        vertical-align: top;\n",
              "    }\n",
              "\n",
              "    .dataframe thead th {\n",
              "        text-align: right;\n",
              "    }\n",
              "</style>\n",
              "<table border=\"1\" class=\"dataframe\">\n",
              "  <thead>\n",
              "    <tr style=\"text-align: right;\">\n",
              "      <th></th>\n",
              "      <th>order_id</th>\n",
              "      <th>customer_id</th>\n",
              "      <th>order_purchase_timestamp</th>\n",
              "      <th>customer_unique_id</th>\n",
              "      <th>customer_city</th>\n",
              "      <th>order_item_id</th>\n",
              "      <th>product_id</th>\n",
              "      <th>seller_id</th>\n",
              "      <th>shipping_limit_date</th>\n",
              "      <th>price</th>\n",
              "      <th>freight_value</th>\n",
              "    </tr>\n",
              "  </thead>\n",
              "  <tbody>\n",
              "    <tr>\n",
              "      <th>0</th>\n",
              "      <td>e481f51cbdc54678b7cc49136f2d6af7</td>\n",
              "      <td>9ef432eb6251297304e76186b10a928d</td>\n",
              "      <td>2017-10-02 10:56:33</td>\n",
              "      <td>7c396fd4830fd04220f754e42b4e5bff</td>\n",
              "      <td>sao paulo</td>\n",
              "      <td>1</td>\n",
              "      <td>87285b34884572647811a353c7ac498a</td>\n",
              "      <td>3504c0cb71d7fa48d967e0e4c94d59d9</td>\n",
              "      <td>2017-10-06 11:07:15</td>\n",
              "      <td>29.99</td>\n",
              "      <td>8.72</td>\n",
              "    </tr>\n",
              "    <tr>\n",
              "      <th>1</th>\n",
              "      <td>53cdb2fc8bc7dce0b6741e2150273451</td>\n",
              "      <td>b0830fb4747a6c6d20dea0b8c802d7ef</td>\n",
              "      <td>2018-07-24 20:41:37</td>\n",
              "      <td>af07308b275d755c9edb36a90c618231</td>\n",
              "      <td>barreiras</td>\n",
              "      <td>1</td>\n",
              "      <td>595fac2a385ac33a80bd5114aec74eb8</td>\n",
              "      <td>289cdb325fb7e7f891c38608bf9e0962</td>\n",
              "      <td>2018-07-30 03:24:27</td>\n",
              "      <td>118.70</td>\n",
              "      <td>22.76</td>\n",
              "    </tr>\n",
              "    <tr>\n",
              "      <th>2</th>\n",
              "      <td>47770eb9100c2d0c44946d9cf07ec65d</td>\n",
              "      <td>41ce2a54c0b03bf3443c3d931a367089</td>\n",
              "      <td>2018-08-08 08:38:49</td>\n",
              "      <td>3a653a41f6f9fc3d2a113cf8398680e8</td>\n",
              "      <td>vianopolis</td>\n",
              "      <td>1</td>\n",
              "      <td>aa4383b373c6aca5d8797843e5594415</td>\n",
              "      <td>4869f7a5dfa277a7dca6462dcf3b52b2</td>\n",
              "      <td>2018-08-13 08:55:23</td>\n",
              "      <td>159.90</td>\n",
              "      <td>19.22</td>\n",
              "    </tr>\n",
              "    <tr>\n",
              "      <th>3</th>\n",
              "      <td>949d5b44dbf5de918fe9c16f97b45f8a</td>\n",
              "      <td>f88197465ea7920adcdbec7375364d82</td>\n",
              "      <td>2017-11-18 19:28:06</td>\n",
              "      <td>7c142cf63193a1473d2e66489a9ae977</td>\n",
              "      <td>sao goncalo do amarante</td>\n",
              "      <td>1</td>\n",
              "      <td>d0b61bfb1de832b15ba9d266ca96e5b0</td>\n",
              "      <td>66922902710d126a0e7d26b0e3805106</td>\n",
              "      <td>2017-11-23 19:45:59</td>\n",
              "      <td>45.00</td>\n",
              "      <td>27.20</td>\n",
              "    </tr>\n",
              "    <tr>\n",
              "      <th>4</th>\n",
              "      <td>ad21c59c0840e6cb83a9ceb5573f8159</td>\n",
              "      <td>8ab97904e6daea8866dbdbc4fb7aad2c</td>\n",
              "      <td>2018-02-13 21:18:39</td>\n",
              "      <td>72632f0f9dd73dfee390c9b22eb56dd6</td>\n",
              "      <td>santo andre</td>\n",
              "      <td>1</td>\n",
              "      <td>65266b2da20d04dbe00c5c2d3bb7859e</td>\n",
              "      <td>2c9e548be18521d1c43cde1c582c6de8</td>\n",
              "      <td>2018-02-19 20:31:37</td>\n",
              "      <td>19.90</td>\n",
              "      <td>8.72</td>\n",
              "    </tr>\n",
              "    <tr>\n",
              "      <th>...</th>\n",
              "      <td>...</td>\n",
              "      <td>...</td>\n",
              "      <td>...</td>\n",
              "      <td>...</td>\n",
              "      <td>...</td>\n",
              "      <td>...</td>\n",
              "      <td>...</td>\n",
              "      <td>...</td>\n",
              "      <td>...</td>\n",
              "      <td>...</td>\n",
              "      <td>...</td>\n",
              "    </tr>\n",
              "    <tr>\n",
              "      <th>98661</th>\n",
              "      <td>9c5dedf39a927c1b2549525ed64a053c</td>\n",
              "      <td>39bd1228ee8140590ac3aca26f2dfe00</td>\n",
              "      <td>2017-03-09 09:54:05</td>\n",
              "      <td>6359f309b166b0196dbf7ad2ac62bb5a</td>\n",
              "      <td>sao jose dos campos</td>\n",
              "      <td>1</td>\n",
              "      <td>ac35486adb7b02598c182c2ff2e05254</td>\n",
              "      <td>e24fc9fcd865784fb25705606fe3dfe7</td>\n",
              "      <td>2017-03-15 09:54:05</td>\n",
              "      <td>72.00</td>\n",
              "      <td>13.08</td>\n",
              "    </tr>\n",
              "    <tr>\n",
              "      <th>98662</th>\n",
              "      <td>63943bddc261676b46f01ca7ac2f7bd8</td>\n",
              "      <td>1fca14ff2861355f6e5f14306ff977a7</td>\n",
              "      <td>2018-02-06 12:58:58</td>\n",
              "      <td>da62f9e57a76d978d02ab5362c509660</td>\n",
              "      <td>praia grande</td>\n",
              "      <td>1</td>\n",
              "      <td>f1d4ce8c6dd66c47bbaa8c6781c2a923</td>\n",
              "      <td>1f9ab4708f3056ede07124aad39a2554</td>\n",
              "      <td>2018-02-12 13:10:37</td>\n",
              "      <td>174.90</td>\n",
              "      <td>20.10</td>\n",
              "    </tr>\n",
              "    <tr>\n",
              "      <th>98663</th>\n",
              "      <td>83c1379a015df1e13d02aae0204711ab</td>\n",
              "      <td>1aa71eb042121263aafbe80c1b562c9c</td>\n",
              "      <td>2017-08-27 14:46:43</td>\n",
              "      <td>737520a9aad80b3fbbdad19b66b37b30</td>\n",
              "      <td>nova vicosa</td>\n",
              "      <td>1</td>\n",
              "      <td>b80910977a37536adeddd63663f916ad</td>\n",
              "      <td>d50d79cb34e38265a8649c383dcffd48</td>\n",
              "      <td>2017-09-05 15:04:16</td>\n",
              "      <td>205.99</td>\n",
              "      <td>65.02</td>\n",
              "    </tr>\n",
              "    <tr>\n",
              "      <th>98664</th>\n",
              "      <td>11c177c8e97725db2631073c19f07b62</td>\n",
              "      <td>b331b74b18dc79bcdf6532d51e1637c1</td>\n",
              "      <td>2018-01-08 21:28:27</td>\n",
              "      <td>5097a5312c8b157bb7be58ae360ef43c</td>\n",
              "      <td>japuiba</td>\n",
              "      <td>1</td>\n",
              "      <td>d1c427060a0f73f6b889a5c7c61f2ac4</td>\n",
              "      <td>a1043bafd471dff536d0c462352beb48</td>\n",
              "      <td>2018-01-12 21:36:21</td>\n",
              "      <td>179.99</td>\n",
              "      <td>40.59</td>\n",
              "    </tr>\n",
              "    <tr>\n",
              "      <th>98665</th>\n",
              "      <td>66dea50a8b16d9b4dee7af250b4be1a5</td>\n",
              "      <td>edb027a75a1449115f6b43211ae02a24</td>\n",
              "      <td>2018-03-08 20:57:30</td>\n",
              "      <td>60350aa974b26ff12caad89e55993bd6</td>\n",
              "      <td>lapa</td>\n",
              "      <td>1</td>\n",
              "      <td>006619bbed68b000c8ba3f8725d5409e</td>\n",
              "      <td>ececbfcff9804a2d6b40f589df8eef2b</td>\n",
              "      <td>2018-03-15 10:55:42</td>\n",
              "      <td>68.50</td>\n",
              "      <td>18.36</td>\n",
              "    </tr>\n",
              "  </tbody>\n",
              "</table>\n",
              "<p>98666 rows × 11 columns</p>\n",
              "</div>"
            ],
            "text/plain": [
              "                               order_id  ... freight_value\n",
              "0      e481f51cbdc54678b7cc49136f2d6af7  ...          8.72\n",
              "1      53cdb2fc8bc7dce0b6741e2150273451  ...         22.76\n",
              "2      47770eb9100c2d0c44946d9cf07ec65d  ...         19.22\n",
              "3      949d5b44dbf5de918fe9c16f97b45f8a  ...         27.20\n",
              "4      ad21c59c0840e6cb83a9ceb5573f8159  ...          8.72\n",
              "...                                 ...  ...           ...\n",
              "98661  9c5dedf39a927c1b2549525ed64a053c  ...         13.08\n",
              "98662  63943bddc261676b46f01ca7ac2f7bd8  ...         20.10\n",
              "98663  83c1379a015df1e13d02aae0204711ab  ...         65.02\n",
              "98664  11c177c8e97725db2631073c19f07b62  ...         40.59\n",
              "98665  66dea50a8b16d9b4dee7af250b4be1a5  ...         18.36\n",
              "\n",
              "[98666 rows x 11 columns]"
            ]
          },
          "metadata": {},
          "execution_count": 11
        }
      ]
    },
    {
      "cell_type": "markdown",
      "metadata": {
        "id": "d1IqhYRm12Yk"
      },
      "source": [
        "## General Information"
      ]
    },
    {
      "cell_type": "code",
      "metadata": {
        "id": "tC5DOndR12Bk",
        "colab": {
          "base_uri": "https://localhost:8080/"
        },
        "outputId": "fa29d8ed-214f-4db5-fe7e-c660ea3bdaa2"
      },
      "source": [
        "transaction.info()"
      ],
      "execution_count": null,
      "outputs": [
        {
          "output_type": "stream",
          "name": "stdout",
          "text": [
            "<class 'pandas.core.frame.DataFrame'>\n",
            "Int64Index: 98666 entries, 0 to 98665\n",
            "Data columns (total 11 columns):\n",
            " #   Column                    Non-Null Count  Dtype  \n",
            "---  ------                    --------------  -----  \n",
            " 0   order_id                  98666 non-null  object \n",
            " 1   customer_id               98666 non-null  object \n",
            " 2   order_purchase_timestamp  98666 non-null  object \n",
            " 3   customer_unique_id        98666 non-null  object \n",
            " 4   customer_city             98666 non-null  object \n",
            " 5   order_item_id             98666 non-null  int64  \n",
            " 6   product_id                98666 non-null  object \n",
            " 7   seller_id                 98666 non-null  object \n",
            " 8   shipping_limit_date       98666 non-null  object \n",
            " 9   price                     98666 non-null  float64\n",
            " 10  freight_value             98666 non-null  float64\n",
            "dtypes: float64(2), int64(1), object(8)\n",
            "memory usage: 9.0+ MB\n"
          ]
        }
      ]
    },
    {
      "cell_type": "markdown",
      "metadata": {
        "id": "mCUJfuG2GV4_"
      },
      "source": [
        "## Changing Data Type"
      ]
    },
    {
      "cell_type": "code",
      "metadata": {
        "id": "KBvTUbanVCqI",
        "colab": {
          "base_uri": "https://localhost:8080/",
          "height": 240
        },
        "outputId": "96306c89-18f1-462b-a240-565d7b8aed2f"
      },
      "source": [
        "transaction ['order_purchase_timestamp'] = pd.to_datetime(transaction['order_purchase_timestamp'])\n",
        "transaction ['order_date'] = transaction.order_purchase_timestamp.dt.date \n",
        "transaction['order_date'] = pd.to_datetime(transaction['order_date'])\n",
        "transaction.drop([\"order_purchase_timestamp\"], axis = 1, inplace = True) \n",
        "transaction.head()"
      ],
      "execution_count": null,
      "outputs": [
        {
          "output_type": "execute_result",
          "data": {
            "text/html": [
              "<div>\n",
              "<style scoped>\n",
              "    .dataframe tbody tr th:only-of-type {\n",
              "        vertical-align: middle;\n",
              "    }\n",
              "\n",
              "    .dataframe tbody tr th {\n",
              "        vertical-align: top;\n",
              "    }\n",
              "\n",
              "    .dataframe thead th {\n",
              "        text-align: right;\n",
              "    }\n",
              "</style>\n",
              "<table border=\"1\" class=\"dataframe\">\n",
              "  <thead>\n",
              "    <tr style=\"text-align: right;\">\n",
              "      <th></th>\n",
              "      <th>order_id</th>\n",
              "      <th>customer_id</th>\n",
              "      <th>customer_unique_id</th>\n",
              "      <th>customer_city</th>\n",
              "      <th>order_item_id</th>\n",
              "      <th>product_id</th>\n",
              "      <th>seller_id</th>\n",
              "      <th>shipping_limit_date</th>\n",
              "      <th>price</th>\n",
              "      <th>freight_value</th>\n",
              "      <th>order_date</th>\n",
              "    </tr>\n",
              "  </thead>\n",
              "  <tbody>\n",
              "    <tr>\n",
              "      <th>0</th>\n",
              "      <td>e481f51cbdc54678b7cc49136f2d6af7</td>\n",
              "      <td>9ef432eb6251297304e76186b10a928d</td>\n",
              "      <td>7c396fd4830fd04220f754e42b4e5bff</td>\n",
              "      <td>sao paulo</td>\n",
              "      <td>1</td>\n",
              "      <td>87285b34884572647811a353c7ac498a</td>\n",
              "      <td>3504c0cb71d7fa48d967e0e4c94d59d9</td>\n",
              "      <td>2017-10-06 11:07:15</td>\n",
              "      <td>29.99</td>\n",
              "      <td>8.72</td>\n",
              "      <td>2017-10-02</td>\n",
              "    </tr>\n",
              "    <tr>\n",
              "      <th>1</th>\n",
              "      <td>53cdb2fc8bc7dce0b6741e2150273451</td>\n",
              "      <td>b0830fb4747a6c6d20dea0b8c802d7ef</td>\n",
              "      <td>af07308b275d755c9edb36a90c618231</td>\n",
              "      <td>barreiras</td>\n",
              "      <td>1</td>\n",
              "      <td>595fac2a385ac33a80bd5114aec74eb8</td>\n",
              "      <td>289cdb325fb7e7f891c38608bf9e0962</td>\n",
              "      <td>2018-07-30 03:24:27</td>\n",
              "      <td>118.70</td>\n",
              "      <td>22.76</td>\n",
              "      <td>2018-07-24</td>\n",
              "    </tr>\n",
              "    <tr>\n",
              "      <th>2</th>\n",
              "      <td>47770eb9100c2d0c44946d9cf07ec65d</td>\n",
              "      <td>41ce2a54c0b03bf3443c3d931a367089</td>\n",
              "      <td>3a653a41f6f9fc3d2a113cf8398680e8</td>\n",
              "      <td>vianopolis</td>\n",
              "      <td>1</td>\n",
              "      <td>aa4383b373c6aca5d8797843e5594415</td>\n",
              "      <td>4869f7a5dfa277a7dca6462dcf3b52b2</td>\n",
              "      <td>2018-08-13 08:55:23</td>\n",
              "      <td>159.90</td>\n",
              "      <td>19.22</td>\n",
              "      <td>2018-08-08</td>\n",
              "    </tr>\n",
              "    <tr>\n",
              "      <th>3</th>\n",
              "      <td>949d5b44dbf5de918fe9c16f97b45f8a</td>\n",
              "      <td>f88197465ea7920adcdbec7375364d82</td>\n",
              "      <td>7c142cf63193a1473d2e66489a9ae977</td>\n",
              "      <td>sao goncalo do amarante</td>\n",
              "      <td>1</td>\n",
              "      <td>d0b61bfb1de832b15ba9d266ca96e5b0</td>\n",
              "      <td>66922902710d126a0e7d26b0e3805106</td>\n",
              "      <td>2017-11-23 19:45:59</td>\n",
              "      <td>45.00</td>\n",
              "      <td>27.20</td>\n",
              "      <td>2017-11-18</td>\n",
              "    </tr>\n",
              "    <tr>\n",
              "      <th>4</th>\n",
              "      <td>ad21c59c0840e6cb83a9ceb5573f8159</td>\n",
              "      <td>8ab97904e6daea8866dbdbc4fb7aad2c</td>\n",
              "      <td>72632f0f9dd73dfee390c9b22eb56dd6</td>\n",
              "      <td>santo andre</td>\n",
              "      <td>1</td>\n",
              "      <td>65266b2da20d04dbe00c5c2d3bb7859e</td>\n",
              "      <td>2c9e548be18521d1c43cde1c582c6de8</td>\n",
              "      <td>2018-02-19 20:31:37</td>\n",
              "      <td>19.90</td>\n",
              "      <td>8.72</td>\n",
              "      <td>2018-02-13</td>\n",
              "    </tr>\n",
              "  </tbody>\n",
              "</table>\n",
              "</div>"
            ],
            "text/plain": [
              "                           order_id  ... order_date\n",
              "0  e481f51cbdc54678b7cc49136f2d6af7  ... 2017-10-02\n",
              "1  53cdb2fc8bc7dce0b6741e2150273451  ... 2018-07-24\n",
              "2  47770eb9100c2d0c44946d9cf07ec65d  ... 2018-08-08\n",
              "3  949d5b44dbf5de918fe9c16f97b45f8a  ... 2017-11-18\n",
              "4  ad21c59c0840e6cb83a9ceb5573f8159  ... 2018-02-13\n",
              "\n",
              "[5 rows x 11 columns]"
            ]
          },
          "metadata": {},
          "execution_count": 13
        }
      ]
    },
    {
      "cell_type": "code",
      "metadata": {
        "id": "FTjl_ukpVEoJ",
        "colab": {
          "base_uri": "https://localhost:8080/",
          "height": 240
        },
        "outputId": "84d809b1-9671-4001-9595-5297100fb640"
      },
      "source": [
        "transaction['shipping_limit_date'] = pd.to_datetime(transaction['shipping_limit_date'])\n",
        "transaction['shipping_date'] = transaction.shipping_limit_date.dt.date \n",
        "transaction['shipping_date'] = pd.to_datetime(transaction['shipping_date'])\n",
        "transaction.drop([\"shipping_limit_date\"], axis = 1, inplace = True) \n",
        "transaction.head()"
      ],
      "execution_count": null,
      "outputs": [
        {
          "output_type": "execute_result",
          "data": {
            "text/html": [
              "<div>\n",
              "<style scoped>\n",
              "    .dataframe tbody tr th:only-of-type {\n",
              "        vertical-align: middle;\n",
              "    }\n",
              "\n",
              "    .dataframe tbody tr th {\n",
              "        vertical-align: top;\n",
              "    }\n",
              "\n",
              "    .dataframe thead th {\n",
              "        text-align: right;\n",
              "    }\n",
              "</style>\n",
              "<table border=\"1\" class=\"dataframe\">\n",
              "  <thead>\n",
              "    <tr style=\"text-align: right;\">\n",
              "      <th></th>\n",
              "      <th>order_id</th>\n",
              "      <th>customer_id</th>\n",
              "      <th>customer_unique_id</th>\n",
              "      <th>customer_city</th>\n",
              "      <th>order_item_id</th>\n",
              "      <th>product_id</th>\n",
              "      <th>seller_id</th>\n",
              "      <th>price</th>\n",
              "      <th>freight_value</th>\n",
              "      <th>order_date</th>\n",
              "      <th>shipping_date</th>\n",
              "    </tr>\n",
              "  </thead>\n",
              "  <tbody>\n",
              "    <tr>\n",
              "      <th>0</th>\n",
              "      <td>e481f51cbdc54678b7cc49136f2d6af7</td>\n",
              "      <td>9ef432eb6251297304e76186b10a928d</td>\n",
              "      <td>7c396fd4830fd04220f754e42b4e5bff</td>\n",
              "      <td>sao paulo</td>\n",
              "      <td>1</td>\n",
              "      <td>87285b34884572647811a353c7ac498a</td>\n",
              "      <td>3504c0cb71d7fa48d967e0e4c94d59d9</td>\n",
              "      <td>29.99</td>\n",
              "      <td>8.72</td>\n",
              "      <td>2017-10-02</td>\n",
              "      <td>2017-10-06</td>\n",
              "    </tr>\n",
              "    <tr>\n",
              "      <th>1</th>\n",
              "      <td>53cdb2fc8bc7dce0b6741e2150273451</td>\n",
              "      <td>b0830fb4747a6c6d20dea0b8c802d7ef</td>\n",
              "      <td>af07308b275d755c9edb36a90c618231</td>\n",
              "      <td>barreiras</td>\n",
              "      <td>1</td>\n",
              "      <td>595fac2a385ac33a80bd5114aec74eb8</td>\n",
              "      <td>289cdb325fb7e7f891c38608bf9e0962</td>\n",
              "      <td>118.70</td>\n",
              "      <td>22.76</td>\n",
              "      <td>2018-07-24</td>\n",
              "      <td>2018-07-30</td>\n",
              "    </tr>\n",
              "    <tr>\n",
              "      <th>2</th>\n",
              "      <td>47770eb9100c2d0c44946d9cf07ec65d</td>\n",
              "      <td>41ce2a54c0b03bf3443c3d931a367089</td>\n",
              "      <td>3a653a41f6f9fc3d2a113cf8398680e8</td>\n",
              "      <td>vianopolis</td>\n",
              "      <td>1</td>\n",
              "      <td>aa4383b373c6aca5d8797843e5594415</td>\n",
              "      <td>4869f7a5dfa277a7dca6462dcf3b52b2</td>\n",
              "      <td>159.90</td>\n",
              "      <td>19.22</td>\n",
              "      <td>2018-08-08</td>\n",
              "      <td>2018-08-13</td>\n",
              "    </tr>\n",
              "    <tr>\n",
              "      <th>3</th>\n",
              "      <td>949d5b44dbf5de918fe9c16f97b45f8a</td>\n",
              "      <td>f88197465ea7920adcdbec7375364d82</td>\n",
              "      <td>7c142cf63193a1473d2e66489a9ae977</td>\n",
              "      <td>sao goncalo do amarante</td>\n",
              "      <td>1</td>\n",
              "      <td>d0b61bfb1de832b15ba9d266ca96e5b0</td>\n",
              "      <td>66922902710d126a0e7d26b0e3805106</td>\n",
              "      <td>45.00</td>\n",
              "      <td>27.20</td>\n",
              "      <td>2017-11-18</td>\n",
              "      <td>2017-11-23</td>\n",
              "    </tr>\n",
              "    <tr>\n",
              "      <th>4</th>\n",
              "      <td>ad21c59c0840e6cb83a9ceb5573f8159</td>\n",
              "      <td>8ab97904e6daea8866dbdbc4fb7aad2c</td>\n",
              "      <td>72632f0f9dd73dfee390c9b22eb56dd6</td>\n",
              "      <td>santo andre</td>\n",
              "      <td>1</td>\n",
              "      <td>65266b2da20d04dbe00c5c2d3bb7859e</td>\n",
              "      <td>2c9e548be18521d1c43cde1c582c6de8</td>\n",
              "      <td>19.90</td>\n",
              "      <td>8.72</td>\n",
              "      <td>2018-02-13</td>\n",
              "      <td>2018-02-19</td>\n",
              "    </tr>\n",
              "  </tbody>\n",
              "</table>\n",
              "</div>"
            ],
            "text/plain": [
              "                           order_id  ... shipping_date\n",
              "0  e481f51cbdc54678b7cc49136f2d6af7  ...    2017-10-06\n",
              "1  53cdb2fc8bc7dce0b6741e2150273451  ...    2018-07-30\n",
              "2  47770eb9100c2d0c44946d9cf07ec65d  ...    2018-08-13\n",
              "3  949d5b44dbf5de918fe9c16f97b45f8a  ...    2017-11-23\n",
              "4  ad21c59c0840e6cb83a9ceb5573f8159  ...    2018-02-19\n",
              "\n",
              "[5 rows x 11 columns]"
            ]
          },
          "metadata": {},
          "execution_count": 14
        }
      ]
    },
    {
      "cell_type": "code",
      "metadata": {
        "id": "AFpgNsHYGa0U",
        "colab": {
          "base_uri": "https://localhost:8080/"
        },
        "outputId": "88c2b9fb-3e5f-4d4c-dddb-6d3f11a3ae0f"
      },
      "source": [
        "transaction.info()"
      ],
      "execution_count": null,
      "outputs": [
        {
          "output_type": "stream",
          "name": "stdout",
          "text": [
            "<class 'pandas.core.frame.DataFrame'>\n",
            "Int64Index: 98666 entries, 0 to 98665\n",
            "Data columns (total 11 columns):\n",
            " #   Column              Non-Null Count  Dtype         \n",
            "---  ------              --------------  -----         \n",
            " 0   order_id            98666 non-null  object        \n",
            " 1   customer_id         98666 non-null  object        \n",
            " 2   customer_unique_id  98666 non-null  object        \n",
            " 3   customer_city       98666 non-null  object        \n",
            " 4   order_item_id       98666 non-null  int64         \n",
            " 5   product_id          98666 non-null  object        \n",
            " 6   seller_id           98666 non-null  object        \n",
            " 7   price               98666 non-null  float64       \n",
            " 8   freight_value       98666 non-null  float64       \n",
            " 9   order_date          98666 non-null  datetime64[ns]\n",
            " 10  shipping_date       98666 non-null  datetime64[ns]\n",
            "dtypes: datetime64[ns](2), float64(2), int64(1), object(6)\n",
            "memory usage: 9.0+ MB\n"
          ]
        }
      ]
    },
    {
      "cell_type": "markdown",
      "metadata": {
        "id": "FXRbEA4ZGL6O"
      },
      "source": [
        "## checking missing values"
      ]
    },
    {
      "cell_type": "code",
      "metadata": {
        "id": "MgL_YjLuGbgr",
        "colab": {
          "base_uri": "https://localhost:8080/"
        },
        "outputId": "fc8e0570-8824-470f-b81c-cd1317a7e5fe"
      },
      "source": [
        "transaction.isna().sum()"
      ],
      "execution_count": null,
      "outputs": [
        {
          "output_type": "execute_result",
          "data": {
            "text/plain": [
              "order_id              0\n",
              "customer_id           0\n",
              "customer_unique_id    0\n",
              "customer_city         0\n",
              "order_item_id         0\n",
              "product_id            0\n",
              "seller_id             0\n",
              "price                 0\n",
              "freight_value         0\n",
              "order_date            0\n",
              "shipping_date         0\n",
              "dtype: int64"
            ]
          },
          "metadata": {},
          "execution_count": 16
        }
      ]
    },
    {
      "cell_type": "markdown",
      "metadata": {
        "id": "YlSv1Ct6GofZ"
      },
      "source": [
        "## Checking Duplicate Data"
      ]
    },
    {
      "cell_type": "code",
      "metadata": {
        "id": "MleQnd_0_uDf",
        "colab": {
          "base_uri": "https://localhost:8080/"
        },
        "outputId": "1b4fb8fd-2bf2-47a2-9c8d-59da26896cf3"
      },
      "source": [
        "# Drop Duplicates\n",
        "\n",
        "print(f\"Dataframe dimension before duplication drop {transaction.shape[0]}\")\n",
        "\n",
        "transaction = transaction.drop_duplicates(keep='first').reset_index(drop=True)\n",
        "\n",
        "print(f\"Dataframe dimension after duplication drop {transaction.shape[0]}\")"
      ],
      "execution_count": null,
      "outputs": [
        {
          "output_type": "stream",
          "name": "stdout",
          "text": [
            "Dataframe dimension before duplication drop 98666\n",
            "Dataframe dimension after duplication drop 98666\n"
          ]
        }
      ]
    },
    {
      "cell_type": "markdown",
      "metadata": {
        "id": "ZilAGTtu_8AX"
      },
      "source": [
        "#Checking Outliers"
      ]
    },
    {
      "cell_type": "code",
      "metadata": {
        "id": "XMh3PyG1GtdL",
        "colab": {
          "base_uri": "https://localhost:8080/",
          "height": 267
        },
        "outputId": "99f7991a-aa6c-4f50-9f3c-3cccf9a04fc6"
      },
      "source": [
        "sns.boxplot(data=transaction,y=\"price\")"
      ],
      "execution_count": null,
      "outputs": [
        {
          "output_type": "execute_result",
          "data": {
            "text/plain": [
              "<matplotlib.axes._subplots.AxesSubplot at 0x7fbcf8ce1390>"
            ]
          },
          "metadata": {},
          "execution_count": 18
        },
        {
          "output_type": "display_data",
          "data": {
            "image/png": "[encoded data removed]",
            "text/plain": [
              "<Figure size 432x288 with 1 Axes>"
            ]
          },
          "metadata": {}
        }
      ]
    },
    {
      "cell_type": "markdown",
      "metadata": {
        "id": "K2j2O-bOGxOG"
      },
      "source": [
        "# Exploratory Data Analysis"
      ]
    },
    {
      "cell_type": "code",
      "metadata": {
        "id": "2Ne79qJm-_6-",
        "colab": {
          "base_uri": "https://localhost:8080/",
          "height": 504
        },
        "outputId": "efcd809c-fdff-4cbf-e3d7-77076c95c10b"
      },
      "source": [
        "transaction_price=transaction[['order_id','customer_unique_id','order_date','price','customer_city','product_id']]\n",
        "transaction_customer =transaction_price.groupby(['order_id','customer_unique_id', 'order_date','customer_city','product_id'])[\"price\"].agg(['count', 'sum']).rename(columns = {'count':'quantity','sum':'total price'}).reset_index()\n",
        "transaction_customer.sort_values('quantity',ascending=False)"
      ],
      "execution_count": null,
      "outputs": [
        {
          "output_type": "execute_result",
          "data": {
            "text/html": [
              "<div>\n",
              "<style scoped>\n",
              "    .dataframe tbody tr th:only-of-type {\n",
              "        vertical-align: middle;\n",
              "    }\n",
              "\n",
              "    .dataframe tbody tr th {\n",
              "        vertical-align: top;\n",
              "    }\n",
              "\n",
              "    .dataframe thead th {\n",
              "        text-align: right;\n",
              "    }\n",
              "</style>\n",
              "<table border=\"1\" class=\"dataframe\">\n",
              "  <thead>\n",
              "    <tr style=\"text-align: right;\">\n",
              "      <th></th>\n",
              "      <th>order_id</th>\n",
              "      <th>customer_unique_id</th>\n",
              "      <th>order_date</th>\n",
              "      <th>customer_city</th>\n",
              "      <th>product_id</th>\n",
              "      <th>quantity</th>\n",
              "      <th>total price</th>\n",
              "    </tr>\n",
              "  </thead>\n",
              "  <tbody>\n",
              "    <tr>\n",
              "      <th>0</th>\n",
              "      <td>00010242fe8c5a6d1ba2dd792cb16214</td>\n",
              "      <td>871766c5855e863f6eccc05f988b23cb</td>\n",
              "      <td>2017-09-13</td>\n",
              "      <td>campos dos goytacazes</td>\n",
              "      <td>4244733e06e7ecb4970a6e2683c13e61</td>\n",
              "      <td>1</td>\n",
              "      <td>58.90</td>\n",
              "    </tr>\n",
              "    <tr>\n",
              "      <th>65713</th>\n",
              "      <td>ab13cb6c13063f2603a94c9ddca34f66</td>\n",
              "      <td>dda7d094a7c887911a9f6cadf698c5b9</td>\n",
              "      <td>2018-01-16</td>\n",
              "      <td>rondonopolis</td>\n",
              "      <td>038e3a669bb495e56d9d609d874fb668</td>\n",
              "      <td>1</td>\n",
              "      <td>1599.00</td>\n",
              "    </tr>\n",
              "    <tr>\n",
              "      <th>65783</th>\n",
              "      <td>ab3a669dbdc7a8d447bb6fc7a158cf94</td>\n",
              "      <td>c2e971c4b49f34cd0dd4c155c1d541a5</td>\n",
              "      <td>2018-07-20</td>\n",
              "      <td>santa cruz das palmeiras</td>\n",
              "      <td>4fa0d1019affe5fe2c492c00422f01d8</td>\n",
              "      <td>1</td>\n",
              "      <td>24.90</td>\n",
              "    </tr>\n",
              "    <tr>\n",
              "      <th>65782</th>\n",
              "      <td>ab3a6663f21c1a36401300460d3c41cd</td>\n",
              "      <td>9b1c978cb21b066c8cb29a12c846a8c5</td>\n",
              "      <td>2017-10-25</td>\n",
              "      <td>jaboatao dos guararapes</td>\n",
              "      <td>f3c39c81e52f6b07a486fb78d90dbfef</td>\n",
              "      <td>1</td>\n",
              "      <td>539.00</td>\n",
              "    </tr>\n",
              "    <tr>\n",
              "      <th>65781</th>\n",
              "      <td>ab3a0535e202529923e53dfdadf8042e</td>\n",
              "      <td>8dc630bd7459952cad4618716320c24e</td>\n",
              "      <td>2018-04-26</td>\n",
              "      <td>belo horizonte</td>\n",
              "      <td>bdcf6a834e8faa30dac3886c7a58e92e</td>\n",
              "      <td>1</td>\n",
              "      <td>35.90</td>\n",
              "    </tr>\n",
              "    <tr>\n",
              "      <th>...</th>\n",
              "      <td>...</td>\n",
              "      <td>...</td>\n",
              "      <td>...</td>\n",
              "      <td>...</td>\n",
              "      <td>...</td>\n",
              "      <td>...</td>\n",
              "      <td>...</td>\n",
              "    </tr>\n",
              "    <tr>\n",
              "      <th>32886</th>\n",
              "      <td>5561adcb0fd46da4cad3048fa4e7fc00</td>\n",
              "      <td>87d406e4698a66118241f1f4a407ee03</td>\n",
              "      <td>2018-06-25</td>\n",
              "      <td>sao paulo</td>\n",
              "      <td>4d071a22b9cc548b64a75075a4c63151</td>\n",
              "      <td>1</td>\n",
              "      <td>99.90</td>\n",
              "    </tr>\n",
              "    <tr>\n",
              "      <th>32885</th>\n",
              "      <td>555e60e282181725debc9eb2d69fda3f</td>\n",
              "      <td>253ba0a753f158c30d832404fd363ea6</td>\n",
              "      <td>2018-06-05</td>\n",
              "      <td>sao paulo</td>\n",
              "      <td>79c716797a31592b8dbe45b2a93a835f</td>\n",
              "      <td>1</td>\n",
              "      <td>11.99</td>\n",
              "    </tr>\n",
              "    <tr>\n",
              "      <th>32884</th>\n",
              "      <td>555e4d40fb6beea866d46eb6a5a01b41</td>\n",
              "      <td>7d15b5b3609f450652ddc385d624a2cc</td>\n",
              "      <td>2017-09-17</td>\n",
              "      <td>sao paulo</td>\n",
              "      <td>83d199d296c44101c8c3b5c9c0cce9ea</td>\n",
              "      <td>1</td>\n",
              "      <td>69.99</td>\n",
              "    </tr>\n",
              "    <tr>\n",
              "      <th>32883</th>\n",
              "      <td>555e1afa0cf180760b7ea9f6d8ebc329</td>\n",
              "      <td>b01b4873885544bd7cf29c9a355d0bcf</td>\n",
              "      <td>2018-04-29</td>\n",
              "      <td>palhoca</td>\n",
              "      <td>2c715979f8471e42e0daeeb855f04f9c</td>\n",
              "      <td>1</td>\n",
              "      <td>119.00</td>\n",
              "    </tr>\n",
              "    <tr>\n",
              "      <th>98665</th>\n",
              "      <td>fffe41c64501cc87c801fd61db3f6244</td>\n",
              "      <td>cd76a00d8e3ca5e6ab9ed9ecb6667ac4</td>\n",
              "      <td>2018-06-09</td>\n",
              "      <td>botucatu</td>\n",
              "      <td>350688d9dc1e75ff97be326363655e01</td>\n",
              "      <td>1</td>\n",
              "      <td>43.00</td>\n",
              "    </tr>\n",
              "  </tbody>\n",
              "</table>\n",
              "<p>98666 rows × 7 columns</p>\n",
              "</div>"
            ],
            "text/plain": [
              "                               order_id  ... total price\n",
              "0      00010242fe8c5a6d1ba2dd792cb16214  ...       58.90\n",
              "65713  ab13cb6c13063f2603a94c9ddca34f66  ...     1599.00\n",
              "65783  ab3a669dbdc7a8d447bb6fc7a158cf94  ...       24.90\n",
              "65782  ab3a6663f21c1a36401300460d3c41cd  ...      539.00\n",
              "65781  ab3a0535e202529923e53dfdadf8042e  ...       35.90\n",
              "...                                 ...  ...         ...\n",
              "32886  5561adcb0fd46da4cad3048fa4e7fc00  ...       99.90\n",
              "32885  555e60e282181725debc9eb2d69fda3f  ...       11.99\n",
              "32884  555e4d40fb6beea866d46eb6a5a01b41  ...       69.99\n",
              "32883  555e1afa0cf180760b7ea9f6d8ebc329  ...      119.00\n",
              "98665  fffe41c64501cc87c801fd61db3f6244  ...       43.00\n",
              "\n",
              "[98666 rows x 7 columns]"
            ]
          },
          "metadata": {},
          "execution_count": 19
        }
      ]
    },
    {
      "cell_type": "code",
      "metadata": {
        "id": "NHLIuZpuarcU",
        "colab": {
          "base_uri": "https://localhost:8080/",
          "height": 656
        },
        "outputId": "6f2332d9-b406-428a-d43c-08f9e1074142"
      },
      "source": [
        "#Let's check which product has been purchased more often so far\n",
        "plt.figure(figsize=(10,8))\n",
        "plt.title(\"Total Order Based on Cities\")\n",
        "transaction_customer.groupby(\"customer_city\").sum().sort_values(by = \"quantity\", ascending = False).head(30)[\"quantity\"].plot(kind = \"bar\", color = 'mediumseagreen')"
      ],
      "execution_count": null,
      "outputs": [
        {
          "output_type": "execute_result",
          "data": {
            "text/plain": [
              "<matplotlib.axes._subplots.AxesSubplot at 0x7fbcf8c74a10>"
            ]
          },
          "metadata": {},
          "execution_count": 20
        },
        {
          "output_type": "display_data",
          "data": {
            "image/png": "[encoded data removed]",
            "text/plain": [
              "<Figure size 720x576 with 1 Axes>"
            ]
          },
          "metadata": {}
        }
      ]
    },
    {
      "cell_type": "code",
      "metadata": {
        "id": "hgqfAmD9bLBQ",
        "colab": {
          "base_uri": "https://localhost:8080/",
          "height": 470
        },
        "outputId": "c9b43e7d-aa43-4885-a87e-16b64e56e1cd"
      },
      "source": [
        "temp_data = transaction_customer.copy()\n",
        "temp_data"
      ],
      "execution_count": null,
      "outputs": [
        {
          "output_type": "execute_result",
          "data": {
            "text/html": [
              "<div>\n",
              "<style scoped>\n",
              "    .dataframe tbody tr th:only-of-type {\n",
              "        vertical-align: middle;\n",
              "    }\n",
              "\n",
              "    .dataframe tbody tr th {\n",
              "        vertical-align: top;\n",
              "    }\n",
              "\n",
              "    .dataframe thead th {\n",
              "        text-align: right;\n",
              "    }\n",
              "</style>\n",
              "<table border=\"1\" class=\"dataframe\">\n",
              "  <thead>\n",
              "    <tr style=\"text-align: right;\">\n",
              "      <th></th>\n",
              "      <th>order_id</th>\n",
              "      <th>customer_unique_id</th>\n",
              "      <th>order_date</th>\n",
              "      <th>customer_city</th>\n",
              "      <th>product_id</th>\n",
              "      <th>quantity</th>\n",
              "      <th>total price</th>\n",
              "    </tr>\n",
              "  </thead>\n",
              "  <tbody>\n",
              "    <tr>\n",
              "      <th>0</th>\n",
              "      <td>00010242fe8c5a6d1ba2dd792cb16214</td>\n",
              "      <td>871766c5855e863f6eccc05f988b23cb</td>\n",
              "      <td>2017-09-13</td>\n",
              "      <td>campos dos goytacazes</td>\n",
              "      <td>4244733e06e7ecb4970a6e2683c13e61</td>\n",
              "      <td>1</td>\n",
              "      <td>58.90</td>\n",
              "    </tr>\n",
              "    <tr>\n",
              "      <th>1</th>\n",
              "      <td>00018f77f2f0320c557190d7a144bdd3</td>\n",
              "      <td>eb28e67c4c0b83846050ddfb8a35d051</td>\n",
              "      <td>2017-04-26</td>\n",
              "      <td>santa fe do sul</td>\n",
              "      <td>e5f2d52b802189ee658865ca93d83a8f</td>\n",
              "      <td>1</td>\n",
              "      <td>239.90</td>\n",
              "    </tr>\n",
              "    <tr>\n",
              "      <th>2</th>\n",
              "      <td>000229ec398224ef6ca0657da4fc703e</td>\n",
              "      <td>3818d81c6709e39d06b2738a8d3a2474</td>\n",
              "      <td>2018-01-14</td>\n",
              "      <td>para de minas</td>\n",
              "      <td>c777355d18b72b67abbeef9df44fd0fd</td>\n",
              "      <td>1</td>\n",
              "      <td>199.00</td>\n",
              "    </tr>\n",
              "    <tr>\n",
              "      <th>3</th>\n",
              "      <td>00024acbcdf0a6daa1e931b038114c75</td>\n",
              "      <td>af861d436cfc08b2c2ddefd0ba074622</td>\n",
              "      <td>2018-08-08</td>\n",
              "      <td>atibaia</td>\n",
              "      <td>7634da152a4610f1595efa32f14722fc</td>\n",
              "      <td>1</td>\n",
              "      <td>12.99</td>\n",
              "    </tr>\n",
              "    <tr>\n",
              "      <th>4</th>\n",
              "      <td>00042b26cf59d7ce69dfabb4e55b4fd9</td>\n",
              "      <td>64b576fb70d441e8f1b2d7d446e483c5</td>\n",
              "      <td>2017-02-04</td>\n",
              "      <td>varzea paulista</td>\n",
              "      <td>ac6c3623068f30de03045865e4e10089</td>\n",
              "      <td>1</td>\n",
              "      <td>199.90</td>\n",
              "    </tr>\n",
              "    <tr>\n",
              "      <th>...</th>\n",
              "      <td>...</td>\n",
              "      <td>...</td>\n",
              "      <td>...</td>\n",
              "      <td>...</td>\n",
              "      <td>...</td>\n",
              "      <td>...</td>\n",
              "      <td>...</td>\n",
              "    </tr>\n",
              "    <tr>\n",
              "      <th>98661</th>\n",
              "      <td>fffc94f6ce00a00581880bf54a75a037</td>\n",
              "      <td>0c9aeda10a71f369396d0c04dce13a64</td>\n",
              "      <td>2018-04-23</td>\n",
              "      <td>sao luis</td>\n",
              "      <td>4aa6014eceb682077f9dc4bffebc05b0</td>\n",
              "      <td>1</td>\n",
              "      <td>299.99</td>\n",
              "    </tr>\n",
              "    <tr>\n",
              "      <th>98662</th>\n",
              "      <td>fffcd46ef2263f404302a634eb57f7eb</td>\n",
              "      <td>0da9fe112eae0c74d3ba1fe16de0988b</td>\n",
              "      <td>2018-07-14</td>\n",
              "      <td>curitiba</td>\n",
              "      <td>32e07fd915822b0765e448c4dd74c828</td>\n",
              "      <td>1</td>\n",
              "      <td>350.00</td>\n",
              "    </tr>\n",
              "    <tr>\n",
              "      <th>98663</th>\n",
              "      <td>fffce4705a9662cd70adb13d4a31832d</td>\n",
              "      <td>cd79b407828f02fdbba457111c38e4c4</td>\n",
              "      <td>2017-10-23</td>\n",
              "      <td>sao paulo</td>\n",
              "      <td>72a30483855e2eafc67aee5dc2560482</td>\n",
              "      <td>1</td>\n",
              "      <td>99.90</td>\n",
              "    </tr>\n",
              "    <tr>\n",
              "      <th>98664</th>\n",
              "      <td>fffe18544ffabc95dfada21779c9644f</td>\n",
              "      <td>eb803377c9315b564bdedad672039306</td>\n",
              "      <td>2017-08-14</td>\n",
              "      <td>vinhedo</td>\n",
              "      <td>9c422a519119dcad7575db5af1ba540e</td>\n",
              "      <td>1</td>\n",
              "      <td>55.99</td>\n",
              "    </tr>\n",
              "    <tr>\n",
              "      <th>98665</th>\n",
              "      <td>fffe41c64501cc87c801fd61db3f6244</td>\n",
              "      <td>cd76a00d8e3ca5e6ab9ed9ecb6667ac4</td>\n",
              "      <td>2018-06-09</td>\n",
              "      <td>botucatu</td>\n",
              "      <td>350688d9dc1e75ff97be326363655e01</td>\n",
              "      <td>1</td>\n",
              "      <td>43.00</td>\n",
              "    </tr>\n",
              "  </tbody>\n",
              "</table>\n",
              "<p>98666 rows × 7 columns</p>\n",
              "</div>"
            ],
            "text/plain": [
              "                               order_id  ... total price\n",
              "0      00010242fe8c5a6d1ba2dd792cb16214  ...       58.90\n",
              "1      00018f77f2f0320c557190d7a144bdd3  ...      239.90\n",
              "2      000229ec398224ef6ca0657da4fc703e  ...      199.00\n",
              "3      00024acbcdf0a6daa1e931b038114c75  ...       12.99\n",
              "4      00042b26cf59d7ce69dfabb4e55b4fd9  ...      199.90\n",
              "...                                 ...  ...         ...\n",
              "98661  fffc94f6ce00a00581880bf54a75a037  ...      299.99\n",
              "98662  fffcd46ef2263f404302a634eb57f7eb  ...      350.00\n",
              "98663  fffce4705a9662cd70adb13d4a31832d  ...       99.90\n",
              "98664  fffe18544ffabc95dfada21779c9644f  ...       55.99\n",
              "98665  fffe41c64501cc87c801fd61db3f6244  ...       43.00\n",
              "\n",
              "[98666 rows x 7 columns]"
            ]
          },
          "metadata": {},
          "execution_count": 21
        }
      ]
    },
    {
      "cell_type": "code",
      "metadata": {
        "id": "66EYPsyWbVQ-"
      },
      "source": [
        "#Date Time Analysis\n",
        "temp_data.loc[:, \"Month\"] = transaction_customer.order_date.dt.month\n",
        "temp_data.loc[:, \"Time\"] = transaction_customer.order_date.dt.time\n",
        "temp_data.loc[:, \"Year\"] = transaction_customer.order_date.dt.year\n",
        "temp_data.loc[:, \"Day\"] = transaction_customer.order_date.dt.day\n",
        "temp_data.loc[:, \"Quarter\"] = transaction_customer.order_date.dt.quarter\n",
        "temp_data.loc[:, \"Day of Week\"] = transaction_customer.order_date.dt.dayofweek"
      ],
      "execution_count": null,
      "outputs": []
    },
    {
      "cell_type": "code",
      "metadata": {
        "id": "LWh8JQ-zfY1M",
        "colab": {
          "base_uri": "https://localhost:8080/",
          "height": 487
        },
        "outputId": "e1792195-3249-4a73-8b99-c4f4794ae476"
      },
      "source": [
        "temp_data"
      ],
      "execution_count": null,
      "outputs": [
        {
          "output_type": "execute_result",
          "data": {
            "text/html": [
              "<div>\n",
              "<style scoped>\n",
              "    .dataframe tbody tr th:only-of-type {\n",
              "        vertical-align: middle;\n",
              "    }\n",
              "\n",
              "    .dataframe tbody tr th {\n",
              "        vertical-align: top;\n",
              "    }\n",
              "\n",
              "    .dataframe thead th {\n",
              "        text-align: right;\n",
              "    }\n",
              "</style>\n",
              "<table border=\"1\" class=\"dataframe\">\n",
              "  <thead>\n",
              "    <tr style=\"text-align: right;\">\n",
              "      <th></th>\n",
              "      <th>order_id</th>\n",
              "      <th>customer_unique_id</th>\n",
              "      <th>order_date</th>\n",
              "      <th>customer_city</th>\n",
              "      <th>product_id</th>\n",
              "      <th>quantity</th>\n",
              "      <th>total price</th>\n",
              "      <th>Month</th>\n",
              "      <th>Time</th>\n",
              "      <th>Year</th>\n",
              "      <th>Day</th>\n",
              "      <th>Quarter</th>\n",
              "      <th>Day of Week</th>\n",
              "    </tr>\n",
              "  </thead>\n",
              "  <tbody>\n",
              "    <tr>\n",
              "      <th>0</th>\n",
              "      <td>00010242fe8c5a6d1ba2dd792cb16214</td>\n",
              "      <td>871766c5855e863f6eccc05f988b23cb</td>\n",
              "      <td>2017-09-13</td>\n",
              "      <td>campos dos goytacazes</td>\n",
              "      <td>4244733e06e7ecb4970a6e2683c13e61</td>\n",
              "      <td>1</td>\n",
              "      <td>58.90</td>\n",
              "      <td>9</td>\n",
              "      <td>00:00:00</td>\n",
              "      <td>2017</td>\n",
              "      <td>13</td>\n",
              "      <td>3</td>\n",
              "      <td>2</td>\n",
              "    </tr>\n",
              "    <tr>\n",
              "      <th>1</th>\n",
              "      <td>00018f77f2f0320c557190d7a144bdd3</td>\n",
              "      <td>eb28e67c4c0b83846050ddfb8a35d051</td>\n",
              "      <td>2017-04-26</td>\n",
              "      <td>santa fe do sul</td>\n",
              "      <td>e5f2d52b802189ee658865ca93d83a8f</td>\n",
              "      <td>1</td>\n",
              "      <td>239.90</td>\n",
              "      <td>4</td>\n",
              "      <td>00:00:00</td>\n",
              "      <td>2017</td>\n",
              "      <td>26</td>\n",
              "      <td>2</td>\n",
              "      <td>2</td>\n",
              "    </tr>\n",
              "    <tr>\n",
              "      <th>2</th>\n",
              "      <td>000229ec398224ef6ca0657da4fc703e</td>\n",
              "      <td>3818d81c6709e39d06b2738a8d3a2474</td>\n",
              "      <td>2018-01-14</td>\n",
              "      <td>para de minas</td>\n",
              "      <td>c777355d18b72b67abbeef9df44fd0fd</td>\n",
              "      <td>1</td>\n",
              "      <td>199.00</td>\n",
              "      <td>1</td>\n",
              "      <td>00:00:00</td>\n",
              "      <td>2018</td>\n",
              "      <td>14</td>\n",
              "      <td>1</td>\n",
              "      <td>6</td>\n",
              "    </tr>\n",
              "    <tr>\n",
              "      <th>3</th>\n",
              "      <td>00024acbcdf0a6daa1e931b038114c75</td>\n",
              "      <td>af861d436cfc08b2c2ddefd0ba074622</td>\n",
              "      <td>2018-08-08</td>\n",
              "      <td>atibaia</td>\n",
              "      <td>7634da152a4610f1595efa32f14722fc</td>\n",
              "      <td>1</td>\n",
              "      <td>12.99</td>\n",
              "      <td>8</td>\n",
              "      <td>00:00:00</td>\n",
              "      <td>2018</td>\n",
              "      <td>8</td>\n",
              "      <td>3</td>\n",
              "      <td>2</td>\n",
              "    </tr>\n",
              "    <tr>\n",
              "      <th>4</th>\n",
              "      <td>00042b26cf59d7ce69dfabb4e55b4fd9</td>\n",
              "      <td>64b576fb70d441e8f1b2d7d446e483c5</td>\n",
              "      <td>2017-02-04</td>\n",
              "      <td>varzea paulista</td>\n",
              "      <td>ac6c3623068f30de03045865e4e10089</td>\n",
              "      <td>1</td>\n",
              "      <td>199.90</td>\n",
              "      <td>2</td>\n",
              "      <td>00:00:00</td>\n",
              "      <td>2017</td>\n",
              "      <td>4</td>\n",
              "      <td>1</td>\n",
              "      <td>5</td>\n",
              "    </tr>\n",
              "    <tr>\n",
              "      <th>...</th>\n",
              "      <td>...</td>\n",
              "      <td>...</td>\n",
              "      <td>...</td>\n",
              "      <td>...</td>\n",
              "      <td>...</td>\n",
              "      <td>...</td>\n",
              "      <td>...</td>\n",
              "      <td>...</td>\n",
              "      <td>...</td>\n",
              "      <td>...</td>\n",
              "      <td>...</td>\n",
              "      <td>...</td>\n",
              "      <td>...</td>\n",
              "    </tr>\n",
              "    <tr>\n",
              "      <th>98661</th>\n",
              "      <td>fffc94f6ce00a00581880bf54a75a037</td>\n",
              "      <td>0c9aeda10a71f369396d0c04dce13a64</td>\n",
              "      <td>2018-04-23</td>\n",
              "      <td>sao luis</td>\n",
              "      <td>4aa6014eceb682077f9dc4bffebc05b0</td>\n",
              "      <td>1</td>\n",
              "      <td>299.99</td>\n",
              "      <td>4</td>\n",
              "      <td>00:00:00</td>\n",
              "      <td>2018</td>\n",
              "      <td>23</td>\n",
              "      <td>2</td>\n",
              "      <td>0</td>\n",
              "    </tr>\n",
              "    <tr>\n",
              "      <th>98662</th>\n",
              "      <td>fffcd46ef2263f404302a634eb57f7eb</td>\n",
              "      <td>0da9fe112eae0c74d3ba1fe16de0988b</td>\n",
              "      <td>2018-07-14</td>\n",
              "      <td>curitiba</td>\n",
              "      <td>32e07fd915822b0765e448c4dd74c828</td>\n",
              "      <td>1</td>\n",
              "      <td>350.00</td>\n",
              "      <td>7</td>\n",
              "      <td>00:00:00</td>\n",
              "      <td>2018</td>\n",
              "      <td>14</td>\n",
              "      <td>3</td>\n",
              "      <td>5</td>\n",
              "    </tr>\n",
              "    <tr>\n",
              "      <th>98663</th>\n",
              "      <td>fffce4705a9662cd70adb13d4a31832d</td>\n",
              "      <td>cd79b407828f02fdbba457111c38e4c4</td>\n",
              "      <td>2017-10-23</td>\n",
              "      <td>sao paulo</td>\n",
              "      <td>72a30483855e2eafc67aee5dc2560482</td>\n",
              "      <td>1</td>\n",
              "      <td>99.90</td>\n",
              "      <td>10</td>\n",
              "      <td>00:00:00</td>\n",
              "      <td>2017</td>\n",
              "      <td>23</td>\n",
              "      <td>4</td>\n",
              "      <td>0</td>\n",
              "    </tr>\n",
              "    <tr>\n",
              "      <th>98664</th>\n",
              "      <td>fffe18544ffabc95dfada21779c9644f</td>\n",
              "      <td>eb803377c9315b564bdedad672039306</td>\n",
              "      <td>2017-08-14</td>\n",
              "      <td>vinhedo</td>\n",
              "      <td>9c422a519119dcad7575db5af1ba540e</td>\n",
              "      <td>1</td>\n",
              "      <td>55.99</td>\n",
              "      <td>8</td>\n",
              "      <td>00:00:00</td>\n",
              "      <td>2017</td>\n",
              "      <td>14</td>\n",
              "      <td>3</td>\n",
              "      <td>0</td>\n",
              "    </tr>\n",
              "    <tr>\n",
              "      <th>98665</th>\n",
              "      <td>fffe41c64501cc87c801fd61db3f6244</td>\n",
              "      <td>cd76a00d8e3ca5e6ab9ed9ecb6667ac4</td>\n",
              "      <td>2018-06-09</td>\n",
              "      <td>botucatu</td>\n",
              "      <td>350688d9dc1e75ff97be326363655e01</td>\n",
              "      <td>1</td>\n",
              "      <td>43.00</td>\n",
              "      <td>6</td>\n",
              "      <td>00:00:00</td>\n",
              "      <td>2018</td>\n",
              "      <td>9</td>\n",
              "      <td>2</td>\n",
              "      <td>5</td>\n",
              "    </tr>\n",
              "  </tbody>\n",
              "</table>\n",
              "<p>98666 rows × 13 columns</p>\n",
              "</div>"
            ],
            "text/plain": [
              "                               order_id  ... Day of Week\n",
              "0      00010242fe8c5a6d1ba2dd792cb16214  ...           2\n",
              "1      00018f77f2f0320c557190d7a144bdd3  ...           2\n",
              "2      000229ec398224ef6ca0657da4fc703e  ...           6\n",
              "3      00024acbcdf0a6daa1e931b038114c75  ...           2\n",
              "4      00042b26cf59d7ce69dfabb4e55b4fd9  ...           5\n",
              "...                                 ...  ...         ...\n",
              "98661  fffc94f6ce00a00581880bf54a75a037  ...           0\n",
              "98662  fffcd46ef2263f404302a634eb57f7eb  ...           5\n",
              "98663  fffce4705a9662cd70adb13d4a31832d  ...           0\n",
              "98664  fffe18544ffabc95dfada21779c9644f  ...           0\n",
              "98665  fffe41c64501cc87c801fd61db3f6244  ...           5\n",
              "\n",
              "[98666 rows x 13 columns]"
            ]
          },
          "metadata": {},
          "execution_count": 23
        }
      ]
    },
    {
      "cell_type": "code",
      "metadata": {
        "id": "3HfAsgOXbjbl"
      },
      "source": [
        "\n",
        "#Mapping day of week\n",
        "dayofweek_mapping = dict({0: \"Monday\", \n",
        "                         1: \"Tuesday\", \n",
        "                         2: \"Wednesday\" , \n",
        "                         3: \"Thursday\", \n",
        "                         4: \"Friday\", \n",
        "                         5: \"Saturday\", \n",
        "                         6: \"Sunday\"})"
      ],
      "execution_count": null,
      "outputs": []
    },
    {
      "cell_type": "code",
      "metadata": {
        "id": "KqJFwlTXbqU3",
        "colab": {
          "base_uri": "https://localhost:8080/",
          "height": 470
        },
        "outputId": "1a331276-edd7-4120-e785-c2af98081787"
      },
      "source": [
        "temp_data[\"Day of Week\"] = temp_data[\"Day of Week\"].map(dayofweek_mapping)\n",
        "temp_data"
      ],
      "execution_count": null,
      "outputs": [
        {
          "output_type": "execute_result",
          "data": {
            "text/html": [
              "<div>\n",
              "<style scoped>\n",
              "    .dataframe tbody tr th:only-of-type {\n",
              "        vertical-align: middle;\n",
              "    }\n",
              "\n",
              "    .dataframe tbody tr th {\n",
              "        vertical-align: top;\n",
              "    }\n",
              "\n",
              "    .dataframe thead th {\n",
              "        text-align: right;\n",
              "    }\n",
              "</style>\n",
              "<table border=\"1\" class=\"dataframe\">\n",
              "  <thead>\n",
              "    <tr style=\"text-align: right;\">\n",
              "      <th></th>\n",
              "      <th>order_id</th>\n",
              "      <th>customer_unique_id</th>\n",
              "      <th>order_date</th>\n",
              "      <th>customer_city</th>\n",
              "      <th>product_id</th>\n",
              "      <th>quantity</th>\n",
              "      <th>total price</th>\n",
              "      <th>Month</th>\n",
              "      <th>Time</th>\n",
              "      <th>Year</th>\n",
              "      <th>Day</th>\n",
              "      <th>Quarter</th>\n",
              "      <th>Day of Week</th>\n",
              "    </tr>\n",
              "  </thead>\n",
              "  <tbody>\n",
              "    <tr>\n",
              "      <th>0</th>\n",
              "      <td>00010242fe8c5a6d1ba2dd792cb16214</td>\n",
              "      <td>871766c5855e863f6eccc05f988b23cb</td>\n",
              "      <td>2017-09-13</td>\n",
              "      <td>campos dos goytacazes</td>\n",
              "      <td>4244733e06e7ecb4970a6e2683c13e61</td>\n",
              "      <td>1</td>\n",
              "      <td>58.90</td>\n",
              "      <td>9</td>\n",
              "      <td>00:00:00</td>\n",
              "      <td>2017</td>\n",
              "      <td>13</td>\n",
              "      <td>3</td>\n",
              "      <td>Wednesday</td>\n",
              "    </tr>\n",
              "    <tr>\n",
              "      <th>1</th>\n",
              "      <td>00018f77f2f0320c557190d7a144bdd3</td>\n",
              "      <td>eb28e67c4c0b83846050ddfb8a35d051</td>\n",
              "      <td>2017-04-26</td>\n",
              "      <td>santa fe do sul</td>\n",
              "      <td>e5f2d52b802189ee658865ca93d83a8f</td>\n",
              "      <td>1</td>\n",
              "      <td>239.90</td>\n",
              "      <td>4</td>\n",
              "      <td>00:00:00</td>\n",
              "      <td>2017</td>\n",
              "      <td>26</td>\n",
              "      <td>2</td>\n",
              "      <td>Wednesday</td>\n",
              "    </tr>\n",
              "    <tr>\n",
              "      <th>2</th>\n",
              "      <td>000229ec398224ef6ca0657da4fc703e</td>\n",
              "      <td>3818d81c6709e39d06b2738a8d3a2474</td>\n",
              "      <td>2018-01-14</td>\n",
              "      <td>para de minas</td>\n",
              "      <td>c777355d18b72b67abbeef9df44fd0fd</td>\n",
              "      <td>1</td>\n",
              "      <td>199.00</td>\n",
              "      <td>1</td>\n",
              "      <td>00:00:00</td>\n",
              "      <td>2018</td>\n",
              "      <td>14</td>\n",
              "      <td>1</td>\n",
              "      <td>Sunday</td>\n",
              "    </tr>\n",
              "    <tr>\n",
              "      <th>3</th>\n",
              "      <td>00024acbcdf0a6daa1e931b038114c75</td>\n",
              "      <td>af861d436cfc08b2c2ddefd0ba074622</td>\n",
              "      <td>2018-08-08</td>\n",
              "      <td>atibaia</td>\n",
              "      <td>7634da152a4610f1595efa32f14722fc</td>\n",
              "      <td>1</td>\n",
              "      <td>12.99</td>\n",
              "      <td>8</td>\n",
              "      <td>00:00:00</td>\n",
              "      <td>2018</td>\n",
              "      <td>8</td>\n",
              "      <td>3</td>\n",
              "      <td>Wednesday</td>\n",
              "    </tr>\n",
              "    <tr>\n",
              "      <th>4</th>\n",
              "      <td>00042b26cf59d7ce69dfabb4e55b4fd9</td>\n",
              "      <td>64b576fb70d441e8f1b2d7d446e483c5</td>\n",
              "      <td>2017-02-04</td>\n",
              "      <td>varzea paulista</td>\n",
              "      <td>ac6c3623068f30de03045865e4e10089</td>\n",
              "      <td>1</td>\n",
              "      <td>199.90</td>\n",
              "      <td>2</td>\n",
              "      <td>00:00:00</td>\n",
              "      <td>2017</td>\n",
              "      <td>4</td>\n",
              "      <td>1</td>\n",
              "      <td>Saturday</td>\n",
              "    </tr>\n",
              "    <tr>\n",
              "      <th>...</th>\n",
              "      <td>...</td>\n",
              "      <td>...</td>\n",
              "      <td>...</td>\n",
              "      <td>...</td>\n",
              "      <td>...</td>\n",
              "      <td>...</td>\n",
              "      <td>...</td>\n",
              "      <td>...</td>\n",
              "      <td>...</td>\n",
              "      <td>...</td>\n",
              "      <td>...</td>\n",
              "      <td>...</td>\n",
              "      <td>...</td>\n",
              "    </tr>\n",
              "    <tr>\n",
              "      <th>98661</th>\n",
              "      <td>fffc94f6ce00a00581880bf54a75a037</td>\n",
              "      <td>0c9aeda10a71f369396d0c04dce13a64</td>\n",
              "      <td>2018-04-23</td>\n",
              "      <td>sao luis</td>\n",
              "      <td>4aa6014eceb682077f9dc4bffebc05b0</td>\n",
              "      <td>1</td>\n",
              "      <td>299.99</td>\n",
              "      <td>4</td>\n",
              "      <td>00:00:00</td>\n",
              "      <td>2018</td>\n",
              "      <td>23</td>\n",
              "      <td>2</td>\n",
              "      <td>Monday</td>\n",
              "    </tr>\n",
              "    <tr>\n",
              "      <th>98662</th>\n",
              "      <td>fffcd46ef2263f404302a634eb57f7eb</td>\n",
              "      <td>0da9fe112eae0c74d3ba1fe16de0988b</td>\n",
              "      <td>2018-07-14</td>\n",
              "      <td>curitiba</td>\n",
              "      <td>32e07fd915822b0765e448c4dd74c828</td>\n",
              "      <td>1</td>\n",
              "      <td>350.00</td>\n",
              "      <td>7</td>\n",
              "      <td>00:00:00</td>\n",
              "      <td>2018</td>\n",
              "      <td>14</td>\n",
              "      <td>3</td>\n",
              "      <td>Saturday</td>\n",
              "    </tr>\n",
              "    <tr>\n",
              "      <th>98663</th>\n",
              "      <td>fffce4705a9662cd70adb13d4a31832d</td>\n",
              "      <td>cd79b407828f02fdbba457111c38e4c4</td>\n",
              "      <td>2017-10-23</td>\n",
              "      <td>sao paulo</td>\n",
              "      <td>72a30483855e2eafc67aee5dc2560482</td>\n",
              "      <td>1</td>\n",
              "      <td>99.90</td>\n",
              "      <td>10</td>\n",
              "      <td>00:00:00</td>\n",
              "      <td>2017</td>\n",
              "      <td>23</td>\n",
              "      <td>4</td>\n",
              "      <td>Monday</td>\n",
              "    </tr>\n",
              "    <tr>\n",
              "      <th>98664</th>\n",
              "      <td>fffe18544ffabc95dfada21779c9644f</td>\n",
              "      <td>eb803377c9315b564bdedad672039306</td>\n",
              "      <td>2017-08-14</td>\n",
              "      <td>vinhedo</td>\n",
              "      <td>9c422a519119dcad7575db5af1ba540e</td>\n",
              "      <td>1</td>\n",
              "      <td>55.99</td>\n",
              "      <td>8</td>\n",
              "      <td>00:00:00</td>\n",
              "      <td>2017</td>\n",
              "      <td>14</td>\n",
              "      <td>3</td>\n",
              "      <td>Monday</td>\n",
              "    </tr>\n",
              "    <tr>\n",
              "      <th>98665</th>\n",
              "      <td>fffe41c64501cc87c801fd61db3f6244</td>\n",
              "      <td>cd76a00d8e3ca5e6ab9ed9ecb6667ac4</td>\n",
              "      <td>2018-06-09</td>\n",
              "      <td>botucatu</td>\n",
              "      <td>350688d9dc1e75ff97be326363655e01</td>\n",
              "      <td>1</td>\n",
              "      <td>43.00</td>\n",
              "      <td>6</td>\n",
              "      <td>00:00:00</td>\n",
              "      <td>2018</td>\n",
              "      <td>9</td>\n",
              "      <td>2</td>\n",
              "      <td>Saturday</td>\n",
              "    </tr>\n",
              "  </tbody>\n",
              "</table>\n",
              "<p>98666 rows × 13 columns</p>\n",
              "</div>"
            ],
            "text/plain": [
              "                               order_id  ... Day of Week\n",
              "0      00010242fe8c5a6d1ba2dd792cb16214  ...   Wednesday\n",
              "1      00018f77f2f0320c557190d7a144bdd3  ...   Wednesday\n",
              "2      000229ec398224ef6ca0657da4fc703e  ...      Sunday\n",
              "3      00024acbcdf0a6daa1e931b038114c75  ...   Wednesday\n",
              "4      00042b26cf59d7ce69dfabb4e55b4fd9  ...    Saturday\n",
              "...                                 ...  ...         ...\n",
              "98661  fffc94f6ce00a00581880bf54a75a037  ...      Monday\n",
              "98662  fffcd46ef2263f404302a634eb57f7eb  ...    Saturday\n",
              "98663  fffce4705a9662cd70adb13d4a31832d  ...      Monday\n",
              "98664  fffe18544ffabc95dfada21779c9644f  ...      Monday\n",
              "98665  fffe41c64501cc87c801fd61db3f6244  ...    Saturday\n",
              "\n",
              "[98666 rows x 13 columns]"
            ]
          },
          "metadata": {},
          "execution_count": 25
        }
      ]
    },
    {
      "cell_type": "code",
      "metadata": {
        "id": "Lr6jOFBUeMfK",
        "colab": {
          "base_uri": "https://localhost:8080/",
          "height": 736
        },
        "outputId": "0457b9cf-20e9-4ad7-d9ae-4d779018ca86"
      },
      "source": [
        "plt.figure(figsize=(8,12))\n",
        "# plt.subplot(3,2,1)\n",
        "sns.lineplot(x = \"Month\", y = \"quantity\", data = temp_data.groupby(\"Month\").sum(\"quantity\"), marker = \"o\", color = \"lightseagreen\")\n",
        "plt.axvline(8, color = \"k\", linestyle = '--', alpha = 0.3)\n",
        "plt.axvline(9, color = 'r', linestyle = '--', alpha = 0.3)\n",
        "plt.axvline(11, color = 'b', linestyle = '--', alpha = 0.3)\n",
        "# plt.text(8.50, 1.3e6, \"Most Transactions\")\n",
        "plt.title(\"Transactions by Month\")\n",
        "plt.show()"
      ],
      "execution_count": null,
      "outputs": [
        {
          "output_type": "display_data",
          "data": {
            "image/png": "[encoded data removed]",
            "text/plain": [
              "<Figure size 576x864 with 1 Axes>"
            ]
          },
          "metadata": {}
        }
      ]
    },
    {
      "cell_type": "code",
      "metadata": {
        "id": "6elqRh8eeRak",
        "colab": {
          "base_uri": "https://localhost:8080/",
          "height": 754
        },
        "outputId": "5de13f64-1aac-41f8-a4a1-e4db65c836e8"
      },
      "source": [
        "plt.figure(figsize=(8,12))\n",
        "# plt.subplot(3,2,2)\n",
        "temp_data.groupby(\"Year\").sum()[\"quantity\"].plot(kind = \"bar\")\n",
        "plt.title(\"Transactions by Year\")\n",
        "plt.show()"
      ],
      "execution_count": null,
      "outputs": [
        {
          "output_type": "display_data",
          "data": {
            "image/png": "[encoded data removed]",
            "text/plain": [
              "<Figure size 576x864 with 1 Axes>"
            ]
          },
          "metadata": {}
        }
      ]
    },
    {
      "cell_type": "code",
      "metadata": {
        "id": "nOLqZR8peV-k",
        "colab": {
          "base_uri": "https://localhost:8080/",
          "height": 733
        },
        "outputId": "5b19d933-5863-46eb-fd49-01336926031c"
      },
      "source": [
        "plt.figure(figsize=(8,12))\n",
        "# plt.subplot(3,2,3)\n",
        "temp_data.groupby(\"Quarter\").sum()[\"quantity\"].plot(kind = \"bar\", color = \"darkslategrey\")\n",
        "plt.title(\"Transactions by Quarter\")\n",
        "plt.show()"
      ],
      "execution_count": null,
      "outputs": [
        {
          "output_type": "display_data",
          "data": {
            "image/png": "[encoded data removed]",
            "text/plain": [
              "<Figure size 576x864 with 1 Axes>"
            ]
          },
          "metadata": {}
        }
      ]
    },
    {
      "cell_type": "code",
      "metadata": {
        "id": "0mYKwKHafDxA",
        "colab": {
          "base_uri": "https://localhost:8080/",
          "height": 1000
        },
        "outputId": "a6fa9f5c-2955-43dc-a10f-aad610ee5007"
      },
      "source": [
        "temp_data.groupby(\"Day\").sum(\"quantity\")"
      ],
      "execution_count": null,
      "outputs": [
        {
          "output_type": "execute_result",
          "data": {
            "text/html": [
              "<div>\n",
              "<style scoped>\n",
              "    .dataframe tbody tr th:only-of-type {\n",
              "        vertical-align: middle;\n",
              "    }\n",
              "\n",
              "    .dataframe tbody tr th {\n",
              "        vertical-align: top;\n",
              "    }\n",
              "\n",
              "    .dataframe thead th {\n",
              "        text-align: right;\n",
              "    }\n",
              "</style>\n",
              "<table border=\"1\" class=\"dataframe\">\n",
              "  <thead>\n",
              "    <tr style=\"text-align: right;\">\n",
              "      <th></th>\n",
              "      <th>quantity</th>\n",
              "      <th>total price</th>\n",
              "      <th>Month</th>\n",
              "      <th>Year</th>\n",
              "      <th>Quarter</th>\n",
              "    </tr>\n",
              "    <tr>\n",
              "      <th>Day</th>\n",
              "      <th></th>\n",
              "      <th></th>\n",
              "      <th></th>\n",
              "      <th></th>\n",
              "      <th></th>\n",
              "    </tr>\n",
              "  </thead>\n",
              "  <tbody>\n",
              "    <tr>\n",
              "      <th>1</th>\n",
              "      <td>3080</td>\n",
              "      <td>408210.51</td>\n",
              "      <td>19256</td>\n",
              "      <td>6214057</td>\n",
              "      <td>7314</td>\n",
              "    </tr>\n",
              "    <tr>\n",
              "      <th>2</th>\n",
              "      <td>3186</td>\n",
              "      <td>399852.12</td>\n",
              "      <td>18851</td>\n",
              "      <td>6428053</td>\n",
              "      <td>7370</td>\n",
              "    </tr>\n",
              "    <tr>\n",
              "      <th>3</th>\n",
              "      <td>3254</td>\n",
              "      <td>415594.78</td>\n",
              "      <td>20051</td>\n",
              "      <td>6565209</td>\n",
              "      <td>7821</td>\n",
              "    </tr>\n",
              "    <tr>\n",
              "      <th>4</th>\n",
              "      <td>3459</td>\n",
              "      <td>459167.84</td>\n",
              "      <td>21403</td>\n",
              "      <td>6978681</td>\n",
              "      <td>8316</td>\n",
              "    </tr>\n",
              "    <tr>\n",
              "      <th>5</th>\n",
              "      <td>3412</td>\n",
              "      <td>432452.15</td>\n",
              "      <td>20515</td>\n",
              "      <td>6883834</td>\n",
              "      <td>7980</td>\n",
              "    </tr>\n",
              "    <tr>\n",
              "      <th>6</th>\n",
              "      <td>3425</td>\n",
              "      <td>443101.49</td>\n",
              "      <td>21005</td>\n",
              "      <td>6910048</td>\n",
              "      <td>8078</td>\n",
              "    </tr>\n",
              "    <tr>\n",
              "      <th>7</th>\n",
              "      <td>3330</td>\n",
              "      <td>423694.81</td>\n",
              "      <td>19840</td>\n",
              "      <td>6718479</td>\n",
              "      <td>7655</td>\n",
              "    </tr>\n",
              "    <tr>\n",
              "      <th>8</th>\n",
              "      <td>3298</td>\n",
              "      <td>397646.37</td>\n",
              "      <td>19423</td>\n",
              "      <td>6653928</td>\n",
              "      <td>7554</td>\n",
              "    </tr>\n",
              "    <tr>\n",
              "      <th>9</th>\n",
              "      <td>3239</td>\n",
              "      <td>423666.94</td>\n",
              "      <td>19142</td>\n",
              "      <td>6534900</td>\n",
              "      <td>7528</td>\n",
              "    </tr>\n",
              "    <tr>\n",
              "      <th>10</th>\n",
              "      <td>3139</td>\n",
              "      <td>407916.88</td>\n",
              "      <td>18944</td>\n",
              "      <td>6333029</td>\n",
              "      <td>7424</td>\n",
              "    </tr>\n",
              "    <tr>\n",
              "      <th>11</th>\n",
              "      <td>3279</td>\n",
              "      <td>428440.51</td>\n",
              "      <td>19965</td>\n",
              "      <td>6615522</td>\n",
              "      <td>7725</td>\n",
              "    </tr>\n",
              "    <tr>\n",
              "      <th>12</th>\n",
              "      <td>3170</td>\n",
              "      <td>406326.39</td>\n",
              "      <td>19245</td>\n",
              "      <td>6395599</td>\n",
              "      <td>7422</td>\n",
              "    </tr>\n",
              "    <tr>\n",
              "      <th>13</th>\n",
              "      <td>3248</td>\n",
              "      <td>408915.24</td>\n",
              "      <td>19945</td>\n",
              "      <td>6553003</td>\n",
              "      <td>7664</td>\n",
              "    </tr>\n",
              "    <tr>\n",
              "      <th>14</th>\n",
              "      <td>3367</td>\n",
              "      <td>418662.73</td>\n",
              "      <td>20067</td>\n",
              "      <td>6793148</td>\n",
              "      <td>7764</td>\n",
              "    </tr>\n",
              "    <tr>\n",
              "      <th>15</th>\n",
              "      <td>3503</td>\n",
              "      <td>432840.49</td>\n",
              "      <td>20040</td>\n",
              "      <td>7067620</td>\n",
              "      <td>7826</td>\n",
              "    </tr>\n",
              "    <tr>\n",
              "      <th>16</th>\n",
              "      <td>3564</td>\n",
              "      <td>456426.80</td>\n",
              "      <td>20905</td>\n",
              "      <td>7190718</td>\n",
              "      <td>8264</td>\n",
              "    </tr>\n",
              "    <tr>\n",
              "      <th>17</th>\n",
              "      <td>3168</td>\n",
              "      <td>394988.73</td>\n",
              "      <td>18797</td>\n",
              "      <td>6391640</td>\n",
              "      <td>7487</td>\n",
              "    </tr>\n",
              "    <tr>\n",
              "      <th>18</th>\n",
              "      <td>3411</td>\n",
              "      <td>455079.54</td>\n",
              "      <td>20578</td>\n",
              "      <td>6881905</td>\n",
              "      <td>8089</td>\n",
              "    </tr>\n",
              "    <tr>\n",
              "      <th>19</th>\n",
              "      <td>3352</td>\n",
              "      <td>410655.81</td>\n",
              "      <td>19496</td>\n",
              "      <td>6762896</td>\n",
              "      <td>7668</td>\n",
              "    </tr>\n",
              "    <tr>\n",
              "      <th>20</th>\n",
              "      <td>3233</td>\n",
              "      <td>411656.64</td>\n",
              "      <td>19097</td>\n",
              "      <td>6522805</td>\n",
              "      <td>7430</td>\n",
              "    </tr>\n",
              "    <tr>\n",
              "      <th>21</th>\n",
              "      <td>3093</td>\n",
              "      <td>360709.97</td>\n",
              "      <td>18321</td>\n",
              "      <td>6240345</td>\n",
              "      <td>7109</td>\n",
              "    </tr>\n",
              "    <tr>\n",
              "      <th>22</th>\n",
              "      <td>3161</td>\n",
              "      <td>369093.13</td>\n",
              "      <td>17553</td>\n",
              "      <td>6377558</td>\n",
              "      <td>6975</td>\n",
              "    </tr>\n",
              "    <tr>\n",
              "      <th>23</th>\n",
              "      <td>3101</td>\n",
              "      <td>373007.94</td>\n",
              "      <td>17771</td>\n",
              "      <td>6256447</td>\n",
              "      <td>7110</td>\n",
              "    </tr>\n",
              "    <tr>\n",
              "      <th>24</th>\n",
              "      <td>3850</td>\n",
              "      <td>468152.08</td>\n",
              "      <td>26982</td>\n",
              "      <td>7767000</td>\n",
              "      <td>10469</td>\n",
              "    </tr>\n",
              "    <tr>\n",
              "      <th>25</th>\n",
              "      <td>3272</td>\n",
              "      <td>398747.26</td>\n",
              "      <td>20101</td>\n",
              "      <td>6601247</td>\n",
              "      <td>7934</td>\n",
              "    </tr>\n",
              "    <tr>\n",
              "      <th>26</th>\n",
              "      <td>3273</td>\n",
              "      <td>392997.69</td>\n",
              "      <td>19528</td>\n",
              "      <td>6603351</td>\n",
              "      <td>7670</td>\n",
              "    </tr>\n",
              "    <tr>\n",
              "      <th>27</th>\n",
              "      <td>3102</td>\n",
              "      <td>382701.17</td>\n",
              "      <td>18925</td>\n",
              "      <td>6258241</td>\n",
              "      <td>7329</td>\n",
              "    </tr>\n",
              "    <tr>\n",
              "      <th>28</th>\n",
              "      <td>2994</td>\n",
              "      <td>388112.16</td>\n",
              "      <td>18059</td>\n",
              "      <td>6040353</td>\n",
              "      <td>6975</td>\n",
              "    </tr>\n",
              "    <tr>\n",
              "      <th>29</th>\n",
              "      <td>2533</td>\n",
              "      <td>330904.62</td>\n",
              "      <td>16054</td>\n",
              "      <td>5110194</td>\n",
              "      <td>6248</td>\n",
              "    </tr>\n",
              "    <tr>\n",
              "      <th>30</th>\n",
              "      <td>2506</td>\n",
              "      <td>309832.71</td>\n",
              "      <td>15477</td>\n",
              "      <td>5055812</td>\n",
              "      <td>6161</td>\n",
              "    </tr>\n",
              "    <tr>\n",
              "      <th>31</th>\n",
              "      <td>1664</td>\n",
              "      <td>218840.81</td>\n",
              "      <td>9239</td>\n",
              "      <td>3357163</td>\n",
              "      <td>3846</td>\n",
              "    </tr>\n",
              "  </tbody>\n",
              "</table>\n",
              "</div>"
            ],
            "text/plain": [
              "     quantity  total price  Month     Year  Quarter\n",
              "Day                                                \n",
              "1        3080    408210.51  19256  6214057     7314\n",
              "2        3186    399852.12  18851  6428053     7370\n",
              "3        3254    415594.78  20051  6565209     7821\n",
              "4        3459    459167.84  21403  6978681     8316\n",
              "5        3412    432452.15  20515  6883834     7980\n",
              "6        3425    443101.49  21005  6910048     8078\n",
              "7        3330    423694.81  19840  6718479     7655\n",
              "8        3298    397646.37  19423  6653928     7554\n",
              "9        3239    423666.94  19142  6534900     7528\n",
              "10       3139    407916.88  18944  6333029     7424\n",
              "11       3279    428440.51  19965  6615522     7725\n",
              "12       3170    406326.39  19245  6395599     7422\n",
              "13       3248    408915.24  19945  6553003     7664\n",
              "14       3367    418662.73  20067  6793148     7764\n",
              "15       3503    432840.49  20040  7067620     7826\n",
              "16       3564    456426.80  20905  7190718     8264\n",
              "17       3168    394988.73  18797  6391640     7487\n",
              "18       3411    455079.54  20578  6881905     8089\n",
              "19       3352    410655.81  19496  6762896     7668\n",
              "20       3233    411656.64  19097  6522805     7430\n",
              "21       3093    360709.97  18321  6240345     7109\n",
              "22       3161    369093.13  17553  6377558     6975\n",
              "23       3101    373007.94  17771  6256447     7110\n",
              "24       3850    468152.08  26982  7767000    10469\n",
              "25       3272    398747.26  20101  6601247     7934\n",
              "26       3273    392997.69  19528  6603351     7670\n",
              "27       3102    382701.17  18925  6258241     7329\n",
              "28       2994    388112.16  18059  6040353     6975\n",
              "29       2533    330904.62  16054  5110194     6248\n",
              "30       2506    309832.71  15477  5055812     6161\n",
              "31       1664    218840.81   9239  3357163     3846"
            ]
          },
          "metadata": {},
          "execution_count": 29
        }
      ]
    },
    {
      "cell_type": "code",
      "metadata": {
        "id": "9KpIPMKKeY-O",
        "colab": {
          "base_uri": "https://localhost:8080/",
          "height": 736
        },
        "outputId": "2f1ce8a3-a453-4d10-8157-62ce0acef9a1"
      },
      "source": [
        "plt.figure(figsize=(8,12))\n",
        "# plt.subplot(3,2,4)\n",
        "sns.lineplot(x = \"Day\", y = \"quantity\", data = temp_data.groupby(\"Day\").sum(\"quantity\"), marker = \"o\", )\n",
        "plt.axvline(16, color = 'r', linestyle = '--')\n",
        "plt.axvline(24, color = 'k', linestyle = \"dotted\")\n",
        "plt.title(\"Transactions by Day\")\n",
        "plt.show()"
      ],
      "execution_count": null,
      "outputs": [
        {
          "output_type": "display_data",
          "data": {
            "image/png": "[encoded data removed]",
            "text/plain": [
              "<Figure size 576x864 with 1 Axes>"
            ]
          },
          "metadata": {}
        }
      ]
    },
    {
      "cell_type": "code",
      "metadata": {
        "id": "QR4UMz0ieivV",
        "colab": {
          "base_uri": "https://localhost:8080/",
          "height": 293
        },
        "outputId": "fe47418f-2079-493e-98d4-3dc7c90640e7"
      },
      "source": [
        "# plt.subplot(3,2,5)\n",
        "temp_data.groupby(\"Day of Week\").sum()[\"quantity\"].plot(kind = \"bar\", color = \"darkorange\")\n",
        "plt.title(\"Transactions by Day of Week\")\n",
        "plt.tight_layout()\n",
        "plt.show()"
      ],
      "execution_count": null,
      "outputs": [
        {
          "output_type": "display_data",
          "data": {
            "image/png": "[encoded data removed]",
            "text/plain": [
              "<Figure size 432x288 with 1 Axes>"
            ]
          },
          "metadata": {}
        }
      ]
    },
    {
      "cell_type": "code",
      "metadata": {
        "id": "fkJ_kcHThj5C",
        "colab": {
          "base_uri": "https://localhost:8080/",
          "height": 470
        },
        "outputId": "c3a0543a-953b-40cd-8657-5739a431f0ef"
      },
      "source": [
        "temp_data"
      ],
      "execution_count": null,
      "outputs": [
        {
          "output_type": "execute_result",
          "data": {
            "text/html": [
              "<div>\n",
              "<style scoped>\n",
              "    .dataframe tbody tr th:only-of-type {\n",
              "        vertical-align: middle;\n",
              "    }\n",
              "\n",
              "    .dataframe tbody tr th {\n",
              "        vertical-align: top;\n",
              "    }\n",
              "\n",
              "    .dataframe thead th {\n",
              "        text-align: right;\n",
              "    }\n",
              "</style>\n",
              "<table border=\"1\" class=\"dataframe\">\n",
              "  <thead>\n",
              "    <tr style=\"text-align: right;\">\n",
              "      <th></th>\n",
              "      <th>order_id</th>\n",
              "      <th>customer_unique_id</th>\n",
              "      <th>order_date</th>\n",
              "      <th>customer_city</th>\n",
              "      <th>product_id</th>\n",
              "      <th>quantity</th>\n",
              "      <th>total price</th>\n",
              "      <th>Month</th>\n",
              "      <th>Time</th>\n",
              "      <th>Year</th>\n",
              "      <th>Day</th>\n",
              "      <th>Quarter</th>\n",
              "      <th>Day of Week</th>\n",
              "    </tr>\n",
              "  </thead>\n",
              "  <tbody>\n",
              "    <tr>\n",
              "      <th>0</th>\n",
              "      <td>00010242fe8c5a6d1ba2dd792cb16214</td>\n",
              "      <td>871766c5855e863f6eccc05f988b23cb</td>\n",
              "      <td>2017-09-13</td>\n",
              "      <td>campos dos goytacazes</td>\n",
              "      <td>4244733e06e7ecb4970a6e2683c13e61</td>\n",
              "      <td>1</td>\n",
              "      <td>58.90</td>\n",
              "      <td>9</td>\n",
              "      <td>00:00:00</td>\n",
              "      <td>2017</td>\n",
              "      <td>13</td>\n",
              "      <td>3</td>\n",
              "      <td>Wednesday</td>\n",
              "    </tr>\n",
              "    <tr>\n",
              "      <th>1</th>\n",
              "      <td>00018f77f2f0320c557190d7a144bdd3</td>\n",
              "      <td>eb28e67c4c0b83846050ddfb8a35d051</td>\n",
              "      <td>2017-04-26</td>\n",
              "      <td>santa fe do sul</td>\n",
              "      <td>e5f2d52b802189ee658865ca93d83a8f</td>\n",
              "      <td>1</td>\n",
              "      <td>239.90</td>\n",
              "      <td>4</td>\n",
              "      <td>00:00:00</td>\n",
              "      <td>2017</td>\n",
              "      <td>26</td>\n",
              "      <td>2</td>\n",
              "      <td>Wednesday</td>\n",
              "    </tr>\n",
              "    <tr>\n",
              "      <th>2</th>\n",
              "      <td>000229ec398224ef6ca0657da4fc703e</td>\n",
              "      <td>3818d81c6709e39d06b2738a8d3a2474</td>\n",
              "      <td>2018-01-14</td>\n",
              "      <td>para de minas</td>\n",
              "      <td>c777355d18b72b67abbeef9df44fd0fd</td>\n",
              "      <td>1</td>\n",
              "      <td>199.00</td>\n",
              "      <td>1</td>\n",
              "      <td>00:00:00</td>\n",
              "      <td>2018</td>\n",
              "      <td>14</td>\n",
              "      <td>1</td>\n",
              "      <td>Sunday</td>\n",
              "    </tr>\n",
              "    <tr>\n",
              "      <th>3</th>\n",
              "      <td>00024acbcdf0a6daa1e931b038114c75</td>\n",
              "      <td>af861d436cfc08b2c2ddefd0ba074622</td>\n",
              "      <td>2018-08-08</td>\n",
              "      <td>atibaia</td>\n",
              "      <td>7634da152a4610f1595efa32f14722fc</td>\n",
              "      <td>1</td>\n",
              "      <td>12.99</td>\n",
              "      <td>8</td>\n",
              "      <td>00:00:00</td>\n",
              "      <td>2018</td>\n",
              "      <td>8</td>\n",
              "      <td>3</td>\n",
              "      <td>Wednesday</td>\n",
              "    </tr>\n",
              "    <tr>\n",
              "      <th>4</th>\n",
              "      <td>00042b26cf59d7ce69dfabb4e55b4fd9</td>\n",
              "      <td>64b576fb70d441e8f1b2d7d446e483c5</td>\n",
              "      <td>2017-02-04</td>\n",
              "      <td>varzea paulista</td>\n",
              "      <td>ac6c3623068f30de03045865e4e10089</td>\n",
              "      <td>1</td>\n",
              "      <td>199.90</td>\n",
              "      <td>2</td>\n",
              "      <td>00:00:00</td>\n",
              "      <td>2017</td>\n",
              "      <td>4</td>\n",
              "      <td>1</td>\n",
              "      <td>Saturday</td>\n",
              "    </tr>\n",
              "    <tr>\n",
              "      <th>...</th>\n",
              "      <td>...</td>\n",
              "      <td>...</td>\n",
              "      <td>...</td>\n",
              "      <td>...</td>\n",
              "      <td>...</td>\n",
              "      <td>...</td>\n",
              "      <td>...</td>\n",
              "      <td>...</td>\n",
              "      <td>...</td>\n",
              "      <td>...</td>\n",
              "      <td>...</td>\n",
              "      <td>...</td>\n",
              "      <td>...</td>\n",
              "    </tr>\n",
              "    <tr>\n",
              "      <th>98661</th>\n",
              "      <td>fffc94f6ce00a00581880bf54a75a037</td>\n",
              "      <td>0c9aeda10a71f369396d0c04dce13a64</td>\n",
              "      <td>2018-04-23</td>\n",
              "      <td>sao luis</td>\n",
              "      <td>4aa6014eceb682077f9dc4bffebc05b0</td>\n",
              "      <td>1</td>\n",
              "      <td>299.99</td>\n",
              "      <td>4</td>\n",
              "      <td>00:00:00</td>\n",
              "      <td>2018</td>\n",
              "      <td>23</td>\n",
              "      <td>2</td>\n",
              "      <td>Monday</td>\n",
              "    </tr>\n",
              "    <tr>\n",
              "      <th>98662</th>\n",
              "      <td>fffcd46ef2263f404302a634eb57f7eb</td>\n",
              "      <td>0da9fe112eae0c74d3ba1fe16de0988b</td>\n",
              "      <td>2018-07-14</td>\n",
              "      <td>curitiba</td>\n",
              "      <td>32e07fd915822b0765e448c4dd74c828</td>\n",
              "      <td>1</td>\n",
              "      <td>350.00</td>\n",
              "      <td>7</td>\n",
              "      <td>00:00:00</td>\n",
              "      <td>2018</td>\n",
              "      <td>14</td>\n",
              "      <td>3</td>\n",
              "      <td>Saturday</td>\n",
              "    </tr>\n",
              "    <tr>\n",
              "      <th>98663</th>\n",
              "      <td>fffce4705a9662cd70adb13d4a31832d</td>\n",
              "      <td>cd79b407828f02fdbba457111c38e4c4</td>\n",
              "      <td>2017-10-23</td>\n",
              "      <td>sao paulo</td>\n",
              "      <td>72a30483855e2eafc67aee5dc2560482</td>\n",
              "      <td>1</td>\n",
              "      <td>99.90</td>\n",
              "      <td>10</td>\n",
              "      <td>00:00:00</td>\n",
              "      <td>2017</td>\n",
              "      <td>23</td>\n",
              "      <td>4</td>\n",
              "      <td>Monday</td>\n",
              "    </tr>\n",
              "    <tr>\n",
              "      <th>98664</th>\n",
              "      <td>fffe18544ffabc95dfada21779c9644f</td>\n",
              "      <td>eb803377c9315b564bdedad672039306</td>\n",
              "      <td>2017-08-14</td>\n",
              "      <td>vinhedo</td>\n",
              "      <td>9c422a519119dcad7575db5af1ba540e</td>\n",
              "      <td>1</td>\n",
              "      <td>55.99</td>\n",
              "      <td>8</td>\n",
              "      <td>00:00:00</td>\n",
              "      <td>2017</td>\n",
              "      <td>14</td>\n",
              "      <td>3</td>\n",
              "      <td>Monday</td>\n",
              "    </tr>\n",
              "    <tr>\n",
              "      <th>98665</th>\n",
              "      <td>fffe41c64501cc87c801fd61db3f6244</td>\n",
              "      <td>cd76a00d8e3ca5e6ab9ed9ecb6667ac4</td>\n",
              "      <td>2018-06-09</td>\n",
              "      <td>botucatu</td>\n",
              "      <td>350688d9dc1e75ff97be326363655e01</td>\n",
              "      <td>1</td>\n",
              "      <td>43.00</td>\n",
              "      <td>6</td>\n",
              "      <td>00:00:00</td>\n",
              "      <td>2018</td>\n",
              "      <td>9</td>\n",
              "      <td>2</td>\n",
              "      <td>Saturday</td>\n",
              "    </tr>\n",
              "  </tbody>\n",
              "</table>\n",
              "<p>98666 rows × 13 columns</p>\n",
              "</div>"
            ],
            "text/plain": [
              "                               order_id  ... Day of Week\n",
              "0      00010242fe8c5a6d1ba2dd792cb16214  ...   Wednesday\n",
              "1      00018f77f2f0320c557190d7a144bdd3  ...   Wednesday\n",
              "2      000229ec398224ef6ca0657da4fc703e  ...      Sunday\n",
              "3      00024acbcdf0a6daa1e931b038114c75  ...   Wednesday\n",
              "4      00042b26cf59d7ce69dfabb4e55b4fd9  ...    Saturday\n",
              "...                                 ...  ...         ...\n",
              "98661  fffc94f6ce00a00581880bf54a75a037  ...      Monday\n",
              "98662  fffcd46ef2263f404302a634eb57f7eb  ...    Saturday\n",
              "98663  fffce4705a9662cd70adb13d4a31832d  ...      Monday\n",
              "98664  fffe18544ffabc95dfada21779c9644f  ...      Monday\n",
              "98665  fffe41c64501cc87c801fd61db3f6244  ...    Saturday\n",
              "\n",
              "[98666 rows x 13 columns]"
            ]
          },
          "metadata": {},
          "execution_count": 32
        }
      ]
    },
    {
      "cell_type": "code",
      "metadata": {
        "id": "vKpG7UMhhWC5",
        "colab": {
          "base_uri": "https://localhost:8080/"
        },
        "outputId": "a6451bfc-499d-4215-c30a-37c35becf5e9"
      },
      "source": [
        "print(\"Total Number of Customer City in 2016: {}\".format(len(temp_data[temp_data[\"Year\"] == 2016][\"customer_city\"].unique())))\n",
        "print(\"Total Number of Transactions in 2016: {}\".format(temp_data[temp_data[\"Year\"] == 2016][\"quantity\"].sum()))\n",
        "print(\"--------------------------------------------\")\n",
        "print(\"Total Number of Customer City in 2017: {}\".format(len(temp_data[temp_data[\"Year\"] == 2017][\"customer_city\"].unique())))\n",
        "print(\"Total Number of Transactions in 2017: {}\".format(temp_data[temp_data[\"Year\"] == 2017][\"quantity\"].sum()))\n",
        "print(\"--------------------------------------------\")\n",
        "print(\"Total Number of Customer City in 2018: {}\".format(len(temp_data[temp_data[\"Year\"] == 2018][\"customer_city\"].unique())))\n",
        "print(\"Total Number of Transactions in 2018: {}\".format(temp_data[temp_data[\"Year\"] == 2018][\"quantity\"].sum()))"
      ],
      "execution_count": null,
      "outputs": [
        {
          "output_type": "stream",
          "name": "stdout",
          "text": [
            "Total Number of Customer City in 2016: 173\n",
            "Total Number of Transactions in 2016: 312\n",
            "--------------------------------------------\n",
            "Total Number of Customer City in 2017: 3273\n",
            "Total Number of Transactions in 2017: 44579\n",
            "--------------------------------------------\n",
            "Total Number of Customer City in 2018: 3276\n",
            "Total Number of Transactions in 2018: 53775\n"
          ]
        }
      ]
    },
    {
      "cell_type": "markdown",
      "metadata": {
        "id": "CVpjw5UFi0n4"
      },
      "source": [
        "# EDA Insight"
      ]
    },
    {
      "cell_type": "markdown",
      "metadata": {
        "id": "7OH1ls9oi50F"
      },
      "source": [
        "1) 5 city with the best sales are sao paulo,rio de janeiro,belo horizonte,brasilia,curitiba.\n",
        "\n",
        "2) Most Transactions happened in the month of August which is evident due to festive seasons.\n",
        "\n",
        "3) 2018 is the year in which we have the most transactions followed by the 2017\n",
        "\n",
        "4) Q2 being the highest when it comes transactions.\n",
        "\n",
        "5) It also observed that in the end of the 1st week and starting of the 3rd week, people tends to buy more.\n",
        "\n",
        "6) People loves to shop on monday followed by Tuesday and Wednesday."
      ]
    },
    {
      "cell_type": "markdown",
      "metadata": {
        "id": "-zhEu8wekGsS"
      },
      "source": [
        "# RFM Analysis |(Recency, Frequency, Monetary)"
      ]
    },
    {
      "cell_type": "markdown",
      "metadata": {
        "id": "ONmKzj7tqmDN"
      },
      "source": [
        "*   frequency: _ of days in which a customer made a repeat purchase\n",
        "*   T: customer's age in days\n",
        "*   recency: customer's age in days at time of most recent purchase\n",
        "*   monetary_value: mean of a customer's purchases, excluding the 1st purchase\n"
      ]
    },
    {
      "cell_type": "code",
      "metadata": {
        "id": "IWRPi3hxklNo",
        "colab": {
          "base_uri": "https://localhost:8080/",
          "height": 504
        },
        "outputId": "fd36b45e-8c6d-4c77-dd8a-f6e44d5ab504"
      },
      "source": [
        "transaction_customer.sort_values('quantity',ascending=False)"
      ],
      "execution_count": null,
      "outputs": [
        {
          "output_type": "execute_result",
          "data": {
            "text/html": [
              "<div>\n",
              "<style scoped>\n",
              "    .dataframe tbody tr th:only-of-type {\n",
              "        vertical-align: middle;\n",
              "    }\n",
              "\n",
              "    .dataframe tbody tr th {\n",
              "        vertical-align: top;\n",
              "    }\n",
              "\n",
              "    .dataframe thead th {\n",
              "        text-align: right;\n",
              "    }\n",
              "</style>\n",
              "<table border=\"1\" class=\"dataframe\">\n",
              "  <thead>\n",
              "    <tr style=\"text-align: right;\">\n",
              "      <th></th>\n",
              "      <th>order_id</th>\n",
              "      <th>customer_unique_id</th>\n",
              "      <th>order_date</th>\n",
              "      <th>customer_city</th>\n",
              "      <th>product_id</th>\n",
              "      <th>quantity</th>\n",
              "      <th>total price</th>\n",
              "    </tr>\n",
              "  </thead>\n",
              "  <tbody>\n",
              "    <tr>\n",
              "      <th>0</th>\n",
              "      <td>00010242fe8c5a6d1ba2dd792cb16214</td>\n",
              "      <td>871766c5855e863f6eccc05f988b23cb</td>\n",
              "      <td>2017-09-13</td>\n",
              "      <td>campos dos goytacazes</td>\n",
              "      <td>4244733e06e7ecb4970a6e2683c13e61</td>\n",
              "      <td>1</td>\n",
              "      <td>58.90</td>\n",
              "    </tr>\n",
              "    <tr>\n",
              "      <th>65713</th>\n",
              "      <td>ab13cb6c13063f2603a94c9ddca34f66</td>\n",
              "      <td>dda7d094a7c887911a9f6cadf698c5b9</td>\n",
              "      <td>2018-01-16</td>\n",
              "      <td>rondonopolis</td>\n",
              "      <td>038e3a669bb495e56d9d609d874fb668</td>\n",
              "      <td>1</td>\n",
              "      <td>1599.00</td>\n",
              "    </tr>\n",
              "    <tr>\n",
              "      <th>65783</th>\n",
              "      <td>ab3a669dbdc7a8d447bb6fc7a158cf94</td>\n",
              "      <td>c2e971c4b49f34cd0dd4c155c1d541a5</td>\n",
              "      <td>2018-07-20</td>\n",
              "      <td>santa cruz das palmeiras</td>\n",
              "      <td>4fa0d1019affe5fe2c492c00422f01d8</td>\n",
              "      <td>1</td>\n",
              "      <td>24.90</td>\n",
              "    </tr>\n",
              "    <tr>\n",
              "      <th>65782</th>\n",
              "      <td>ab3a6663f21c1a36401300460d3c41cd</td>\n",
              "      <td>9b1c978cb21b066c8cb29a12c846a8c5</td>\n",
              "      <td>2017-10-25</td>\n",
              "      <td>jaboatao dos guararapes</td>\n",
              "      <td>f3c39c81e52f6b07a486fb78d90dbfef</td>\n",
              "      <td>1</td>\n",
              "      <td>539.00</td>\n",
              "    </tr>\n",
              "    <tr>\n",
              "      <th>65781</th>\n",
              "      <td>ab3a0535e202529923e53dfdadf8042e</td>\n",
              "      <td>8dc630bd7459952cad4618716320c24e</td>\n",
              "      <td>2018-04-26</td>\n",
              "      <td>belo horizonte</td>\n",
              "      <td>bdcf6a834e8faa30dac3886c7a58e92e</td>\n",
              "      <td>1</td>\n",
              "      <td>35.90</td>\n",
              "    </tr>\n",
              "    <tr>\n",
              "      <th>...</th>\n",
              "      <td>...</td>\n",
              "      <td>...</td>\n",
              "      <td>...</td>\n",
              "      <td>...</td>\n",
              "      <td>...</td>\n",
              "      <td>...</td>\n",
              "      <td>...</td>\n",
              "    </tr>\n",
              "    <tr>\n",
              "      <th>32886</th>\n",
              "      <td>5561adcb0fd46da4cad3048fa4e7fc00</td>\n",
              "      <td>87d406e4698a66118241f1f4a407ee03</td>\n",
              "      <td>2018-06-25</td>\n",
              "      <td>sao paulo</td>\n",
              "      <td>4d071a22b9cc548b64a75075a4c63151</td>\n",
              "      <td>1</td>\n",
              "      <td>99.90</td>\n",
              "    </tr>\n",
              "    <tr>\n",
              "      <th>32885</th>\n",
              "      <td>555e60e282181725debc9eb2d69fda3f</td>\n",
              "      <td>253ba0a753f158c30d832404fd363ea6</td>\n",
              "      <td>2018-06-05</td>\n",
              "      <td>sao paulo</td>\n",
              "      <td>79c716797a31592b8dbe45b2a93a835f</td>\n",
              "      <td>1</td>\n",
              "      <td>11.99</td>\n",
              "    </tr>\n",
              "    <tr>\n",
              "      <th>32884</th>\n",
              "      <td>555e4d40fb6beea866d46eb6a5a01b41</td>\n",
              "      <td>7d15b5b3609f450652ddc385d624a2cc</td>\n",
              "      <td>2017-09-17</td>\n",
              "      <td>sao paulo</td>\n",
              "      <td>83d199d296c44101c8c3b5c9c0cce9ea</td>\n",
              "      <td>1</td>\n",
              "      <td>69.99</td>\n",
              "    </tr>\n",
              "    <tr>\n",
              "      <th>32883</th>\n",
              "      <td>555e1afa0cf180760b7ea9f6d8ebc329</td>\n",
              "      <td>b01b4873885544bd7cf29c9a355d0bcf</td>\n",
              "      <td>2018-04-29</td>\n",
              "      <td>palhoca</td>\n",
              "      <td>2c715979f8471e42e0daeeb855f04f9c</td>\n",
              "      <td>1</td>\n",
              "      <td>119.00</td>\n",
              "    </tr>\n",
              "    <tr>\n",
              "      <th>98665</th>\n",
              "      <td>fffe41c64501cc87c801fd61db3f6244</td>\n",
              "      <td>cd76a00d8e3ca5e6ab9ed9ecb6667ac4</td>\n",
              "      <td>2018-06-09</td>\n",
              "      <td>botucatu</td>\n",
              "      <td>350688d9dc1e75ff97be326363655e01</td>\n",
              "      <td>1</td>\n",
              "      <td>43.00</td>\n",
              "    </tr>\n",
              "  </tbody>\n",
              "</table>\n",
              "<p>98666 rows × 7 columns</p>\n",
              "</div>"
            ],
            "text/plain": [
              "                               order_id  ... total price\n",
              "0      00010242fe8c5a6d1ba2dd792cb16214  ...       58.90\n",
              "65713  ab13cb6c13063f2603a94c9ddca34f66  ...     1599.00\n",
              "65783  ab3a669dbdc7a8d447bb6fc7a158cf94  ...       24.90\n",
              "65782  ab3a6663f21c1a36401300460d3c41cd  ...      539.00\n",
              "65781  ab3a0535e202529923e53dfdadf8042e  ...       35.90\n",
              "...                                 ...  ...         ...\n",
              "32886  5561adcb0fd46da4cad3048fa4e7fc00  ...       99.90\n",
              "32885  555e60e282181725debc9eb2d69fda3f  ...       11.99\n",
              "32884  555e4d40fb6beea866d46eb6a5a01b41  ...       69.99\n",
              "32883  555e1afa0cf180760b7ea9f6d8ebc329  ...      119.00\n",
              "98665  fffe41c64501cc87c801fd61db3f6244  ...       43.00\n",
              "\n",
              "[98666 rows x 7 columns]"
            ]
          },
          "metadata": {},
          "execution_count": 34
        }
      ]
    },
    {
      "cell_type": "code",
      "metadata": {
        "id": "EryNfthvkbkS",
        "colab": {
          "base_uri": "https://localhost:8080/",
          "height": 447
        },
        "outputId": "4febb035-4e71-42b6-b2ff-4d60bd8a04d9"
      },
      "source": [
        "rfm_summary = lifetimes.utils.summary_data_from_transaction_data(transaction_customer, \"customer_unique_id\", \"order_date\", \"total price\",)\n",
        "rfm_summary"
      ],
      "execution_count": null,
      "outputs": [
        {
          "output_type": "execute_result",
          "data": {
            "text/html": [
              "<div>\n",
              "<style scoped>\n",
              "    .dataframe tbody tr th:only-of-type {\n",
              "        vertical-align: middle;\n",
              "    }\n",
              "\n",
              "    .dataframe tbody tr th {\n",
              "        vertical-align: top;\n",
              "    }\n",
              "\n",
              "    .dataframe thead th {\n",
              "        text-align: right;\n",
              "    }\n",
              "</style>\n",
              "<table border=\"1\" class=\"dataframe\">\n",
              "  <thead>\n",
              "    <tr style=\"text-align: right;\">\n",
              "      <th></th>\n",
              "      <th>frequency</th>\n",
              "      <th>recency</th>\n",
              "      <th>T</th>\n",
              "      <th>monetary_value</th>\n",
              "    </tr>\n",
              "    <tr>\n",
              "      <th>customer_unique_id</th>\n",
              "      <th></th>\n",
              "      <th></th>\n",
              "      <th></th>\n",
              "      <th></th>\n",
              "    </tr>\n",
              "  </thead>\n",
              "  <tbody>\n",
              "    <tr>\n",
              "      <th>0000366f3b9a7992bf8c76cfdf3221e2</th>\n",
              "      <td>0.0</td>\n",
              "      <td>0.0</td>\n",
              "      <td>116.0</td>\n",
              "      <td>0.0</td>\n",
              "    </tr>\n",
              "    <tr>\n",
              "      <th>0000b849f77a49e4a4ce2b2a4ca5be3f</th>\n",
              "      <td>0.0</td>\n",
              "      <td>0.0</td>\n",
              "      <td>119.0</td>\n",
              "      <td>0.0</td>\n",
              "    </tr>\n",
              "    <tr>\n",
              "      <th>0000f46a3911fa3c0805444483337064</th>\n",
              "      <td>0.0</td>\n",
              "      <td>0.0</td>\n",
              "      <td>542.0</td>\n",
              "      <td>0.0</td>\n",
              "    </tr>\n",
              "    <tr>\n",
              "      <th>0000f6ccb0745a6a4b88665a16c9f078</th>\n",
              "      <td>0.0</td>\n",
              "      <td>0.0</td>\n",
              "      <td>326.0</td>\n",
              "      <td>0.0</td>\n",
              "    </tr>\n",
              "    <tr>\n",
              "      <th>0004aac84e0df4da2b147fca70cf8255</th>\n",
              "      <td>0.0</td>\n",
              "      <td>0.0</td>\n",
              "      <td>293.0</td>\n",
              "      <td>0.0</td>\n",
              "    </tr>\n",
              "    <tr>\n",
              "      <th>...</th>\n",
              "      <td>...</td>\n",
              "      <td>...</td>\n",
              "      <td>...</td>\n",
              "      <td>...</td>\n",
              "    </tr>\n",
              "    <tr>\n",
              "      <th>fffcf5a5ff07b0908bd4e2dbc735a684</th>\n",
              "      <td>0.0</td>\n",
              "      <td>0.0</td>\n",
              "      <td>452.0</td>\n",
              "      <td>0.0</td>\n",
              "    </tr>\n",
              "    <tr>\n",
              "      <th>fffea47cd6d3cc0a88bd621562a9d061</th>\n",
              "      <td>0.0</td>\n",
              "      <td>0.0</td>\n",
              "      <td>267.0</td>\n",
              "      <td>0.0</td>\n",
              "    </tr>\n",
              "    <tr>\n",
              "      <th>ffff371b4d645b6ecea244b27531430a</th>\n",
              "      <td>0.0</td>\n",
              "      <td>0.0</td>\n",
              "      <td>573.0</td>\n",
              "      <td>0.0</td>\n",
              "    </tr>\n",
              "    <tr>\n",
              "      <th>ffff5962728ec6157033ef9805bacc48</th>\n",
              "      <td>0.0</td>\n",
              "      <td>0.0</td>\n",
              "      <td>124.0</td>\n",
              "      <td>0.0</td>\n",
              "    </tr>\n",
              "    <tr>\n",
              "      <th>ffffd2657e2aad2907e67c3e9daecbeb</th>\n",
              "      <td>0.0</td>\n",
              "      <td>0.0</td>\n",
              "      <td>489.0</td>\n",
              "      <td>0.0</td>\n",
              "    </tr>\n",
              "  </tbody>\n",
              "</table>\n",
              "<p>95420 rows × 4 columns</p>\n",
              "</div>"
            ],
            "text/plain": [
              "                                  frequency  recency      T  monetary_value\n",
              "customer_unique_id                                                         \n",
              "0000366f3b9a7992bf8c76cfdf3221e2        0.0      0.0  116.0             0.0\n",
              "0000b849f77a49e4a4ce2b2a4ca5be3f        0.0      0.0  119.0             0.0\n",
              "0000f46a3911fa3c0805444483337064        0.0      0.0  542.0             0.0\n",
              "0000f6ccb0745a6a4b88665a16c9f078        0.0      0.0  326.0             0.0\n",
              "0004aac84e0df4da2b147fca70cf8255        0.0      0.0  293.0             0.0\n",
              "...                                     ...      ...    ...             ...\n",
              "fffcf5a5ff07b0908bd4e2dbc735a684        0.0      0.0  452.0             0.0\n",
              "fffea47cd6d3cc0a88bd621562a9d061        0.0      0.0  267.0             0.0\n",
              "ffff371b4d645b6ecea244b27531430a        0.0      0.0  573.0             0.0\n",
              "ffff5962728ec6157033ef9805bacc48        0.0      0.0  124.0             0.0\n",
              "ffffd2657e2aad2907e67c3e9daecbeb        0.0      0.0  489.0             0.0\n",
              "\n",
              "[95420 rows x 4 columns]"
            ]
          },
          "metadata": {},
          "execution_count": 35
        }
      ]
    },
    {
      "cell_type": "code",
      "metadata": {
        "colab": {
          "base_uri": "https://localhost:8080/",
          "height": 295
        },
        "id": "ZPAV0Rm_UFvd",
        "outputId": "c6a5f0e2-7c66-43ba-b8d1-72b797351758"
      },
      "source": [
        "rfm_summary.describe()"
      ],
      "execution_count": null,
      "outputs": [
        {
          "output_type": "execute_result",
          "data": {
            "text/html": [
              "<div>\n",
              "<style scoped>\n",
              "    .dataframe tbody tr th:only-of-type {\n",
              "        vertical-align: middle;\n",
              "    }\n",
              "\n",
              "    .dataframe tbody tr th {\n",
              "        vertical-align: top;\n",
              "    }\n",
              "\n",
              "    .dataframe thead th {\n",
              "        text-align: right;\n",
              "    }\n",
              "</style>\n",
              "<table border=\"1\" class=\"dataframe\">\n",
              "  <thead>\n",
              "    <tr style=\"text-align: right;\">\n",
              "      <th></th>\n",
              "      <th>frequency</th>\n",
              "      <th>recency</th>\n",
              "      <th>T</th>\n",
              "      <th>monetary_value</th>\n",
              "    </tr>\n",
              "  </thead>\n",
              "  <tbody>\n",
              "    <tr>\n",
              "      <th>count</th>\n",
              "      <td>95420.000000</td>\n",
              "      <td>95420.000000</td>\n",
              "      <td>95420.000000</td>\n",
              "      <td>95420.000000</td>\n",
              "    </tr>\n",
              "    <tr>\n",
              "      <th>mean</th>\n",
              "      <td>0.024198</td>\n",
              "      <td>2.683389</td>\n",
              "      <td>246.184846</td>\n",
              "      <td>2.474897</td>\n",
              "    </tr>\n",
              "    <tr>\n",
              "      <th>std</th>\n",
              "      <td>0.178936</td>\n",
              "      <td>25.263074</td>\n",
              "      <td>153.656402</td>\n",
              "      <td>26.579606</td>\n",
              "    </tr>\n",
              "    <tr>\n",
              "      <th>min</th>\n",
              "      <td>0.000000</td>\n",
              "      <td>0.000000</td>\n",
              "      <td>5.000000</td>\n",
              "      <td>0.000000</td>\n",
              "    </tr>\n",
              "    <tr>\n",
              "      <th>25%</th>\n",
              "      <td>0.000000</td>\n",
              "      <td>0.000000</td>\n",
              "      <td>122.000000</td>\n",
              "      <td>0.000000</td>\n",
              "    </tr>\n",
              "    <tr>\n",
              "      <th>50%</th>\n",
              "      <td>0.000000</td>\n",
              "      <td>0.000000</td>\n",
              "      <td>227.000000</td>\n",
              "      <td>0.000000</td>\n",
              "    </tr>\n",
              "    <tr>\n",
              "      <th>75%</th>\n",
              "      <td>0.000000</td>\n",
              "      <td>0.000000</td>\n",
              "      <td>356.000000</td>\n",
              "      <td>0.000000</td>\n",
              "    </tr>\n",
              "    <tr>\n",
              "      <th>max</th>\n",
              "      <td>15.000000</td>\n",
              "      <td>633.000000</td>\n",
              "      <td>729.000000</td>\n",
              "      <td>1999.990000</td>\n",
              "    </tr>\n",
              "  </tbody>\n",
              "</table>\n",
              "</div>"
            ],
            "text/plain": [
              "          frequency       recency             T  monetary_value\n",
              "count  95420.000000  95420.000000  95420.000000    95420.000000\n",
              "mean       0.024198      2.683389    246.184846        2.474897\n",
              "std        0.178936     25.263074    153.656402       26.579606\n",
              "min        0.000000      0.000000      5.000000        0.000000\n",
              "25%        0.000000      0.000000    122.000000        0.000000\n",
              "50%        0.000000      0.000000    227.000000        0.000000\n",
              "75%        0.000000      0.000000    356.000000        0.000000\n",
              "max       15.000000    633.000000    729.000000     1999.990000"
            ]
          },
          "metadata": {},
          "execution_count": 36
        }
      ]
    },
    {
      "cell_type": "code",
      "metadata": {
        "id": "PNlYZXiRny1B"
      },
      "source": [
        "rfm_summary.reset_index(inplace = True)\n"
      ],
      "execution_count": null,
      "outputs": []
    },
    {
      "cell_type": "code",
      "metadata": {
        "id": "_y7-vAnznj-k",
        "colab": {
          "base_uri": "https://localhost:8080/",
          "height": 357
        },
        "outputId": "1fe07dd0-cfd1-4300-8eb1-a191036482de"
      },
      "source": [
        "rfm_summary[rfm_summary['frequency']>0].head(10)\n"
      ],
      "execution_count": null,
      "outputs": [
        {
          "output_type": "execute_result",
          "data": {
            "text/html": [
              "<div>\n",
              "<style scoped>\n",
              "    .dataframe tbody tr th:only-of-type {\n",
              "        vertical-align: middle;\n",
              "    }\n",
              "\n",
              "    .dataframe tbody tr th {\n",
              "        vertical-align: top;\n",
              "    }\n",
              "\n",
              "    .dataframe thead th {\n",
              "        text-align: right;\n",
              "    }\n",
              "</style>\n",
              "<table border=\"1\" class=\"dataframe\">\n",
              "  <thead>\n",
              "    <tr style=\"text-align: right;\">\n",
              "      <th></th>\n",
              "      <th>customer_unique_id</th>\n",
              "      <th>frequency</th>\n",
              "      <th>recency</th>\n",
              "      <th>T</th>\n",
              "      <th>monetary_value</th>\n",
              "    </tr>\n",
              "  </thead>\n",
              "  <tbody>\n",
              "    <tr>\n",
              "      <th>106</th>\n",
              "      <td>004288347e5e88a27ded2bb23747066c</td>\n",
              "      <td>1.0</td>\n",
              "      <td>171.0</td>\n",
              "      <td>403.0</td>\n",
              "      <td>87.90</td>\n",
              "    </tr>\n",
              "    <tr>\n",
              "      <th>123</th>\n",
              "      <td>004b45ec5c64187465168251cd1c9c2f</td>\n",
              "      <td>1.0</td>\n",
              "      <td>267.0</td>\n",
              "      <td>367.0</td>\n",
              "      <td>27.00</td>\n",
              "    </tr>\n",
              "    <tr>\n",
              "      <th>143</th>\n",
              "      <td>0058f300f57d7b93c477a131a59b36c3</td>\n",
              "      <td>1.0</td>\n",
              "      <td>31.0</td>\n",
              "      <td>196.0</td>\n",
              "      <td>72.58</td>\n",
              "    </tr>\n",
              "    <tr>\n",
              "      <th>246</th>\n",
              "      <td>00a39521eb40f7012db50455bf083460</td>\n",
              "      <td>1.0</td>\n",
              "      <td>11.0</td>\n",
              "      <td>103.0</td>\n",
              "      <td>11.55</td>\n",
              "    </tr>\n",
              "    <tr>\n",
              "      <th>410</th>\n",
              "      <td>011575986092c30523ecb71ff10cb473</td>\n",
              "      <td>1.0</td>\n",
              "      <td>60.0</td>\n",
              "      <td>198.0</td>\n",
              "      <td>63.90</td>\n",
              "    </tr>\n",
              "    <tr>\n",
              "      <th>425</th>\n",
              "      <td>011b4adcd54683b480c4d841250a987f</td>\n",
              "      <td>1.0</td>\n",
              "      <td>177.0</td>\n",
              "      <td>377.0</td>\n",
              "      <td>56.97</td>\n",
              "    </tr>\n",
              "    <tr>\n",
              "      <th>434</th>\n",
              "      <td>012452d40dafae4df401bced74cdb490</td>\n",
              "      <td>1.0</td>\n",
              "      <td>330.0</td>\n",
              "      <td>442.0</td>\n",
              "      <td>330.00</td>\n",
              "    </tr>\n",
              "    <tr>\n",
              "      <th>444</th>\n",
              "      <td>012a218df8995d3ec3bb221828360c86</td>\n",
              "      <td>1.0</td>\n",
              "      <td>42.0</td>\n",
              "      <td>119.0</td>\n",
              "      <td>1369.90</td>\n",
              "    </tr>\n",
              "    <tr>\n",
              "      <th>473</th>\n",
              "      <td>013ef03e0f3f408dd9bf555e4edcdc0a</td>\n",
              "      <td>1.0</td>\n",
              "      <td>29.0</td>\n",
              "      <td>74.0</td>\n",
              "      <td>59.90</td>\n",
              "    </tr>\n",
              "    <tr>\n",
              "      <th>475</th>\n",
              "      <td>013f4353d26bb05dc6652f1269458d8d</td>\n",
              "      <td>1.0</td>\n",
              "      <td>4.0</td>\n",
              "      <td>283.0</td>\n",
              "      <td>64.00</td>\n",
              "    </tr>\n",
              "  </tbody>\n",
              "</table>\n",
              "</div>"
            ],
            "text/plain": [
              "                   customer_unique_id  frequency  ...      T  monetary_value\n",
              "106  004288347e5e88a27ded2bb23747066c        1.0  ...  403.0           87.90\n",
              "123  004b45ec5c64187465168251cd1c9c2f        1.0  ...  367.0           27.00\n",
              "143  0058f300f57d7b93c477a131a59b36c3        1.0  ...  196.0           72.58\n",
              "246  00a39521eb40f7012db50455bf083460        1.0  ...  103.0           11.55\n",
              "410  011575986092c30523ecb71ff10cb473        1.0  ...  198.0           63.90\n",
              "425  011b4adcd54683b480c4d841250a987f        1.0  ...  377.0           56.97\n",
              "434  012452d40dafae4df401bced74cdb490        1.0  ...  442.0          330.00\n",
              "444  012a218df8995d3ec3bb221828360c86        1.0  ...  119.0         1369.90\n",
              "473  013ef03e0f3f408dd9bf555e4edcdc0a        1.0  ...   74.0           59.90\n",
              "475  013f4353d26bb05dc6652f1269458d8d        1.0  ...  283.0           64.00\n",
              "\n",
              "[10 rows x 5 columns]"
            ]
          },
          "metadata": {},
          "execution_count": 38
        }
      ]
    },
    {
      "cell_type": "code",
      "metadata": {
        "id": "8tFeUQqIobG_",
        "colab": {
          "base_uri": "https://localhost:8080/",
          "height": 147
        },
        "outputId": "5e7db72f-b1a0-4e2d-d2a0-1c37771f0560"
      },
      "source": [
        "transaction_customer[transaction_customer['customer_unique_id']=='0178b244a5c281fb2ade54038dd4b161']"
      ],
      "execution_count": null,
      "outputs": [
        {
          "output_type": "execute_result",
          "data": {
            "text/html": [
              "<div>\n",
              "<style scoped>\n",
              "    .dataframe tbody tr th:only-of-type {\n",
              "        vertical-align: middle;\n",
              "    }\n",
              "\n",
              "    .dataframe tbody tr th {\n",
              "        vertical-align: top;\n",
              "    }\n",
              "\n",
              "    .dataframe thead th {\n",
              "        text-align: right;\n",
              "    }\n",
              "</style>\n",
              "<table border=\"1\" class=\"dataframe\">\n",
              "  <thead>\n",
              "    <tr style=\"text-align: right;\">\n",
              "      <th></th>\n",
              "      <th>order_id</th>\n",
              "      <th>customer_unique_id</th>\n",
              "      <th>order_date</th>\n",
              "      <th>customer_city</th>\n",
              "      <th>product_id</th>\n",
              "      <th>quantity</th>\n",
              "      <th>total price</th>\n",
              "    </tr>\n",
              "  </thead>\n",
              "  <tbody>\n",
              "    <tr>\n",
              "      <th>56994</th>\n",
              "      <td>94ca38619d7e64f94facac403a99682d</td>\n",
              "      <td>0178b244a5c281fb2ade54038dd4b161</td>\n",
              "      <td>2018-07-28</td>\n",
              "      <td>novo horizonte</td>\n",
              "      <td>05df88a280f9c6edca3b2f5f9b3e75ad</td>\n",
              "      <td>1</td>\n",
              "      <td>91.0</td>\n",
              "    </tr>\n",
              "    <tr>\n",
              "      <th>64152</th>\n",
              "      <td>a72698cb5818851e1f19815692cf256b</td>\n",
              "      <td>0178b244a5c281fb2ade54038dd4b161</td>\n",
              "      <td>2017-05-10</td>\n",
              "      <td>guaratingueta</td>\n",
              "      <td>99a4788cb24856965c36a24e339b6058</td>\n",
              "      <td>1</td>\n",
              "      <td>89.9</td>\n",
              "    </tr>\n",
              "  </tbody>\n",
              "</table>\n",
              "</div>"
            ],
            "text/plain": [
              "                               order_id  ... total price\n",
              "56994  94ca38619d7e64f94facac403a99682d  ...        91.0\n",
              "64152  a72698cb5818851e1f19815692cf256b  ...        89.9\n",
              "\n",
              "[2 rows x 7 columns]"
            ]
          },
          "metadata": {},
          "execution_count": 39
        }
      ]
    },
    {
      "cell_type": "code",
      "metadata": {
        "id": "mO8Ic8t4n5K6",
        "colab": {
          "base_uri": "https://localhost:8080/",
          "height": 581
        },
        "outputId": "1ca3ebe7-aec6-4c60-f8b6-7a0bdc9ea94d"
      },
      "source": [
        "\n",
        "#plotting the distribution\n",
        "plt.figure(figsize=(14,8))\n",
        "plt.subplot(221)\n",
        "sns.distplot(rfm_summary[\"frequency\"])\n",
        "plt.title(\"Frequency Distribution\")\n",
        "plt.subplot(222)\n",
        "sns.distplot(rfm_summary[\"recency\"])\n",
        "plt.title(\"Recency Distribution\")\n",
        "plt.subplot(223)\n",
        "sns.distplot(rfm_summary[\"T\"])\n",
        "plt.title(\"T Distribution\")\n",
        "plt.subplot(224)\n",
        "sns.distplot(rfm_summary[\"monetary_value\"])\n",
        "plt.title(\"Monetary Value Distribution\")\n",
        "plt.tight_layout()"
      ],
      "execution_count": null,
      "outputs": [
        {
          "output_type": "display_data",
          "data": {
            "image/png": "[encoded data removed]",
            "text/plain": [
              "<Figure size 1008x576 with 4 Axes>"
            ]
          },
          "metadata": {}
        }
      ]
    },
    {
      "cell_type": "code",
      "metadata": {
        "id": "2VQd6abjoCO5",
        "colab": {
          "base_uri": "https://localhost:8080/",
          "height": 358
        },
        "outputId": "5487b3fa-b397-43ed-b7d9-ba1b8aeaa2b6"
      },
      "source": [
        "plt.figure(figsize=(16,5))\n",
        "plt.subplot(141)\n",
        "sns.boxplot(rfm_summary[\"frequency\"], color = \"olive\")\n",
        "plt.title(\"Frequency\")\n",
        "plt.subplot(142)\n",
        "sns.boxplot(rfm_summary[\"recency\"])\n",
        "plt.title(\"Recency\")\n",
        "plt.subplot(143)\n",
        "sns.boxplot(rfm_summary[\"T\"])\n",
        "plt.title(\"T\")\n",
        "plt.subplot(144)\n",
        "sns.boxplot(rfm_summary[\"monetary_value\"], color = \"salmon\")\n",
        "\n",
        "plt.tight_layout()"
      ],
      "execution_count": null,
      "outputs": [
        {
          "output_type": "display_data",
          "data": {
            "image/png": "[encoded data removed]",
            "text/plain": [
              "<Figure size 1152x360 with 4 Axes>"
            ]
          },
          "metadata": {}
        }
      ]
    },
    {
      "cell_type": "code",
      "metadata": {
        "id": "zjIke9CeoK9d",
        "colab": {
          "base_uri": "https://localhost:8080/",
          "height": 418
        },
        "outputId": "78f45a0b-b9f6-47d0-e3c8-f6d4f0389ef1"
      },
      "source": [
        "rfm_summary.describe(percentiles = [0.01,0.1,0.25,0.50,0.75,0.90,0.99])"
      ],
      "execution_count": null,
      "outputs": [
        {
          "output_type": "execute_result",
          "data": {
            "text/html": [
              "<div>\n",
              "<style scoped>\n",
              "    .dataframe tbody tr th:only-of-type {\n",
              "        vertical-align: middle;\n",
              "    }\n",
              "\n",
              "    .dataframe tbody tr th {\n",
              "        vertical-align: top;\n",
              "    }\n",
              "\n",
              "    .dataframe thead th {\n",
              "        text-align: right;\n",
              "    }\n",
              "</style>\n",
              "<table border=\"1\" class=\"dataframe\">\n",
              "  <thead>\n",
              "    <tr style=\"text-align: right;\">\n",
              "      <th></th>\n",
              "      <th>frequency</th>\n",
              "      <th>recency</th>\n",
              "      <th>T</th>\n",
              "      <th>monetary_value</th>\n",
              "    </tr>\n",
              "  </thead>\n",
              "  <tbody>\n",
              "    <tr>\n",
              "      <th>count</th>\n",
              "      <td>95420.000000</td>\n",
              "      <td>95420.000000</td>\n",
              "      <td>95420.000000</td>\n",
              "      <td>95420.000000</td>\n",
              "    </tr>\n",
              "    <tr>\n",
              "      <th>mean</th>\n",
              "      <td>0.024198</td>\n",
              "      <td>2.683389</td>\n",
              "      <td>246.184846</td>\n",
              "      <td>2.474897</td>\n",
              "    </tr>\n",
              "    <tr>\n",
              "      <th>std</th>\n",
              "      <td>0.178936</td>\n",
              "      <td>25.263074</td>\n",
              "      <td>153.656402</td>\n",
              "      <td>26.579606</td>\n",
              "    </tr>\n",
              "    <tr>\n",
              "      <th>min</th>\n",
              "      <td>0.000000</td>\n",
              "      <td>0.000000</td>\n",
              "      <td>5.000000</td>\n",
              "      <td>0.000000</td>\n",
              "    </tr>\n",
              "    <tr>\n",
              "      <th>1%</th>\n",
              "      <td>0.000000</td>\n",
              "      <td>0.000000</td>\n",
              "      <td>14.000000</td>\n",
              "      <td>0.000000</td>\n",
              "    </tr>\n",
              "    <tr>\n",
              "      <th>10%</th>\n",
              "      <td>0.000000</td>\n",
              "      <td>0.000000</td>\n",
              "      <td>47.000000</td>\n",
              "      <td>0.000000</td>\n",
              "    </tr>\n",
              "    <tr>\n",
              "      <th>25%</th>\n",
              "      <td>0.000000</td>\n",
              "      <td>0.000000</td>\n",
              "      <td>122.000000</td>\n",
              "      <td>0.000000</td>\n",
              "    </tr>\n",
              "    <tr>\n",
              "      <th>50%</th>\n",
              "      <td>0.000000</td>\n",
              "      <td>0.000000</td>\n",
              "      <td>227.000000</td>\n",
              "      <td>0.000000</td>\n",
              "    </tr>\n",
              "    <tr>\n",
              "      <th>75%</th>\n",
              "      <td>0.000000</td>\n",
              "      <td>0.000000</td>\n",
              "      <td>356.000000</td>\n",
              "      <td>0.000000</td>\n",
              "    </tr>\n",
              "    <tr>\n",
              "      <th>90%</th>\n",
              "      <td>0.000000</td>\n",
              "      <td>0.000000</td>\n",
              "      <td>474.000000</td>\n",
              "      <td>0.000000</td>\n",
              "    </tr>\n",
              "    <tr>\n",
              "      <th>99%</th>\n",
              "      <td>1.000000</td>\n",
              "      <td>95.000000</td>\n",
              "      <td>581.000000</td>\n",
              "      <td>84.936450</td>\n",
              "    </tr>\n",
              "    <tr>\n",
              "      <th>max</th>\n",
              "      <td>15.000000</td>\n",
              "      <td>633.000000</td>\n",
              "      <td>729.000000</td>\n",
              "      <td>1999.990000</td>\n",
              "    </tr>\n",
              "  </tbody>\n",
              "</table>\n",
              "</div>"
            ],
            "text/plain": [
              "          frequency       recency             T  monetary_value\n",
              "count  95420.000000  95420.000000  95420.000000    95420.000000\n",
              "mean       0.024198      2.683389    246.184846        2.474897\n",
              "std        0.178936     25.263074    153.656402       26.579606\n",
              "min        0.000000      0.000000      5.000000        0.000000\n",
              "1%         0.000000      0.000000     14.000000        0.000000\n",
              "10%        0.000000      0.000000     47.000000        0.000000\n",
              "25%        0.000000      0.000000    122.000000        0.000000\n",
              "50%        0.000000      0.000000    227.000000        0.000000\n",
              "75%        0.000000      0.000000    356.000000        0.000000\n",
              "90%        0.000000      0.000000    474.000000        0.000000\n",
              "99%        1.000000     95.000000    581.000000       84.936450\n",
              "max       15.000000    633.000000    729.000000     1999.990000"
            ]
          },
          "metadata": {},
          "execution_count": 42
        }
      ]
    },
    {
      "cell_type": "code",
      "metadata": {
        "colab": {
          "base_uri": "https://localhost:8080/"
        },
        "id": "CzGDBUCEVJAy",
        "outputId": "9d32f03b-8758-47c9-8088-7a121470dcef"
      },
      "source": [
        "#checking for the values containing zero.\n",
        "\n",
        "print(\"Total Number of Frequency with 0: %s\" % (len(rfm_summary[rfm_summary[\"frequency\"] == 0])))\n",
        "print(\"Total Number of Recency with 0: %s\" % (len(rfm_summary[rfm_summary[\"recency\"] == 0])))\n",
        "print(\"Total Number of Monetary Value with 0: %s\" % (len(rfm_summary[rfm_summary[\"monetary_value\"] == 0])))"
      ],
      "execution_count": null,
      "outputs": [
        {
          "output_type": "stream",
          "name": "stdout",
          "text": [
            "Total Number of Frequency with 0: 93335\n",
            "Total Number of Recency with 0: 93335\n",
            "Total Number of Monetary Value with 0: 93335\n"
          ]
        }
      ]
    },
    {
      "cell_type": "markdown",
      "metadata": {
        "id": "xAJcpXZJbdv8"
      },
      "source": [
        "# Data Modelling"
      ]
    },
    {
      "cell_type": "markdown",
      "metadata": {
        "id": "Vml8c2I7ozvo"
      },
      "source": [
        "## Pareto - Negative Binom Distribution + Gamma Gamma Distribution Model"
      ]
    },
    {
      "cell_type": "markdown",
      "metadata": {
        "id": "SL0DiF99cc1V"
      },
      "source": [
        "The core assumptions for the transaction Pareto/NBD\n",
        "submodel are:\n",
        "1. While alive, the number of transactions made by a customer follows a Poisson process.\n",
        "2. Customer’s unobserved lifetime is exponentially distributed.\n",
        "3. Heterogeneity in transaction rates across all customers follows a gamma distribution.\n",
        "4. Heterogeneity in dropout rates across all customers follows a gamma distribution.\n",
        "5. The transaction rate and dropout rate vary independently across customers."
      ]
    },
    {
      "cell_type": "markdown",
      "metadata": {
        "id": "x6sbuRPccvZ8"
      },
      "source": [
        "This article uses the Gamma-Gamma spending submodel described in, further clarified\n",
        "It assumes the following:\n",
        "1. The monetary value of a customer’s transaction varies randomly around their average\n",
        "order value.\n",
        "2. Average transaction values vary across customers but do not vary over time for any\n",
        "given individual.\n",
        "3. The distribution of average transaction values across customers is independent of the\n",
        "transaction process."
      ]
    },
    {
      "cell_type": "code",
      "metadata": {
        "id": "UrGFFanLf-KM"
      },
      "source": [
        "summary_pnbd = rfm_summary.copy()\n"
      ],
      "execution_count": null,
      "outputs": []
    },
    {
      "cell_type": "code",
      "metadata": {
        "colab": {
          "base_uri": "https://localhost:8080/"
        },
        "id": "TnmeveYEkux9",
        "outputId": "b336c7f4-b749-4e6c-e80d-12b904f2f1f8"
      },
      "source": [
        "summary_pnbd.shape\n"
      ],
      "execution_count": null,
      "outputs": [
        {
          "output_type": "execute_result",
          "data": {
            "text/plain": [
              "(95420, 5)"
            ]
          },
          "metadata": {},
          "execution_count": 45
        }
      ]
    },
    {
      "cell_type": "code",
      "metadata": {
        "colab": {
          "base_uri": "https://localhost:8080/"
        },
        "id": "q3pimTVLkyZn",
        "outputId": "77944d8d-3028-4916-aad3-7d71568d3ff3"
      },
      "source": [
        "pareto_nbd = ParetoNBDFitter(penalizer_coef = 0.0)\n",
        "pareto_nbd.fit(summary_pnbd[\"frequency\"], summary_pnbd[\"recency\"], summary_pnbd[\"T\"])"
      ],
      "execution_count": null,
      "outputs": [
        {
          "output_type": "execute_result",
          "data": {
            "text/plain": [
              "<lifetimes.ParetoNBDFitter: fitted with 95420 subjects, alpha: 1853.94, beta: 5.85, r: 0.64, s: 0.45>"
            ]
          },
          "metadata": {},
          "execution_count": 46
        }
      ]
    },
    {
      "cell_type": "code",
      "metadata": {
        "colab": {
          "base_uri": "https://localhost:8080/",
          "height": 442
        },
        "id": "FqXM9yv8k1ZH",
        "outputId": "860bb161-1523-4a6c-80c2-f36699acd490"
      },
      "source": [
        "plt.figure(figsize=(8,6))\n",
        "plot_frequency_recency_matrix(pareto_nbd)"
      ],
      "execution_count": null,
      "outputs": [
        {
          "output_type": "execute_result",
          "data": {
            "text/plain": [
              "<matplotlib.axes._subplots.AxesSubplot at 0x7fbcf86a0750>"
            ]
          },
          "metadata": {},
          "execution_count": 47
        },
        {
          "output_type": "display_data",
          "data": {
            "image/png": "[encoded data removed]",
            "text/plain": [
              "<Figure size 576x432 with 2 Axes>"
            ]
          },
          "metadata": {}
        }
      ]
    },
    {
      "cell_type": "code",
      "metadata": {
        "colab": {
          "base_uri": "https://localhost:8080/",
          "height": 442
        },
        "id": "crKAHJhjmWvP",
        "outputId": "e7df9893-3aab-4851-aa96-af916a627ee1"
      },
      "source": [
        "plt.figure(figsize=(8,6))\n",
        "plot_probability_alive_matrix(pareto_nbd)"
      ],
      "execution_count": null,
      "outputs": [
        {
          "output_type": "execute_result",
          "data": {
            "text/plain": [
              "<matplotlib.axes._subplots.AxesSubplot at 0x7fbceedcdad0>"
            ]
          },
          "metadata": {},
          "execution_count": 48
        },
        {
          "output_type": "display_data",
          "data": {
            "image/png": "[encoded data removed]",
            "text/plain": [
              "<Figure size 576x432 with 2 Axes>"
            ]
          },
          "metadata": {}
        }
      ]
    },
    {
      "cell_type": "code",
      "metadata": {
        "id": "lq1jO_G3mbWD"
      },
      "source": [
        "summary_pnbd[\"p_not_alive\"] = 1-pareto_nbd.conditional_probability_alive(summary_pnbd[\"frequency\"], summary_pnbd[\"recency\"], summary_pnbd[\"T\"])\n",
        "summary_pnbd[\"p_alive\"] = pareto_nbd.conditional_probability_alive(summary_pnbd[\"frequency\"], summary_pnbd[\"recency\"], summary_pnbd[\"T\"])"
      ],
      "execution_count": null,
      "outputs": []
    },
    {
      "cell_type": "code",
      "metadata": {
        "id": "JmEirXpJmd_J"
      },
      "source": [
        "t = 365\n",
        "summary_pnbd[\"predicted_purchases\"] = pareto_nbd.conditional_expected_number_of_purchases_up_to_time(t, summary_pnbd[\"frequency\"], summary_pnbd[\"recency\"], summary_pnbd[\"T\"])"
      ],
      "execution_count": null,
      "outputs": []
    },
    {
      "cell_type": "code",
      "metadata": {
        "colab": {
          "base_uri": "https://localhost:8080/",
          "height": 203
        },
        "id": "rljYUjNAmlup",
        "outputId": "93af1c29-4e8e-4c75-9c08-cf925a1b4534"
      },
      "source": [
        "summary_pnbd.sort_values(by = \"predicted_purchases\").tail(5)"
      ],
      "execution_count": null,
      "outputs": [
        {
          "output_type": "execute_result",
          "data": {
            "text/html": [
              "<div>\n",
              "<style scoped>\n",
              "    .dataframe tbody tr th:only-of-type {\n",
              "        vertical-align: middle;\n",
              "    }\n",
              "\n",
              "    .dataframe tbody tr th {\n",
              "        vertical-align: top;\n",
              "    }\n",
              "\n",
              "    .dataframe thead th {\n",
              "        text-align: right;\n",
              "    }\n",
              "</style>\n",
              "<table border=\"1\" class=\"dataframe\">\n",
              "  <thead>\n",
              "    <tr style=\"text-align: right;\">\n",
              "      <th></th>\n",
              "      <th>customer_unique_id</th>\n",
              "      <th>frequency</th>\n",
              "      <th>recency</th>\n",
              "      <th>T</th>\n",
              "      <th>monetary_value</th>\n",
              "      <th>p_not_alive</th>\n",
              "      <th>p_alive</th>\n",
              "      <th>predicted_purchases</th>\n",
              "    </tr>\n",
              "  </thead>\n",
              "  <tbody>\n",
              "    <tr>\n",
              "      <th>37320</th>\n",
              "      <td>63cfc61cee11cbe306bff5857d00bfe4</td>\n",
              "      <td>5.0</td>\n",
              "      <td>382.0</td>\n",
              "      <td>480.0</td>\n",
              "      <td>62.772000</td>\n",
              "      <td>0.107802</td>\n",
              "      <td>0.892198</td>\n",
              "      <td>0.687819</td>\n",
              "    </tr>\n",
              "    <tr>\n",
              "      <th>37532</th>\n",
              "      <td>6469f99c1f9dfae7733b25662e7f1782</td>\n",
              "      <td>5.0</td>\n",
              "      <td>282.0</td>\n",
              "      <td>349.0</td>\n",
              "      <td>106.880000</td>\n",
              "      <td>0.097296</td>\n",
              "      <td>0.902704</td>\n",
              "      <td>0.709609</td>\n",
              "    </tr>\n",
              "    <tr>\n",
              "      <th>82305</th>\n",
              "      <td>dc813062e0fc23409cd255f7f53c7074</td>\n",
              "      <td>5.0</td>\n",
              "      <td>418.0</td>\n",
              "      <td>429.0</td>\n",
              "      <td>75.552000</td>\n",
              "      <td>0.011569</td>\n",
              "      <td>0.988431</td>\n",
              "      <td>0.769240</td>\n",
              "    </tr>\n",
              "    <tr>\n",
              "      <th>75560</th>\n",
              "      <td>ca77025e7201e3b30c44b472ff346268</td>\n",
              "      <td>6.0</td>\n",
              "      <td>235.0</td>\n",
              "      <td>329.0</td>\n",
              "      <td>66.126667</td>\n",
              "      <td>0.157330</td>\n",
              "      <td>0.842670</td>\n",
              "      <td>0.780812</td>\n",
              "    </tr>\n",
              "    <tr>\n",
              "      <th>52597</th>\n",
              "      <td>8d50f5eadf50201ccdcedfb9e2ac8455</td>\n",
              "      <td>15.0</td>\n",
              "      <td>462.0</td>\n",
              "      <td>476.0</td>\n",
              "      <td>47.642000</td>\n",
              "      <td>0.013756</td>\n",
              "      <td>0.986244</td>\n",
              "      <td>2.110177</td>\n",
              "    </tr>\n",
              "  </tbody>\n",
              "</table>\n",
              "</div>"
            ],
            "text/plain": [
              "                     customer_unique_id  ...  predicted_purchases\n",
              "37320  63cfc61cee11cbe306bff5857d00bfe4  ...             0.687819\n",
              "37532  6469f99c1f9dfae7733b25662e7f1782  ...             0.709609\n",
              "82305  dc813062e0fc23409cd255f7f53c7074  ...             0.769240\n",
              "75560  ca77025e7201e3b30c44b472ff346268  ...             0.780812\n",
              "52597  8d50f5eadf50201ccdcedfb9e2ac8455  ...             2.110177\n",
              "\n",
              "[5 rows x 8 columns]"
            ]
          },
          "metadata": {},
          "execution_count": 51
        }
      ]
    },
    {
      "cell_type": "code",
      "metadata": {
        "colab": {
          "base_uri": "https://localhost:8080/",
          "height": 298
        },
        "id": "5rn9LMe_m0If",
        "outputId": "2d9ddabf-2413-40a7-9b33-885780d976fe"
      },
      "source": [
        "plot_period_transactions(pareto_nbd).set_yscale('log')"
      ],
      "execution_count": null,
      "outputs": [
        {
          "output_type": "display_data",
          "data": {
            "image/png": "[encoded data removed]",
            "text/plain": [
              "<Figure size 432x288 with 1 Axes>"
            ]
          },
          "metadata": {}
        }
      ]
    },
    {
      "cell_type": "markdown",
      "metadata": {
        "id": "l3v2PO5_Vnho"
      },
      "source": [
        "We can see that our actual data and our simulated data line up well. The model is fairly representative of the real data up until seven repeat transactions. There are few customers who make more purchases."
      ]
    },
    {
      "cell_type": "code",
      "metadata": {
        "id": "c4C87ihBnRBq"
      },
      "source": [
        "summary_cal_holdout = calibration_and_holdout_data(transaction_customer, 'customer_unique_id', 'order_date',calibration_period_end='2017-09-03', observation_period_end='2018-09-03' )"
      ],
      "execution_count": null,
      "outputs": []
    },
    {
      "cell_type": "markdown",
      "metadata": {
        "id": "rteEHFFJhZIH"
      },
      "source": [
        "### Cumulative transaction plot"
      ]
    },
    {
      "cell_type": "code",
      "metadata": {
        "colab": {
          "base_uri": "https://localhost:8080/",
          "height": 318
        },
        "id": "2z0w5eGgnfOI",
        "outputId": "0b9610c6-78ee-421b-bc06-1a67cba6ad26"
      },
      "source": [
        "# pareto_nbd.fit(summary_cal_holdout['frequency_cal'], summary_cal_holdout['recency_cal'], summary_cal_holdout['T_cal'])\n",
        "plot_cumulative_transactions(pareto_nbd, transaction_customer, 'order_date', 'customer_unique_id', 730, 365)"
      ],
      "execution_count": null,
      "outputs": [
        {
          "output_type": "execute_result",
          "data": {
            "text/plain": [
              "<matplotlib.axes._subplots.AxesSubplot at 0x7fbcecfd8c90>"
            ]
          },
          "metadata": {},
          "execution_count": 54
        },
        {
          "output_type": "display_data",
          "data": {
            "image/png": "[encoded data removed]",
            "text/plain": [
              "<Figure size 432x288 with 1 Axes>"
            ]
          },
          "metadata": {}
        }
      ]
    },
    {
      "cell_type": "markdown",
      "metadata": {
        "id": "1yYc0fOyVhUl"
      },
      "source": [
        "The red line represents the boundary between the calibration period on the left and the holdout period on the right. As you can see, the Pareto/NBD model is good at predicting cumulative transactions.\n"
      ]
    },
    {
      "cell_type": "markdown",
      "metadata": {
        "id": "BvdkY_oGhOlN"
      },
      "source": [
        "### Incremental transaction plot"
      ]
    },
    {
      "cell_type": "code",
      "metadata": {
        "colab": {
          "base_uri": "https://localhost:8080/",
          "height": 301
        },
        "id": "EGPerLA5XClU",
        "outputId": "0a4a360c-aa8d-4d6b-cc1c-9cd8525b37d9"
      },
      "source": [
        "plot_incremental_transactions(pareto_nbd, transaction_customer, 'order_date', 'customer_unique_id', 730, 365);\n"
      ],
      "execution_count": null,
      "outputs": [
        {
          "output_type": "display_data",
          "data": {
            "image/png": "[encoded data removed]",
            "text/plain": [
              "<Figure size 432x288 with 1 Axes>"
            ]
          },
          "metadata": {}
        }
      ]
    },
    {
      "cell_type": "markdown",
      "metadata": {
        "id": "Zgwg_piaVbyf"
      },
      "source": [
        "This plot shows that the model does a decent job capturing general trends in the data.\n"
      ]
    },
    {
      "cell_type": "markdown",
      "metadata": {
        "id": "4dhi0-gghEIZ"
      },
      "source": [
        "### Conditional expectations plot"
      ]
    },
    {
      "cell_type": "code",
      "metadata": {
        "colab": {
          "base_uri": "https://localhost:8080/",
          "height": 318
        },
        "id": "JpoTkLYDgfsv",
        "outputId": "22ba1b0f-e3cc-4c51-bbaf-cea0290956c3"
      },
      "source": [
        "plot_calibration_purchases_vs_holdout_purchases(pareto_nbd, summary_cal_holdout)"
      ],
      "execution_count": null,
      "outputs": [
        {
          "output_type": "execute_result",
          "data": {
            "text/plain": [
              "<matplotlib.axes._subplots.AxesSubplot at 0x7fbceeeb1ed0>"
            ]
          },
          "metadata": {},
          "execution_count": 56
        },
        {
          "output_type": "display_data",
          "data": {
            "image/png": "[encoded data removed]",
            "text/plain": [
              "<Figure size 432x288 with 1 Axes>"
            ]
          },
          "metadata": {}
        }
      ]
    },
    {
      "cell_type": "markdown",
      "metadata": {
        "id": "m-_VncHEVQRt"
      },
      "source": [
        "The model performs well up to three calibration period purchases, but diverges from the holdout data because of the distribution of the data.\n"
      ]
    },
    {
      "cell_type": "code",
      "metadata": {
        "colab": {
          "base_uri": "https://localhost:8080/",
          "height": 417
        },
        "id": "SNN6_6oUpiqC",
        "outputId": "8db9b989-1b7f-4c0c-c3be-e297b89fddca"
      },
      "source": [
        "summary_pnbd"
      ],
      "execution_count": null,
      "outputs": [
        {
          "output_type": "execute_result",
          "data": {
            "text/html": [
              "<div>\n",
              "<style scoped>\n",
              "    .dataframe tbody tr th:only-of-type {\n",
              "        vertical-align: middle;\n",
              "    }\n",
              "\n",
              "    .dataframe tbody tr th {\n",
              "        vertical-align: top;\n",
              "    }\n",
              "\n",
              "    .dataframe thead th {\n",
              "        text-align: right;\n",
              "    }\n",
              "</style>\n",
              "<table border=\"1\" class=\"dataframe\">\n",
              "  <thead>\n",
              "    <tr style=\"text-align: right;\">\n",
              "      <th></th>\n",
              "      <th>customer_unique_id</th>\n",
              "      <th>frequency</th>\n",
              "      <th>recency</th>\n",
              "      <th>T</th>\n",
              "      <th>monetary_value</th>\n",
              "      <th>p_not_alive</th>\n",
              "      <th>p_alive</th>\n",
              "      <th>predicted_purchases</th>\n",
              "    </tr>\n",
              "  </thead>\n",
              "  <tbody>\n",
              "    <tr>\n",
              "      <th>0</th>\n",
              "      <td>0000366f3b9a7992bf8c76cfdf3221e2</td>\n",
              "      <td>0.0</td>\n",
              "      <td>0.0</td>\n",
              "      <td>116.0</td>\n",
              "      <td>0.0</td>\n",
              "      <td>0.749358</td>\n",
              "      <td>0.250642</td>\n",
              "      <td>0.020628</td>\n",
              "    </tr>\n",
              "    <tr>\n",
              "      <th>1</th>\n",
              "      <td>0000b849f77a49e4a4ce2b2a4ca5be3f</td>\n",
              "      <td>0.0</td>\n",
              "      <td>0.0</td>\n",
              "      <td>119.0</td>\n",
              "      <td>0.0</td>\n",
              "      <td>0.752255</td>\n",
              "      <td>0.247745</td>\n",
              "      <td>0.020471</td>\n",
              "    </tr>\n",
              "    <tr>\n",
              "      <th>2</th>\n",
              "      <td>0000f46a3911fa3c0805444483337064</td>\n",
              "      <td>0.0</td>\n",
              "      <td>0.0</td>\n",
              "      <td>542.0</td>\n",
              "      <td>0.0</td>\n",
              "      <td>0.884915</td>\n",
              "      <td>0.115085</td>\n",
              "      <td>0.009928</td>\n",
              "    </tr>\n",
              "    <tr>\n",
              "      <th>3</th>\n",
              "      <td>0000f6ccb0745a6a4b88665a16c9f078</td>\n",
              "      <td>0.0</td>\n",
              "      <td>0.0</td>\n",
              "      <td>326.0</td>\n",
              "      <td>0.0</td>\n",
              "      <td>0.848173</td>\n",
              "      <td>0.151827</td>\n",
              "      <td>0.013556</td>\n",
              "    </tr>\n",
              "    <tr>\n",
              "      <th>4</th>\n",
              "      <td>0004aac84e0df4da2b147fca70cf8255</td>\n",
              "      <td>0.0</td>\n",
              "      <td>0.0</td>\n",
              "      <td>293.0</td>\n",
              "      <td>0.0</td>\n",
              "      <td>0.839563</td>\n",
              "      <td>0.160437</td>\n",
              "      <td>0.014327</td>\n",
              "    </tr>\n",
              "    <tr>\n",
              "      <th>...</th>\n",
              "      <td>...</td>\n",
              "      <td>...</td>\n",
              "      <td>...</td>\n",
              "      <td>...</td>\n",
              "      <td>...</td>\n",
              "      <td>...</td>\n",
              "      <td>...</td>\n",
              "      <td>...</td>\n",
              "    </tr>\n",
              "    <tr>\n",
              "      <th>95415</th>\n",
              "      <td>fffcf5a5ff07b0908bd4e2dbc735a684</td>\n",
              "      <td>0.0</td>\n",
              "      <td>0.0</td>\n",
              "      <td>452.0</td>\n",
              "      <td>0.0</td>\n",
              "      <td>0.872566</td>\n",
              "      <td>0.127434</td>\n",
              "      <td>0.011204</td>\n",
              "    </tr>\n",
              "    <tr>\n",
              "      <th>95416</th>\n",
              "      <td>fffea47cd6d3cc0a88bd621562a9d061</td>\n",
              "      <td>0.0</td>\n",
              "      <td>0.0</td>\n",
              "      <td>267.0</td>\n",
              "      <td>0.0</td>\n",
              "      <td>0.831793</td>\n",
              "      <td>0.168207</td>\n",
              "      <td>0.014996</td>\n",
              "    </tr>\n",
              "    <tr>\n",
              "      <th>95417</th>\n",
              "      <td>ffff371b4d645b6ecea244b27531430a</td>\n",
              "      <td>0.0</td>\n",
              "      <td>0.0</td>\n",
              "      <td>573.0</td>\n",
              "      <td>0.0</td>\n",
              "      <td>0.888534</td>\n",
              "      <td>0.111466</td>\n",
              "      <td>0.009545</td>\n",
              "    </tr>\n",
              "    <tr>\n",
              "      <th>95418</th>\n",
              "      <td>ffff5962728ec6157033ef9805bacc48</td>\n",
              "      <td>0.0</td>\n",
              "      <td>0.0</td>\n",
              "      <td>124.0</td>\n",
              "      <td>0.0</td>\n",
              "      <td>0.756873</td>\n",
              "      <td>0.243127</td>\n",
              "      <td>0.020214</td>\n",
              "    </tr>\n",
              "    <tr>\n",
              "      <th>95419</th>\n",
              "      <td>ffffd2657e2aad2907e67c3e9daecbeb</td>\n",
              "      <td>0.0</td>\n",
              "      <td>0.0</td>\n",
              "      <td>489.0</td>\n",
              "      <td>0.0</td>\n",
              "      <td>0.878019</td>\n",
              "      <td>0.121981</td>\n",
              "      <td>0.010647</td>\n",
              "    </tr>\n",
              "  </tbody>\n",
              "</table>\n",
              "<p>95420 rows × 8 columns</p>\n",
              "</div>"
            ],
            "text/plain": [
              "                     customer_unique_id  ...  predicted_purchases\n",
              "0      0000366f3b9a7992bf8c76cfdf3221e2  ...             0.020628\n",
              "1      0000b849f77a49e4a4ce2b2a4ca5be3f  ...             0.020471\n",
              "2      0000f46a3911fa3c0805444483337064  ...             0.009928\n",
              "3      0000f6ccb0745a6a4b88665a16c9f078  ...             0.013556\n",
              "4      0004aac84e0df4da2b147fca70cf8255  ...             0.014327\n",
              "...                                 ...  ...                  ...\n",
              "95415  fffcf5a5ff07b0908bd4e2dbc735a684  ...             0.011204\n",
              "95416  fffea47cd6d3cc0a88bd621562a9d061  ...             0.014996\n",
              "95417  ffff371b4d645b6ecea244b27531430a  ...             0.009545\n",
              "95418  ffff5962728ec6157033ef9805bacc48  ...             0.020214\n",
              "95419  ffffd2657e2aad2907e67c3e9daecbeb  ...             0.010647\n",
              "\n",
              "[95420 rows x 8 columns]"
            ]
          },
          "metadata": {},
          "execution_count": 57
        }
      ]
    },
    {
      "cell_type": "code",
      "metadata": {
        "id": "8m3maGojpheX"
      },
      "source": [
        "#Creating a function which can predict the future purchased value based on the lookup window\n",
        "\n",
        "def pareto_get_pred_error(t, id_):\n",
        "    \n",
        "    individual_p = summary_pnbd[summary_pnbd[\"customer_unique_id\"] == id_]\n",
        "    \n",
        "    ind_pred_p = pareto_nbd.predict(t, individual_p[\"frequency\"], individual_p[\"recency\"], individual_p[\"T\"])\n",
        "    \n",
        "    actual_val_p = individual_p[\"frequency\"]/individual_p[\"recency\"]*t\n",
        "    \n",
        "    error = actual_val_p - ind_pred_p\n",
        "    \n",
        "    print(\"Your Predicted Purchase: %s\" % (ind_pred_p))\n",
        "    print(\"Your Actual Purchase: %s\" % (actual_val_p))\n",
        "    print(\"Prediction Error: %s\" % (error))"
      ],
      "execution_count": null,
      "outputs": []
    },
    {
      "cell_type": "code",
      "metadata": {
        "id": "LZBh5IHQpqbK"
      },
      "source": [
        "summary_pnbd[\"actual_365_p\"] = summary_pnbd[\"frequency\"]/summary_pnbd[\"recency\"]*365\n"
      ],
      "execution_count": null,
      "outputs": []
    },
    {
      "cell_type": "code",
      "metadata": {
        "id": "uLEANqsJpuY1"
      },
      "source": [
        "summary_pnbd[\"actual_365_p\"].fillna(0, inplace = True)\n"
      ],
      "execution_count": null,
      "outputs": []
    },
    {
      "cell_type": "code",
      "metadata": {
        "id": "r5LBPuMMpyNv"
      },
      "source": [
        "summary_pnbd[\"p_error\"] = summary_pnbd[\"actual_365_p\"]-summary_pnbd[\"predicted_purchases\"]\n"
      ],
      "execution_count": null,
      "outputs": []
    },
    {
      "cell_type": "code",
      "metadata": {
        "id": "HPKSS7us0Mzq"
      },
      "source": [
        "\n",
        "def get_metrics(true, predicted, error):\n",
        "    \n",
        "    print(\"Mean Squared Error: %s\"%(mean_squared_error(true, predicted)))\n",
        "    print(\"Root Mean Squared Error: %s\"%(sqrt(mean_squared_error(true, predicted))))\n",
        "    print(\"R2 Score: %s\"%(r2_score(true, predicted)))\n",
        "    print(\"Average Purchase Error: %s\" %(summary_pnbd[\"p_error\"].mean()))\n",
        "    \n",
        "    sns.scatterplot(true, predicted, size = error, color = \"darkolivegreen\")\n",
        "    plt.title(\"Actual Purchase v/s Predicted Purchase\")\n",
        "    plt.show()"
      ],
      "execution_count": null,
      "outputs": []
    },
    {
      "cell_type": "code",
      "metadata": {
        "colab": {
          "base_uri": "https://localhost:8080/",
          "height": 368
        },
        "id": "QmxVM-Mb0W2-",
        "outputId": "194f8754-7d58-4cf6-84d2-3558fd224341"
      },
      "source": [
        "get_metrics(summary_pnbd[\"actual_365_p\"], summary_pnbd[\"predicted_purchases\"], summary_pnbd[\"p_error\"])\n"
      ],
      "execution_count": null,
      "outputs": [
        {
          "output_type": "stream",
          "name": "stdout",
          "text": [
            "Mean Squared Error: 86.2185341097792\n",
            "Root Mean Squared Error: 9.285393589384308\n",
            "R2 Score: -0.0021397604061359488\n",
            "Average Purchase Error: 0.4804006109545974\n"
          ]
        },
        {
          "output_type": "display_data",
          "data": {
            "image/png": "[encoded data removed]",
            "text/plain": [
              "<Figure size 432x288 with 1 Axes>"
            ]
          },
          "metadata": {}
        }
      ]
    },
    {
      "cell_type": "code",
      "metadata": {
        "id": "n3fwlb_9p7zU"
      },
      "source": [
        "pareto_mse_purchase = mean_squared_error(summary_pnbd[\"actual_365_p\"], summary_pnbd[\"predicted_purchases\"])\n",
        "pareto_rmse_purchase = sqrt(mean_squared_error(summary_pnbd[\"actual_365_p\"], summary_pnbd[\"predicted_purchases\"]))\n",
        "pareto_avg_error_purchase = summary_pnbd[\"p_error\"].mean()"
      ],
      "execution_count": null,
      "outputs": []
    },
    {
      "cell_type": "code",
      "metadata": {
        "id": "tL0y6bwnqJp7"
      },
      "source": [
        "\n",
        "summary_copy = summary_pnbd.copy()"
      ],
      "execution_count": null,
      "outputs": []
    },
    {
      "cell_type": "code",
      "metadata": {
        "id": "xQ3HSatPqL_0"
      },
      "source": [
        "summary_copy = summary_copy[(summary_copy[\"frequency\"] > 0) & (summary_copy[\"monetary_value\"] > 0)]\n"
      ],
      "execution_count": null,
      "outputs": []
    },
    {
      "cell_type": "markdown",
      "metadata": {
        "id": "zzl2y9WfvB61"
      },
      "source": [
        "The model we are going to use to estimate the CLV for our data is called the Gamma-Gamma submodel, which relies upon an important assumption.\n",
        "\n",
        "The Gamma-Gamma submodel assumes that there is no relationship between the monetary value and the purchase frequency. In practice we need to check whether the Pearson correlation between the two vectors is close to 0 in order to use this model."
      ]
    },
    {
      "cell_type": "code",
      "metadata": {
        "colab": {
          "base_uri": "https://localhost:8080/",
          "height": 290
        },
        "id": "HVykWtp6qOQv",
        "outputId": "921ec484-888e-477e-cf70-36d882a75be4"
      },
      "source": [
        "sns.heatmap(summary_copy[[\"frequency\", \"monetary_value\"]].corr(), annot = True)\n"
      ],
      "execution_count": null,
      "outputs": [
        {
          "output_type": "execute_result",
          "data": {
            "text/plain": [
              "<matplotlib.axes._subplots.AxesSubplot at 0x7fbcf85f6c10>"
            ]
          },
          "metadata": {},
          "execution_count": 67
        },
        {
          "output_type": "display_data",
          "data": {
            "image/png": "[encoded data removed]",
            "text/plain": [
              "<Figure size 432x288 with 2 Axes>"
            ]
          },
          "metadata": {}
        }
      ]
    },
    {
      "cell_type": "code",
      "metadata": {
        "id": "h7VrN8CuqQ4f"
      },
      "source": [
        "ggf_p = lifetimes.GammaGammaFitter(penalizer_coef = 0.0)\n"
      ],
      "execution_count": null,
      "outputs": []
    },
    {
      "cell_type": "code",
      "metadata": {
        "colab": {
          "base_uri": "https://localhost:8080/"
        },
        "id": "0c_1h14tqS7C",
        "outputId": "0d9e9c2d-b03c-40a5-daa5-ac98d822be4d"
      },
      "source": [
        "ggf_p.fit(summary_copy[\"frequency\"], summary_copy[\"monetary_value\"])\n"
      ],
      "execution_count": null,
      "outputs": [
        {
          "output_type": "execute_result",
          "data": {
            "text/plain": [
              "<lifetimes.GammaGammaFitter: fitted with 2085 subjects, p: 2.98, q: 2.90, v: 72.16>"
            ]
          },
          "metadata": {},
          "execution_count": 69
        }
      ]
    },
    {
      "cell_type": "code",
      "metadata": {
        "colab": {
          "base_uri": "https://localhost:8080/",
          "height": 142
        },
        "id": "qWHQy_GOqVLx",
        "outputId": "eb109e59-6a00-4d78-b093-e1cf50b2254c"
      },
      "source": [
        "ggf_p.summary\n"
      ],
      "execution_count": null,
      "outputs": [
        {
          "output_type": "execute_result",
          "data": {
            "text/html": [
              "<div>\n",
              "<style scoped>\n",
              "    .dataframe tbody tr th:only-of-type {\n",
              "        vertical-align: middle;\n",
              "    }\n",
              "\n",
              "    .dataframe tbody tr th {\n",
              "        vertical-align: top;\n",
              "    }\n",
              "\n",
              "    .dataframe thead th {\n",
              "        text-align: right;\n",
              "    }\n",
              "</style>\n",
              "<table border=\"1\" class=\"dataframe\">\n",
              "  <thead>\n",
              "    <tr style=\"text-align: right;\">\n",
              "      <th></th>\n",
              "      <th>coef</th>\n",
              "      <th>se(coef)</th>\n",
              "      <th>lower 95% bound</th>\n",
              "      <th>upper 95% bound</th>\n",
              "    </tr>\n",
              "  </thead>\n",
              "  <tbody>\n",
              "    <tr>\n",
              "      <th>p</th>\n",
              "      <td>2.977437</td>\n",
              "      <td>0.226051</td>\n",
              "      <td>2.534378</td>\n",
              "      <td>3.420496</td>\n",
              "    </tr>\n",
              "    <tr>\n",
              "      <th>q</th>\n",
              "      <td>2.900954</td>\n",
              "      <td>0.204591</td>\n",
              "      <td>2.499955</td>\n",
              "      <td>3.301952</td>\n",
              "    </tr>\n",
              "    <tr>\n",
              "      <th>v</th>\n",
              "      <td>72.164356</td>\n",
              "      <td>11.407650</td>\n",
              "      <td>49.805361</td>\n",
              "      <td>94.523350</td>\n",
              "    </tr>\n",
              "  </tbody>\n",
              "</table>\n",
              "</div>"
            ],
            "text/plain": [
              "        coef   se(coef)  lower 95% bound  upper 95% bound\n",
              "p   2.977437   0.226051         2.534378         3.420496\n",
              "q   2.900954   0.204591         2.499955         3.301952\n",
              "v  72.164356  11.407650        49.805361        94.523350"
            ]
          },
          "metadata": {},
          "execution_count": 70
        }
      ]
    },
    {
      "cell_type": "code",
      "metadata": {
        "id": "FJndWs0yqYv6"
      },
      "source": [
        "summary_copy[\"expected_avg_sales_p\"] = ggf_p.conditional_expected_average_profit(summary_copy[\"frequency\"],\n",
        "                                                                        summary_copy[\"monetary_value\"])"
      ],
      "execution_count": null,
      "outputs": []
    },
    {
      "cell_type": "code",
      "metadata": {
        "colab": {
          "base_uri": "https://localhost:8080/",
          "height": 223
        },
        "id": "BZmP52oRqbuS",
        "outputId": "0d4f3f19-68ec-4cf4-d0ca-7d95249d666a"
      },
      "source": [
        "summary_copy.head()\n"
      ],
      "execution_count": null,
      "outputs": [
        {
          "output_type": "execute_result",
          "data": {
            "text/html": [
              "<div>\n",
              "<style scoped>\n",
              "    .dataframe tbody tr th:only-of-type {\n",
              "        vertical-align: middle;\n",
              "    }\n",
              "\n",
              "    .dataframe tbody tr th {\n",
              "        vertical-align: top;\n",
              "    }\n",
              "\n",
              "    .dataframe thead th {\n",
              "        text-align: right;\n",
              "    }\n",
              "</style>\n",
              "<table border=\"1\" class=\"dataframe\">\n",
              "  <thead>\n",
              "    <tr style=\"text-align: right;\">\n",
              "      <th></th>\n",
              "      <th>customer_unique_id</th>\n",
              "      <th>frequency</th>\n",
              "      <th>recency</th>\n",
              "      <th>T</th>\n",
              "      <th>monetary_value</th>\n",
              "      <th>p_not_alive</th>\n",
              "      <th>p_alive</th>\n",
              "      <th>predicted_purchases</th>\n",
              "      <th>actual_365_p</th>\n",
              "      <th>p_error</th>\n",
              "      <th>expected_avg_sales_p</th>\n",
              "    </tr>\n",
              "  </thead>\n",
              "  <tbody>\n",
              "    <tr>\n",
              "      <th>106</th>\n",
              "      <td>004288347e5e88a27ded2bb23747066c</td>\n",
              "      <td>1.0</td>\n",
              "      <td>171.0</td>\n",
              "      <td>403.0</td>\n",
              "      <td>87.90</td>\n",
              "      <td>0.336332</td>\n",
              "      <td>0.663668</td>\n",
              "      <td>0.150772</td>\n",
              "      <td>2.134503</td>\n",
              "      <td>1.983731</td>\n",
              "      <td>97.692367</td>\n",
              "    </tr>\n",
              "    <tr>\n",
              "      <th>123</th>\n",
              "      <td>004b45ec5c64187465168251cd1c9c2f</td>\n",
              "      <td>1.0</td>\n",
              "      <td>267.0</td>\n",
              "      <td>367.0</td>\n",
              "      <td>27.00</td>\n",
              "      <td>0.135218</td>\n",
              "      <td>0.864782</td>\n",
              "      <td>0.197331</td>\n",
              "      <td>1.367041</td>\n",
              "      <td>1.169711</td>\n",
              "      <td>60.523160</td>\n",
              "    </tr>\n",
              "    <tr>\n",
              "      <th>143</th>\n",
              "      <td>0058f300f57d7b93c477a131a59b36c3</td>\n",
              "      <td>1.0</td>\n",
              "      <td>31.0</td>\n",
              "      <td>196.0</td>\n",
              "      <td>72.58</td>\n",
              "      <td>0.556861</td>\n",
              "      <td>0.443139</td>\n",
              "      <td>0.099574</td>\n",
              "      <td>11.774194</td>\n",
              "      <td>11.674620</td>\n",
              "      <td>88.342084</td>\n",
              "    </tr>\n",
              "    <tr>\n",
              "      <th>246</th>\n",
              "      <td>00a39521eb40f7012db50455bf083460</td>\n",
              "      <td>1.0</td>\n",
              "      <td>11.0</td>\n",
              "      <td>103.0</td>\n",
              "      <td>11.55</td>\n",
              "      <td>0.580184</td>\n",
              "      <td>0.419816</td>\n",
              "      <td>0.086865</td>\n",
              "      <td>33.181818</td>\n",
              "      <td>33.094954</td>\n",
              "      <td>51.093534</td>\n",
              "    </tr>\n",
              "    <tr>\n",
              "      <th>410</th>\n",
              "      <td>011575986092c30523ecb71ff10cb473</td>\n",
              "      <td>1.0</td>\n",
              "      <td>60.0</td>\n",
              "      <td>198.0</td>\n",
              "      <td>63.90</td>\n",
              "      <td>0.414638</td>\n",
              "      <td>0.585362</td>\n",
              "      <td>0.131639</td>\n",
              "      <td>6.083333</td>\n",
              "      <td>5.951695</td>\n",
              "      <td>83.044404</td>\n",
              "    </tr>\n",
              "  </tbody>\n",
              "</table>\n",
              "</div>"
            ],
            "text/plain": [
              "                   customer_unique_id  ...  expected_avg_sales_p\n",
              "106  004288347e5e88a27ded2bb23747066c  ...             97.692367\n",
              "123  004b45ec5c64187465168251cd1c9c2f  ...             60.523160\n",
              "143  0058f300f57d7b93c477a131a59b36c3  ...             88.342084\n",
              "246  00a39521eb40f7012db50455bf083460  ...             51.093534\n",
              "410  011575986092c30523ecb71ff10cb473  ...             83.044404\n",
              "\n",
              "[5 rows x 11 columns]"
            ]
          },
          "metadata": {},
          "execution_count": 72
        }
      ]
    },
    {
      "cell_type": "code",
      "metadata": {
        "id": "TkSR3TsYqemN"
      },
      "source": [
        "avg_purchase_error = summary_copy[\"monetary_value\"].mean() - summary_copy[\"expected_avg_sales_p\"].mean()"
      ],
      "execution_count": null,
      "outputs": []
    },
    {
      "cell_type": "code",
      "metadata": {
        "colab": {
          "base_uri": "https://localhost:8080/"
        },
        "id": "0qJdkUzlqhJi",
        "outputId": "d75d4a96-6c10-4c29-88eb-15600bdee915"
      },
      "source": [
        "\n",
        "print(\"Actual Avg Sales: %s\" % summary_copy[\"monetary_value\"].mean())\n",
        "print(\"Predicted Avg Sales: %s\" % summary_copy[\"expected_avg_sales_p\"].mean())\n",
        "print(\"Mean Sqaured Error: %s\" % mean_squared_error(summary_copy[\"monetary_value\"], summary_copy[\"expected_avg_sales_p\"]))\n",
        "print(\"Root Mean Sqaured Error: %s\" % sqrt(mean_squared_error(summary_copy[\"monetary_value\"], summary_copy[\"expected_avg_sales_p\"])))\n",
        "print(\"Avg Sales Error: %s\" % avg_purchase_error)"
      ],
      "execution_count": null,
      "outputs": [
        {
          "output_type": "stream",
          "name": "stdout",
          "text": [
            "Actual Avg Sales: 113.26364540367545\n",
            "Predicted Avg Sales: 113.08382919908112\n",
            "Mean Sqaured Error: 2940.122843020948\n",
            "Root Mean Sqaured Error: 54.222899618343426\n",
            "Avg Sales Error: 0.17981620459433145\n"
          ]
        }
      ]
    },
    {
      "cell_type": "code",
      "metadata": {
        "id": "Ld7QNYleql6f"
      },
      "source": [
        "actual = summary_copy[\"actual_365_p\"] * summary_copy[\"monetary_value\"]\n",
        "predicted = summary_copy[\"predicted_purchases\"] * summary_copy[\"expected_avg_sales_p\"]"
      ],
      "execution_count": null,
      "outputs": []
    },
    {
      "cell_type": "code",
      "metadata": {
        "id": "RLhf1yVpqtwJ"
      },
      "source": [
        "error = actual-predicted"
      ],
      "execution_count": null,
      "outputs": []
    },
    {
      "cell_type": "code",
      "metadata": {
        "id": "ohyi6xr-qwpJ"
      },
      "source": [
        "result_p = pd.DataFrame([actual, predicted, error], index = [\"Actual\", \"Predicted\", \"Error\"]).T\n"
      ],
      "execution_count": null,
      "outputs": []
    },
    {
      "cell_type": "code",
      "metadata": {
        "colab": {
          "base_uri": "https://localhost:8080/"
        },
        "id": "CCVTlNDgqz3P",
        "outputId": "04e308d6-12d0-4b80-a15a-4cd5a9940188"
      },
      "source": [
        "print(\"Average Error: %s\" % result_p[\"Error\"].mean())\n",
        "print(\"Mean Squared Error: %s\" % mean_squared_error(result_p[\"Actual\"], result_p[\"Predicted\"]))\n",
        "print(\"Root Mean Squared Error: %s\" % sqrt(mean_squared_error(result_p[\"Actual\"], result_p[\"Predicted\"])))"
      ],
      "execution_count": null,
      "outputs": [
        {
          "output_type": "stream",
          "name": "stdout",
          "text": [
            "Average Error: 2906.6619122577595\n",
            "Mean Squared Error: 223424392.5500116\n",
            "Root Mean Squared Error: 14947.387482433563\n"
          ]
        }
      ]
    },
    {
      "cell_type": "code",
      "metadata": {
        "colab": {
          "base_uri": "https://localhost:8080/",
          "height": 301
        },
        "id": "RKQHliZ_NQuS",
        "outputId": "1c427cb9-fa0d-4e4c-f3d9-9ca59c3a5356"
      },
      "source": [
        "#Predicted v/s Actual\n",
        "plt.figure(figsize=(14,4))\n",
        "plt.subplot(121)\n",
        "sns.scatterplot(result_p[\"Actual\"], result_p[\"Predicted\"], size = result_p[\"Error\"], color = \"darkkhaki\", alpha = 0.8, marker = 'o')\n",
        "sns.scatterplot((result_p[result_p[\"Error\"] > 5000][\"Actual\"]), (result_p[result_p[\"Error\"] > 5000][\"Predicted\"]), color = \"k\", marker = \"x\")\n",
        "plt.title(\"Predicted Total Sales v/s Actual Total Sales\")\n",
        "plt.subplot(122)\n",
        "plt.plot(result_p[\"Error\"], color = \"r\")\n",
        "plt.title(\"Errors\")\n",
        "plt.show()"
      ],
      "execution_count": null,
      "outputs": [
        {
          "output_type": "display_data",
          "data": {
            "image/png": "[encoded data removed]",
            "text/plain": [
              "<Figure size 1008x288 with 2 Axes>"
            ]
          },
          "metadata": {}
        }
      ]
    },
    {
      "cell_type": "markdown",
      "metadata": {
        "id": "zZCY9ezejcUR"
      },
      "source": [
        ""
      ]
    },
    {
      "cell_type": "code",
      "metadata": {
        "colab": {
          "base_uri": "https://localhost:8080/",
          "height": 725
        },
        "id": "1b6gnTviq2_k",
        "outputId": "37678d5b-00ae-4da7-884b-d54014b5ee9d"
      },
      "source": [
        "plt.figure(figsize=(14,10))\n",
        "plt.subplot(321)\n",
        "plt.errorbar(result_p[\"Actual\"], result_p[\"Predicted\"], yerr=result_p[\"Error\"], fmt='o', color='darkcyan',\n",
        "             ecolor='black', elinewidth=2, capsize=0, alpha = 0.4);\n",
        "plt.title(\"Prediction v/s Actual\")\n",
        "plt.subplot(322)\n",
        "plt.plot(result_p[\"Error\"], color = 'r')\n",
        "plt.title(\"Error\")\n",
        "plt.subplot(323)\n",
        "sns.boxplot(result_p[\"Predicted\"])\n",
        "plt.subplot(324)\n",
        "sns.boxplot(result_p[\"Actual\"])\n",
        "plt.subplot(325)\n",
        "sns.distplot(result_p[\"Predicted\"])\n",
        "sns.distplot(result_p[\"Actual\"])\n",
        "plt.legend([\"Predicted\", \"Actual\"])\n",
        "plt.tight_layout()"
      ],
      "execution_count": null,
      "outputs": [
        {
          "output_type": "display_data",
          "data": {
            "image/png": "[encoded data removed]",
            "text/plain": [
              "<Figure size 1008x720 with 5 Axes>"
            ]
          },
          "metadata": {}
        }
      ]
    },
    {
      "cell_type": "code",
      "metadata": {
        "id": "S_M1fpdmrCAm"
      },
      "source": [
        "summary_copy[\"predicted_clv_p\"] = ggf_p.customer_lifetime_value(pareto_nbd,\n",
        "                                                       summary_copy[\"frequency\"],\n",
        "                                                       summary_copy[\"recency\"],\n",
        "                                                       summary_copy[\"T\"],\n",
        "                                                       summary_copy[\"monetary_value\"],\n",
        "                                                       time = 365,\n",
        "                                                       freq = 'D',\n",
        "                                                       discount_rate = 0.01)"
      ],
      "execution_count": null,
      "outputs": []
    },
    {
      "cell_type": "code",
      "metadata": {
        "colab": {
          "base_uri": "https://localhost:8080/"
        },
        "id": "oAuekY0irGIQ",
        "outputId": "78177956-b103-4877-a919-40998255a204"
      },
      "source": [
        "summary_copy.shape\n"
      ],
      "execution_count": null,
      "outputs": [
        {
          "output_type": "execute_result",
          "data": {
            "text/plain": [
              "(2085, 12)"
            ]
          },
          "metadata": {},
          "execution_count": 84
        }
      ]
    },
    {
      "cell_type": "code",
      "metadata": {
        "id": "Qn3T9zAmrIfi"
      },
      "source": [
        "summary_copy[\"CLV_p\"] = summary_copy[\"predicted_clv_p\"]*0.05\n"
      ],
      "execution_count": null,
      "outputs": []
    },
    {
      "cell_type": "markdown",
      "metadata": {
        "id": "0b81zWZniZXe"
      },
      "source": [
        "which customers have the highest spend probability in next 365-days?"
      ]
    },
    {
      "cell_type": "code",
      "metadata": {
        "colab": {
          "base_uri": "https://localhost:8080/",
          "height": 377
        },
        "id": "53NfPYfvrKn8",
        "outputId": "21de6ece-2347-42a7-9e56-e417149f443e"
      },
      "source": [
        "summary_copy.sort_values('predicted_purchases',ascending=False).head(10)\n"
      ],
      "execution_count": null,
      "outputs": [
        {
          "output_type": "execute_result",
          "data": {
            "text/html": [
              "<div>\n",
              "<style scoped>\n",
              "    .dataframe tbody tr th:only-of-type {\n",
              "        vertical-align: middle;\n",
              "    }\n",
              "\n",
              "    .dataframe tbody tr th {\n",
              "        vertical-align: top;\n",
              "    }\n",
              "\n",
              "    .dataframe thead th {\n",
              "        text-align: right;\n",
              "    }\n",
              "</style>\n",
              "<table border=\"1\" class=\"dataframe\">\n",
              "  <thead>\n",
              "    <tr style=\"text-align: right;\">\n",
              "      <th></th>\n",
              "      <th>customer_unique_id</th>\n",
              "      <th>frequency</th>\n",
              "      <th>recency</th>\n",
              "      <th>T</th>\n",
              "      <th>monetary_value</th>\n",
              "      <th>p_not_alive</th>\n",
              "      <th>p_alive</th>\n",
              "      <th>predicted_purchases</th>\n",
              "      <th>actual_365_p</th>\n",
              "      <th>p_error</th>\n",
              "      <th>expected_avg_sales_p</th>\n",
              "      <th>predicted_clv_p</th>\n",
              "      <th>CLV_p</th>\n",
              "    </tr>\n",
              "  </thead>\n",
              "  <tbody>\n",
              "    <tr>\n",
              "      <th>52597</th>\n",
              "      <td>8d50f5eadf50201ccdcedfb9e2ac8455</td>\n",
              "      <td>15.0</td>\n",
              "      <td>462.0</td>\n",
              "      <td>476.0</td>\n",
              "      <td>47.642000</td>\n",
              "      <td>0.013756</td>\n",
              "      <td>0.986244</td>\n",
              "      <td>2.110177</td>\n",
              "      <td>11.850649</td>\n",
              "      <td>9.740472</td>\n",
              "      <td>50.311521</td>\n",
              "      <td>503.478122</td>\n",
              "      <td>25.173906</td>\n",
              "    </tr>\n",
              "    <tr>\n",
              "      <th>75560</th>\n",
              "      <td>ca77025e7201e3b30c44b472ff346268</td>\n",
              "      <td>6.0</td>\n",
              "      <td>235.0</td>\n",
              "      <td>329.0</td>\n",
              "      <td>66.126667</td>\n",
              "      <td>0.157330</td>\n",
              "      <td>0.842670</td>\n",
              "      <td>0.780812</td>\n",
              "      <td>9.319149</td>\n",
              "      <td>8.538337</td>\n",
              "      <td>70.637595</td>\n",
              "      <td>245.048055</td>\n",
              "      <td>12.252403</td>\n",
              "    </tr>\n",
              "    <tr>\n",
              "      <th>82305</th>\n",
              "      <td>dc813062e0fc23409cd255f7f53c7074</td>\n",
              "      <td>5.0</td>\n",
              "      <td>418.0</td>\n",
              "      <td>429.0</td>\n",
              "      <td>75.552000</td>\n",
              "      <td>0.011569</td>\n",
              "      <td>0.988431</td>\n",
              "      <td>0.769240</td>\n",
              "      <td>4.366029</td>\n",
              "      <td>3.596788</td>\n",
              "      <td>79.795709</td>\n",
              "      <td>285.723682</td>\n",
              "      <td>14.286184</td>\n",
              "    </tr>\n",
              "    <tr>\n",
              "      <th>37532</th>\n",
              "      <td>6469f99c1f9dfae7733b25662e7f1782</td>\n",
              "      <td>5.0</td>\n",
              "      <td>282.0</td>\n",
              "      <td>349.0</td>\n",
              "      <td>106.880000</td>\n",
              "      <td>0.097296</td>\n",
              "      <td>0.902704</td>\n",
              "      <td>0.709609</td>\n",
              "      <td>6.471631</td>\n",
              "      <td>5.762022</td>\n",
              "      <td>107.576378</td>\n",
              "      <td>342.643416</td>\n",
              "      <td>17.132171</td>\n",
              "    </tr>\n",
              "    <tr>\n",
              "      <th>37320</th>\n",
              "      <td>63cfc61cee11cbe306bff5857d00bfe4</td>\n",
              "      <td>5.0</td>\n",
              "      <td>382.0</td>\n",
              "      <td>480.0</td>\n",
              "      <td>62.772000</td>\n",
              "      <td>0.107802</td>\n",
              "      <td>0.892198</td>\n",
              "      <td>0.687819</td>\n",
              "      <td>4.777487</td>\n",
              "      <td>4.089668</td>\n",
              "      <td>68.462813</td>\n",
              "      <td>223.654317</td>\n",
              "      <td>11.182716</td>\n",
              "    </tr>\n",
              "    <tr>\n",
              "      <th>89814</th>\n",
              "      <td>f0e310a6839dce9de1638e0fe5ab282a</td>\n",
              "      <td>5.0</td>\n",
              "      <td>320.0</td>\n",
              "      <td>471.0</td>\n",
              "      <td>42.218000</td>\n",
              "      <td>0.186709</td>\n",
              "      <td>0.813291</td>\n",
              "      <td>0.628114</td>\n",
              "      <td>5.703125</td>\n",
              "      <td>5.075011</td>\n",
              "      <td>50.236183</td>\n",
              "      <td>149.356588</td>\n",
              "      <td>7.467829</td>\n",
              "    </tr>\n",
              "    <tr>\n",
              "      <th>21432</th>\n",
              "      <td>394ac4de8f3acb14253c177f0e15bc58</td>\n",
              "      <td>4.0</td>\n",
              "      <td>236.0</td>\n",
              "      <td>255.0</td>\n",
              "      <td>106.150000</td>\n",
              "      <td>0.034010</td>\n",
              "      <td>0.965990</td>\n",
              "      <td>0.623731</td>\n",
              "      <td>6.186441</td>\n",
              "      <td>5.562710</td>\n",
              "      <td>107.096989</td>\n",
              "      <td>284.316059</td>\n",
              "      <td>14.215803</td>\n",
              "    </tr>\n",
              "    <tr>\n",
              "      <th>29302</th>\n",
              "      <td>4e65032f1f574189fb793bac5a867bbc</td>\n",
              "      <td>4.0</td>\n",
              "      <td>445.0</td>\n",
              "      <td>526.0</td>\n",
              "      <td>94.795000</td>\n",
              "      <td>0.077128</td>\n",
              "      <td>0.922872</td>\n",
              "      <td>0.579565</td>\n",
              "      <td>3.280899</td>\n",
              "      <td>2.701334</td>\n",
              "      <td>97.304932</td>\n",
              "      <td>272.308679</td>\n",
              "      <td>13.615434</td>\n",
              "    </tr>\n",
              "    <tr>\n",
              "      <th>94863</th>\n",
              "      <td>fe81bb32c243a86b2f86fbf053fe6140</td>\n",
              "      <td>4.0</td>\n",
              "      <td>242.0</td>\n",
              "      <td>316.0</td>\n",
              "      <td>369.850000</td>\n",
              "      <td>0.119209</td>\n",
              "      <td>0.880791</td>\n",
              "      <td>0.570534</td>\n",
              "      <td>6.033058</td>\n",
              "      <td>5.462524</td>\n",
              "      <td>334.500392</td>\n",
              "      <td>842.053453</td>\n",
              "      <td>42.102673</td>\n",
              "    </tr>\n",
              "    <tr>\n",
              "      <th>23302</th>\n",
              "      <td>3e43e6105506432c953e165fb2acf44c</td>\n",
              "      <td>5.0</td>\n",
              "      <td>162.0</td>\n",
              "      <td>350.0</td>\n",
              "      <td>156.650000</td>\n",
              "      <td>0.351435</td>\n",
              "      <td>0.648565</td>\n",
              "      <td>0.509794</td>\n",
              "      <td>11.265432</td>\n",
              "      <td>10.755638</td>\n",
              "      <td>151.710824</td>\n",
              "      <td>347.322845</td>\n",
              "      <td>17.366142</td>\n",
              "    </tr>\n",
              "  </tbody>\n",
              "</table>\n",
              "</div>"
            ],
            "text/plain": [
              "                     customer_unique_id  frequency  ...  predicted_clv_p      CLV_p\n",
              "52597  8d50f5eadf50201ccdcedfb9e2ac8455       15.0  ...       503.478122  25.173906\n",
              "75560  ca77025e7201e3b30c44b472ff346268        6.0  ...       245.048055  12.252403\n",
              "82305  dc813062e0fc23409cd255f7f53c7074        5.0  ...       285.723682  14.286184\n",
              "37532  6469f99c1f9dfae7733b25662e7f1782        5.0  ...       342.643416  17.132171\n",
              "37320  63cfc61cee11cbe306bff5857d00bfe4        5.0  ...       223.654317  11.182716\n",
              "89814  f0e310a6839dce9de1638e0fe5ab282a        5.0  ...       149.356588   7.467829\n",
              "21432  394ac4de8f3acb14253c177f0e15bc58        4.0  ...       284.316059  14.215803\n",
              "29302  4e65032f1f574189fb793bac5a867bbc        4.0  ...       272.308679  13.615434\n",
              "94863  fe81bb32c243a86b2f86fbf053fe6140        4.0  ...       842.053453  42.102673\n",
              "23302  3e43e6105506432c953e165fb2acf44c        5.0  ...       347.322845  17.366142\n",
              "\n",
              "[10 rows x 13 columns]"
            ]
          },
          "metadata": {},
          "execution_count": 86
        }
      ]
    },
    {
      "cell_type": "markdown",
      "metadata": {
        "id": "qIqmzRUEietj"
      },
      "source": [
        "which customers have the lowest spend probability in next 365-days?"
      ]
    },
    {
      "cell_type": "code",
      "metadata": {
        "colab": {
          "base_uri": "https://localhost:8080/",
          "height": 377
        },
        "id": "b-BDwi3GhpSy",
        "outputId": "c6820162-524f-4121-d47b-9de7a9fe4861"
      },
      "source": [
        "summary_copy.sort_values('predicted_purchases',ascending=False).tail(10)"
      ],
      "execution_count": null,
      "outputs": [
        {
          "output_type": "execute_result",
          "data": {
            "text/html": [
              "<div>\n",
              "<style scoped>\n",
              "    .dataframe tbody tr th:only-of-type {\n",
              "        vertical-align: middle;\n",
              "    }\n",
              "\n",
              "    .dataframe tbody tr th {\n",
              "        vertical-align: top;\n",
              "    }\n",
              "\n",
              "    .dataframe thead th {\n",
              "        text-align: right;\n",
              "    }\n",
              "</style>\n",
              "<table border=\"1\" class=\"dataframe\">\n",
              "  <thead>\n",
              "    <tr style=\"text-align: right;\">\n",
              "      <th></th>\n",
              "      <th>customer_unique_id</th>\n",
              "      <th>frequency</th>\n",
              "      <th>recency</th>\n",
              "      <th>T</th>\n",
              "      <th>monetary_value</th>\n",
              "      <th>p_not_alive</th>\n",
              "      <th>p_alive</th>\n",
              "      <th>predicted_purchases</th>\n",
              "      <th>actual_365_p</th>\n",
              "      <th>p_error</th>\n",
              "      <th>expected_avg_sales_p</th>\n",
              "      <th>predicted_clv_p</th>\n",
              "      <th>CLV_p</th>\n",
              "    </tr>\n",
              "  </thead>\n",
              "  <tbody>\n",
              "    <tr>\n",
              "      <th>20327</th>\n",
              "      <td>36445bb429c8bb13c3f8cd6794723647</td>\n",
              "      <td>1.0</td>\n",
              "      <td>2.0</td>\n",
              "      <td>477.0</td>\n",
              "      <td>36.85</td>\n",
              "      <td>0.880889</td>\n",
              "      <td>0.119111</td>\n",
              "      <td>0.026714</td>\n",
              "      <td>182.5</td>\n",
              "      <td>182.473286</td>\n",
              "      <td>66.534929</td>\n",
              "      <td>8.432224</td>\n",
              "      <td>0.421611</td>\n",
              "    </tr>\n",
              "    <tr>\n",
              "      <th>54178</th>\n",
              "      <td>917de9fb824d070a7f1f4db097cbea8d</td>\n",
              "      <td>1.0</td>\n",
              "      <td>1.0</td>\n",
              "      <td>473.0</td>\n",
              "      <td>69.00</td>\n",
              "      <td>0.887881</td>\n",
              "      <td>0.112119</td>\n",
              "      <td>0.025166</td>\n",
              "      <td>365.0</td>\n",
              "      <td>364.974834</td>\n",
              "      <td>86.157096</td>\n",
              "      <td>10.270654</td>\n",
              "      <td>0.513533</td>\n",
              "    </tr>\n",
              "    <tr>\n",
              "      <th>55309</th>\n",
              "      <td>947c249c7f31f3eae2bd05454e1b2040</td>\n",
              "      <td>1.0</td>\n",
              "      <td>1.0</td>\n",
              "      <td>480.0</td>\n",
              "      <td>219.99</td>\n",
              "      <td>0.889094</td>\n",
              "      <td>0.110906</td>\n",
              "      <td>0.024858</td>\n",
              "      <td>365.0</td>\n",
              "      <td>364.975142</td>\n",
              "      <td>178.311096</td>\n",
              "      <td>21.052374</td>\n",
              "      <td>1.052619</td>\n",
              "    </tr>\n",
              "    <tr>\n",
              "      <th>32944</th>\n",
              "      <td>582183483d33018384b309d31c45f353</td>\n",
              "      <td>1.0</td>\n",
              "      <td>1.0</td>\n",
              "      <td>499.0</td>\n",
              "      <td>164.33</td>\n",
              "      <td>0.892267</td>\n",
              "      <td>0.107733</td>\n",
              "      <td>0.024052</td>\n",
              "      <td>365.0</td>\n",
              "      <td>364.975948</td>\n",
              "      <td>144.340027</td>\n",
              "      <td>16.604642</td>\n",
              "      <td>0.830232</td>\n",
              "    </tr>\n",
              "    <tr>\n",
              "      <th>93116</th>\n",
              "      <td>f9ae226291893fda10af7965268fb7f6</td>\n",
              "      <td>1.0</td>\n",
              "      <td>2.0</td>\n",
              "      <td>543.0</td>\n",
              "      <td>79.90</td>\n",
              "      <td>0.892007</td>\n",
              "      <td>0.107993</td>\n",
              "      <td>0.023875</td>\n",
              "      <td>182.5</td>\n",
              "      <td>182.476125</td>\n",
              "      <td>92.809713</td>\n",
              "      <td>10.761130</td>\n",
              "      <td>0.538057</td>\n",
              "    </tr>\n",
              "    <tr>\n",
              "      <th>14104</th>\n",
              "      <td>25a560b9a6006157838aab1bdbd68624</td>\n",
              "      <td>1.0</td>\n",
              "      <td>1.0</td>\n",
              "      <td>513.0</td>\n",
              "      <td>31.80</td>\n",
              "      <td>0.894500</td>\n",
              "      <td>0.105500</td>\n",
              "      <td>0.023482</td>\n",
              "      <td>365.0</td>\n",
              "      <td>364.976518</td>\n",
              "      <td>63.452753</td>\n",
              "      <td>7.162302</td>\n",
              "      <td>0.358115</td>\n",
              "    </tr>\n",
              "    <tr>\n",
              "      <th>81873</th>\n",
              "      <td>db539c729198334582efc7b53c803c79</td>\n",
              "      <td>1.0</td>\n",
              "      <td>1.0</td>\n",
              "      <td>518.0</td>\n",
              "      <td>49.90</td>\n",
              "      <td>0.895277</td>\n",
              "      <td>0.104723</td>\n",
              "      <td>0.023284</td>\n",
              "      <td>365.0</td>\n",
              "      <td>364.976716</td>\n",
              "      <td>74.499759</td>\n",
              "      <td>8.352726</td>\n",
              "      <td>0.417636</td>\n",
              "    </tr>\n",
              "    <tr>\n",
              "      <th>61897</th>\n",
              "      <td>a5d3bfee5b23b430b95c4ae295e1028a</td>\n",
              "      <td>1.0</td>\n",
              "      <td>2.0</td>\n",
              "      <td>590.0</td>\n",
              "      <td>9.90</td>\n",
              "      <td>0.898836</td>\n",
              "      <td>0.101164</td>\n",
              "      <td>0.022113</td>\n",
              "      <td>182.5</td>\n",
              "      <td>182.477887</td>\n",
              "      <td>50.086486</td>\n",
              "      <td>5.460568</td>\n",
              "      <td>0.273028</td>\n",
              "    </tr>\n",
              "    <tr>\n",
              "      <th>77536</th>\n",
              "      <td>cfdaaa0caea59b06efb4b0fb8c700684</td>\n",
              "      <td>1.0</td>\n",
              "      <td>1.0</td>\n",
              "      <td>550.0</td>\n",
              "      <td>99.90</td>\n",
              "      <td>0.900014</td>\n",
              "      <td>0.099986</td>\n",
              "      <td>0.022068</td>\n",
              "      <td>365.0</td>\n",
              "      <td>364.977932</td>\n",
              "      <td>105.016349</td>\n",
              "      <td>11.281328</td>\n",
              "      <td>0.564066</td>\n",
              "    </tr>\n",
              "    <tr>\n",
              "      <th>92379</th>\n",
              "      <td>f7b62c75467e8ce080b201667cbbc274</td>\n",
              "      <td>1.0</td>\n",
              "      <td>1.0</td>\n",
              "      <td>697.0</td>\n",
              "      <td>30.97</td>\n",
              "      <td>0.917614</td>\n",
              "      <td>0.082386</td>\n",
              "      <td>0.017512</td>\n",
              "      <td>365.0</td>\n",
              "      <td>364.982488</td>\n",
              "      <td>62.946178</td>\n",
              "      <td>5.601859</td>\n",
              "      <td>0.280093</td>\n",
              "    </tr>\n",
              "  </tbody>\n",
              "</table>\n",
              "</div>"
            ],
            "text/plain": [
              "                     customer_unique_id  frequency  ...  predicted_clv_p     CLV_p\n",
              "20327  36445bb429c8bb13c3f8cd6794723647        1.0  ...         8.432224  0.421611\n",
              "54178  917de9fb824d070a7f1f4db097cbea8d        1.0  ...        10.270654  0.513533\n",
              "55309  947c249c7f31f3eae2bd05454e1b2040        1.0  ...        21.052374  1.052619\n",
              "32944  582183483d33018384b309d31c45f353        1.0  ...        16.604642  0.830232\n",
              "93116  f9ae226291893fda10af7965268fb7f6        1.0  ...        10.761130  0.538057\n",
              "14104  25a560b9a6006157838aab1bdbd68624        1.0  ...         7.162302  0.358115\n",
              "81873  db539c729198334582efc7b53c803c79        1.0  ...         8.352726  0.417636\n",
              "61897  a5d3bfee5b23b430b95c4ae295e1028a        1.0  ...         5.460568  0.273028\n",
              "77536  cfdaaa0caea59b06efb4b0fb8c700684        1.0  ...        11.281328  0.564066\n",
              "92379  f7b62c75467e8ce080b201667cbbc274        1.0  ...         5.601859  0.280093\n",
              "\n",
              "[10 rows x 13 columns]"
            ]
          },
          "metadata": {},
          "execution_count": 87
        }
      ]
    },
    {
      "cell_type": "markdown",
      "metadata": {
        "id": "6H6ZFUdbTxxV"
      },
      "source": [
        "#Purchase Prediction Result Summary"
      ]
    },
    {
      "cell_type": "code",
      "metadata": {
        "id": "uvWRCAr0T0Rw"
      },
      "source": [
        "indexes = [\"MSE Purchase Error\", \"RMSE Purchase Error\",\"Avg Purchase Error\"]\n"
      ],
      "execution_count": null,
      "outputs": []
    },
    {
      "cell_type": "code",
      "metadata": {
        "id": "jCGIyasKT2vm"
      },
      "source": [
        "\n",
        "data = [[pareto_mse_purchase],\n",
        "[pareto_rmse_purchase], [pareto_avg_error_purchase]]"
      ],
      "execution_count": null,
      "outputs": []
    },
    {
      "cell_type": "code",
      "metadata": {
        "id": "xfwyESmpUB9D"
      },
      "source": [
        "model_purchase_result = pd.DataFrame(data, columns = [\"Pareto-NBD\"], index = indexes)\n"
      ],
      "execution_count": null,
      "outputs": []
    },
    {
      "cell_type": "code",
      "metadata": {
        "colab": {
          "base_uri": "https://localhost:8080/",
          "height": 142
        },
        "id": "6hl3--e8UGtv",
        "outputId": "4ce738fe-efd7-40c0-b9e1-020718ba911a"
      },
      "source": [
        "model_purchase_result"
      ],
      "execution_count": null,
      "outputs": [
        {
          "output_type": "execute_result",
          "data": {
            "text/html": [
              "<div>\n",
              "<style scoped>\n",
              "    .dataframe tbody tr th:only-of-type {\n",
              "        vertical-align: middle;\n",
              "    }\n",
              "\n",
              "    .dataframe tbody tr th {\n",
              "        vertical-align: top;\n",
              "    }\n",
              "\n",
              "    .dataframe thead th {\n",
              "        text-align: right;\n",
              "    }\n",
              "</style>\n",
              "<table border=\"1\" class=\"dataframe\">\n",
              "  <thead>\n",
              "    <tr style=\"text-align: right;\">\n",
              "      <th></th>\n",
              "      <th>Pareto-NBD</th>\n",
              "    </tr>\n",
              "  </thead>\n",
              "  <tbody>\n",
              "    <tr>\n",
              "      <th>MSE Purchase Error</th>\n",
              "      <td>86.218534</td>\n",
              "    </tr>\n",
              "    <tr>\n",
              "      <th>RMSE Purchase Error</th>\n",
              "      <td>9.285394</td>\n",
              "    </tr>\n",
              "    <tr>\n",
              "      <th>Avg Purchase Error</th>\n",
              "      <td>0.480401</td>\n",
              "    </tr>\n",
              "  </tbody>\n",
              "</table>\n",
              "</div>"
            ],
            "text/plain": [
              "                     Pareto-NBD\n",
              "MSE Purchase Error    86.218534\n",
              "RMSE Purchase Error    9.285394\n",
              "Avg Purchase Error     0.480401"
            ]
          },
          "metadata": {},
          "execution_count": 96
        }
      ]
    },
    {
      "cell_type": "markdown",
      "metadata": {
        "id": "5RnbcXvcPRpB"
      },
      "source": [
        "# Churn Risk"
      ]
    },
    {
      "cell_type": "code",
      "metadata": {
        "colab": {
          "base_uri": "https://localhost:8080/",
          "height": 302
        },
        "id": "_N0nzlpgCru1",
        "outputId": "b3799113-9724-4709-bf36-0fb00803ae15"
      },
      "source": [
        "df = rfm_summary[rfm_summary['frequency']>0]\n",
        "df['prob_alive'] = pareto_nbd.conditional_probability_alive(df['frequency'],df['recency'],df['T'])\n",
        "sns.distplot(df['prob_alive'])"
      ],
      "execution_count": null,
      "outputs": [
        {
          "output_type": "execute_result",
          "data": {
            "text/plain": [
              "<matplotlib.axes._subplots.AxesSubplot at 0x7fbceec49c10>"
            ]
          },
          "metadata": {},
          "execution_count": 88
        },
        {
          "output_type": "display_data",
          "data": {
            "image/png": "[encoded data removed]",
            "text/plain": [
              "<Figure size 432x288 with 1 Axes>"
            ]
          },
          "metadata": {}
        }
      ]
    },
    {
      "cell_type": "code",
      "metadata": {
        "colab": {
          "base_uri": "https://localhost:8080/",
          "height": 203
        },
        "id": "Sr8OEhloC1_B",
        "outputId": "4e9af896-53e5-4863-ccc4-8408217903c4"
      },
      "source": [
        "df.head()\n"
      ],
      "execution_count": null,
      "outputs": [
        {
          "output_type": "execute_result",
          "data": {
            "text/html": [
              "<div>\n",
              "<style scoped>\n",
              "    .dataframe tbody tr th:only-of-type {\n",
              "        vertical-align: middle;\n",
              "    }\n",
              "\n",
              "    .dataframe tbody tr th {\n",
              "        vertical-align: top;\n",
              "    }\n",
              "\n",
              "    .dataframe thead th {\n",
              "        text-align: right;\n",
              "    }\n",
              "</style>\n",
              "<table border=\"1\" class=\"dataframe\">\n",
              "  <thead>\n",
              "    <tr style=\"text-align: right;\">\n",
              "      <th></th>\n",
              "      <th>customer_unique_id</th>\n",
              "      <th>frequency</th>\n",
              "      <th>recency</th>\n",
              "      <th>T</th>\n",
              "      <th>monetary_value</th>\n",
              "      <th>prob_alive</th>\n",
              "    </tr>\n",
              "  </thead>\n",
              "  <tbody>\n",
              "    <tr>\n",
              "      <th>106</th>\n",
              "      <td>004288347e5e88a27ded2bb23747066c</td>\n",
              "      <td>1.0</td>\n",
              "      <td>171.0</td>\n",
              "      <td>403.0</td>\n",
              "      <td>87.90</td>\n",
              "      <td>0.663668</td>\n",
              "    </tr>\n",
              "    <tr>\n",
              "      <th>123</th>\n",
              "      <td>004b45ec5c64187465168251cd1c9c2f</td>\n",
              "      <td>1.0</td>\n",
              "      <td>267.0</td>\n",
              "      <td>367.0</td>\n",
              "      <td>27.00</td>\n",
              "      <td>0.864782</td>\n",
              "    </tr>\n",
              "    <tr>\n",
              "      <th>143</th>\n",
              "      <td>0058f300f57d7b93c477a131a59b36c3</td>\n",
              "      <td>1.0</td>\n",
              "      <td>31.0</td>\n",
              "      <td>196.0</td>\n",
              "      <td>72.58</td>\n",
              "      <td>0.443139</td>\n",
              "    </tr>\n",
              "    <tr>\n",
              "      <th>246</th>\n",
              "      <td>00a39521eb40f7012db50455bf083460</td>\n",
              "      <td>1.0</td>\n",
              "      <td>11.0</td>\n",
              "      <td>103.0</td>\n",
              "      <td>11.55</td>\n",
              "      <td>0.419816</td>\n",
              "    </tr>\n",
              "    <tr>\n",
              "      <th>410</th>\n",
              "      <td>011575986092c30523ecb71ff10cb473</td>\n",
              "      <td>1.0</td>\n",
              "      <td>60.0</td>\n",
              "      <td>198.0</td>\n",
              "      <td>63.90</td>\n",
              "      <td>0.585362</td>\n",
              "    </tr>\n",
              "  </tbody>\n",
              "</table>\n",
              "</div>"
            ],
            "text/plain": [
              "                   customer_unique_id  frequency  ...  monetary_value  prob_alive\n",
              "106  004288347e5e88a27ded2bb23747066c        1.0  ...           87.90    0.663668\n",
              "123  004b45ec5c64187465168251cd1c9c2f        1.0  ...           27.00    0.864782\n",
              "143  0058f300f57d7b93c477a131a59b36c3        1.0  ...           72.58    0.443139\n",
              "246  00a39521eb40f7012db50455bf083460        1.0  ...           11.55    0.419816\n",
              "410  011575986092c30523ecb71ff10cb473        1.0  ...           63.90    0.585362\n",
              "\n",
              "[5 rows x 6 columns]"
            ]
          },
          "metadata": {},
          "execution_count": 89
        }
      ]
    },
    {
      "cell_type": "code",
      "metadata": {
        "colab": {
          "base_uri": "https://localhost:8080/",
          "height": 302
        },
        "id": "RHWMJMoQC-d7",
        "outputId": "a62ee011-03d4-4d46-d0b6-27a9d9412386"
      },
      "source": [
        "df['churn'] = ['churned' if p < 0.1 else 'not churned' for p in df['prob_alive']]\n",
        "sns.countplot(df['churn'])"
      ],
      "execution_count": null,
      "outputs": [
        {
          "output_type": "execute_result",
          "data": {
            "text/plain": [
              "<matplotlib.axes._subplots.AxesSubplot at 0x7fbceedcbbd0>"
            ]
          },
          "metadata": {},
          "execution_count": 90
        },
        {
          "output_type": "display_data",
          "data": {
            "image/png": "[encoded data removed]",
            "text/plain": [
              "<Figure size 432x288 with 1 Axes>"
            ]
          },
          "metadata": {}
        }
      ]
    },
    {
      "cell_type": "code",
      "metadata": {
        "colab": {
          "base_uri": "https://localhost:8080/"
        },
        "id": "Ud32lXoQDDyW",
        "outputId": "9b5a6e4e-057e-4b1b-8641-35add05270fc"
      },
      "source": [
        "df['churn'][(df['prob_alive']>=0.1) & (df['prob_alive']<0.2)] = \"high risk\"\n",
        "df['churn'].value_counts()"
      ],
      "execution_count": null,
      "outputs": [
        {
          "output_type": "execute_result",
          "data": {
            "text/plain": [
              "not churned    1951\n",
              "high risk       132\n",
              "churned           2\n",
              "Name: churn, dtype: int64"
            ]
          },
          "metadata": {},
          "execution_count": 92
        }
      ]
    },
    {
      "cell_type": "markdown",
      "metadata": {
        "id": "86gzrtgBX_-R"
      },
      "source": [
        "#Action and Recomendation"
      ]
    },
    {
      "cell_type": "markdown",
      "metadata": {
        "id": "_MkeIoPVYDQO"
      },
      "source": [
        "not churned:\n",
        "\n",
        "\n",
        "1.   Reward Customers\n",
        "2.   Serve them additional benefits to ensure that they remain loyal customers(VIP).\n",
        "\n",
        "high risk:\n",
        "\n",
        "\n",
        "1.   Identify what happens when a customer defects.\n",
        "2.   Set up alerts to get more details.\n",
        "3.   Know the ideal customer journey.\n",
        "4.   Don’t be afraid of the exit interview.\n",
        "5.   Treat former customers like friends, not enemies.\n",
        "\n",
        "churned:\n",
        "\n",
        "\n",
        "1.   Give better service\n",
        "2.   Pay attention to complaints\n",
        "\n",
        "\n",
        "\n",
        "\n"
      ]
    }
  ]
}